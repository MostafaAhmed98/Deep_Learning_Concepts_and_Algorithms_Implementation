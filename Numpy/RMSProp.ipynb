{
 "cells": [
  {
   "cell_type": "markdown",
   "metadata": {},
   "source": [
    "# MNIST Data Preprocessing\n",
    "1. **Loads MNIST dataset:**\n",
    "    - `(x_train, y_train), (x_test, y_test) = mnist.load_data()`\n",
    "2. **Prepares training data:**\n",
    "    - Reshapes first 60000 images: `images = x_train[0:60000].reshape(60000, 28*28) / 255`\n",
    "    - One-hot encodes labels: `labels = np.zeros((len(labels), 10)); ...`\n",
    "3. **Prepares test data:**\n",
    "    - Reshapes and normalizes all test images: `test_images_all = x_test.reshape(len(x_test), 28*28) / 255`\n",
    "    - One-hot encodes test labels: `test_labels_all = np.zeros((len(y_test), 10)); ...`\n",
    "    - Selects first 6000 test images and labels: `test_images, test_labels = test_images_all[0:6000], test_labels_all[0:6000]`\n",
    "\n"
   ]
  },
  {
   "cell_type": "code",
   "execution_count": 35,
   "metadata": {},
   "outputs": [],
   "source": [
    "import sys, numpy as np\n",
    "from keras.datasets import mnist\n",
    "import matplotlib.pyplot as plt\n",
    "# Preparing the data\n",
    "(x_train, y_train), (x_test, y_test) = mnist.load_data()\n",
    "images, labels = (x_train[0:60000].reshape(60000,28*28) / 255, y_train[0:60000])\n",
    "one_hot_labels = np.zeros((len(labels), 10))\n",
    "for i, l in enumerate(labels):\n",
    "    one_hot_labels[i][l] = 1\n",
    "labels = one_hot_labels\n",
    "\n",
    "test_images_all = x_test.reshape(len(x_test), 28*28) / 255\n",
    "test_labels_all = np.zeros((len(y_test), 10))\n",
    "for i, l in enumerate(y_test):\n",
    "    test_labels_all[i][l] = 1\n",
    "test_images = test_images_all[0:6000]\n",
    "test_labels = test_labels_all[0:6000]"
   ]
  },
  {
   "cell_type": "code",
   "execution_count": 36,
   "metadata": {},
   "outputs": [
    {
     "name": "stdout",
     "output_type": "stream",
     "text": [
      "The shape of Training images: (60000, 784)\n",
      "The shape of Training labels: (60000, 10)\n",
      "The shape of test images: (6000, 784)\n",
      "The shape of test labels: (6000, 10)\n"
     ]
    }
   ],
   "source": [
    "print(f'The shape of Training images: {images.shape}')\n",
    "print(f'The shape of Training labels: {labels.shape}')\n",
    "print(f'The shape of test images: {test_images.shape}')\n",
    "print(f'The shape of test labels: {test_labels.shape}')"
   ]
  },
  {
   "cell_type": "markdown",
   "metadata": {},
   "source": [
    "# Model Initialization\n",
    "\n",
    "- **Layer Definitions:**\n",
    "    - `HIDDEN_LAYER_SIZE = 100`: Number of neurons in the hidden layer.\n",
    "    - `OUTPUT_LAYER_SIZE = 10`: Number of neurons in the output layer (matching 10 digits in MNIST).\n",
    "    - `INPUT_LAYER_SIZE = images.shape[1]`: Number of input features (784 pixels for MNIST images).\n",
    "- **Model Weights and Biases:**\n",
    "    - `W1`: Weights connecting input layer to hidden layer (784x100 matrix).\n",
    "    - `b1`: Biases for hidden layer neurons (1x100 vector).\n",
    "    - `W2`: Weights connecting hidden layer to output layer (100x10 matrix).\n",
    "    - `b2`: Biases for output layer neurons (1x10 vector).\n",
    "- **Random Initialization:**\n",
    "    - Weights are initialized with small random values between -1 and 1 for better learning.\n",
    "    - Biases are initialized to zero.\n",
    "\n",
    "**Purpose:**\n",
    "\n",
    "- Creates a basic neural network model with one hidden layer, ready for training on the prepared MNIST data.\n",
    "```**\n"
   ]
  },
  {
   "cell_type": "code",
   "execution_count": 37,
   "metadata": {},
   "outputs": [],
   "source": [
    "HIDDEN_LAYER_SIZE = 100\n",
    "OUTPUT_LAYER_SIZE = 10\n",
    "INPUT_LAYER_SIZE = images.shape[1]\n",
    "epsilon = 1e-8\n",
    "model = {\n",
    "    'W1': 2 * np.random.random((INPUT_LAYER_SIZE, HIDDEN_LAYER_SIZE)) - 1, # 784 x HIDDEN_LAYER_SIZE\n",
    "    'b1': np.zeros((1, HIDDEN_LAYER_SIZE)), # 1 x HIDDEN_LAYER_SIZE\n",
    "    'W2': 2 * np.random.random((HIDDEN_LAYER_SIZE, OUTPUT_LAYER_SIZE)) - 1, # HIDDEN_LAYER_SIZE x OUTPUT_LAYER_SIZE\n",
    "    'b2': np.zeros((1, OUTPUT_LAYER_SIZE)) # 1 x OUTPUT_LAYER_SIZE\n",
    "}\n"
   ]
  },
  {
   "cell_type": "markdown",
   "metadata": {},
   "source": [
    "# Activation Functions\n",
    "\n",
    "**Defined Functions:**\n",
    "\n",
    "- **`sigmoid(x)`:**\n",
    "    - S-shaped curve that maps input values between 0 and 1.\n",
    "    - Commonly used in output layers for binary classification.\n",
    "    - `np.clip(x, -50, 50)` prevents numerical overflow.\n",
    "- **`sigmoid_derivative(x)`:**\n",
    "    - Calculates the derivative of the sigmoid function, used for backpropagation.\n",
    "- **`relu(x)`:**\n",
    "    - Rectified Linear Unit, outputs 0 for negative inputs and the input value itself for positive inputs.\n",
    "    - Promotes sparsity and helps prevent vanishing gradients.\n",
    "- **`relu2deriv(output)`:**\n",
    "    - Derivative of ReLU, used for backpropagation.\n",
    "\n",
    "**Purpose:**\n",
    "\n",
    "- These functions introduce non-linearity into neural networks, enabling them to learn complex patterns and decision boundaries.\n",
    "- They are essential for the training process, as they determine how neurons transform their inputs into outputs and how errors are propagated back to adjust weights and biases.\n",
    "```**\n"
   ]
  },
  {
   "cell_type": "code",
   "execution_count": 38,
   "metadata": {},
   "outputs": [],
   "source": [
    "def sigmoid(x):\n",
    "    x = np.clip(x, -50, 50)\n",
    "    return 1 / (1 + np.exp(-x))\n",
    "def sigmoid_derivative(x):\n",
    "    return sigmoid(x) * (1 - sigmoid(x))\n",
    "\n",
    "def relu(x):\n",
    "    return (x > 0) * x\n",
    "def relu2deriv(output):\n",
    "    return output > 0"
   ]
  },
  {
   "cell_type": "markdown",
   "metadata": {},
   "source": [
    " **exponentially weighted averages (EWMAs) (The way how we looking at the last grdients):**\n",
    "\n",
    "**What they are:**\n",
    "\n",
    "- A way to calculate an average that gives more weight to recent data points, making it especially useful for tracking trends in time-series data.\n",
    "- It achieves this by assigning decreasing weights to older data points in an exponential manner—like an echo that gradually fades away.\n",
    "\n",
    "**How they work:**\n",
    "\n",
    "1. **Choose a weighting parameter (β):** This value, between 0 and 1, determines how quickly the weights decline. Higher β values place more emphasis on recent data.\n",
    "2. **Initialize the EWMA:** Start with the first data point as the initial EWMA value.\n",
    "3. **Calculate the EWMA for each subsequent data point:**\n",
    "   - Use the formula: `EWMA_t = β * EWMA_(t-1) + (1 - β) * x_t`\n",
    "      - `EWMA_t` is the EWMA at time t\n",
    "      - `EWMA_(t-1)` is the previous EWMA value\n",
    "      - `x_t` is the current data point\n",
    "4. **Update iteratively:** The EWMA value is updated with each new data point, creating a smooth, responsive average that reflects the most recent trends."
   ]
  },
  {
   "cell_type": "code",
   "execution_count": 81,
   "metadata": {},
   "outputs": [
    {
     "name": "stdout",
     "output_type": "stream",
     "text": [
      "New input from the data is: 12 and the EMWA new value is 10\n",
      "New input from the data is: 15 and the EMWA new value is 10.2\n",
      "New input from the data is: 13 and the EMWA new value is 10.68\n",
      "New input from the data is: 18 and the EMWA new value is 10.911999999999999\n",
      "New input from the data is: 16 and the EMWA new value is 11.6208\n",
      "New input from the data is: 20 and the EMWA new value is 12.05872\n",
      "New input from the data is: 14 and the EMWA new value is 12.852848\n",
      "New input from the data is: 10 and the EMWA new value is 12.9675632\n",
      "New input from the data is: 16 and the EMWA new value is 12.67080688\n",
      "Exponentially Weighted Average: 13.003726192\n"
     ]
    }
   ],
   "source": [
    "# Data to be smoothed (e.g., a stock's price over time)\n",
    "data = np.array([10, 12, 15, 13, 18, 16, 20, 14, 10, 16])\n",
    "\n",
    "# Parameter controlling the weight given to recent data (between 0 and 1)\n",
    "beta = 0.9\n",
    "\n",
    "# Initialize the first value of the EWMA\n",
    "t_1 = data[0] # 10\n",
    "\n",
    "# Calculate the EWMA for each subsequent data point\n",
    "for value in data[1:]:\n",
    "    print(f'New input from the data is: {value} and the EMWA new value is {t_1}')\n",
    "    t_1 = beta * t_1 + (1 - beta) * value \n",
    "\n",
    "print(\"Exponentially Weighted Average:\", t_1)"
   ]
  },
  {
   "cell_type": "markdown",
   "metadata": {},
   "source": [
    "## RMSProp\n",
    "\n",
    "**Code Breakdown:**\n",
    "\n",
    "1. **Initialization:**\n",
    "   - `num_samples` stores the total number of images.\n",
    "   - `sdw2`, `sdw1`, `sdb1`, `sdb2` are initialized to 0 to store squared gradients for weights and biases.\n",
    "\n",
    "2. **Iteration Loop:**\n",
    "   - Iterates through mini-batches of images and labels:\n",
    "     - **Forward pass:** Calculates activations in hidden and output layers.\n",
    "     - **Error calculation:** Computes the difference between predictions and true labels.\n",
    "     - **Backpropagation:** Calculates gradients for weights and biases.\n",
    "     - **Weights update (RMSProp):**\n",
    "       - Updates squared gradient history for weights and biases.\n",
    "       - Updates weights using current gradients divided by the square root of their squared history (for adaptive learning rates).\n",
    "       - Updates biases directly without division (RMSProp convention).\n",
    "     - **Learning rate decay:** Decreases learning rate over time.\n",
    "\n",
    "3. **Return Model:**\n",
    "   - Returns the trained model with updated weights and biases.\n",
    "\n",
    "**RMSProp (Root Mean Square Propagation):**\n",
    "\n",
    "- **Adaptive Learning Rates:** Adjusts learning rates for each parameter based on their historical gradients to improve convergence and stability.\n",
    "- **Key Idea:** Divide the current gradient by the square root of the exponentially weighted average of its squared past values.\n",
    "- **Technical Implementation:**\n",
    "   1. Maintain a running average of squared gradients (`sdw` and `sdb` in the code).\n",
    "   2. Update weights using: `weight -= learning_rate * gradient / sqrt(squared_gradient_average + epsilon)`\n",
    "   3. Biases are typically updated directly without division.\n",
    "- **Benefits:**\n",
    "   - Faster convergence compared to standard gradient descent.\n",
    "   - Works well with noisy gradients or steep curvatures in the error surface.\n",
    "   - Often used in deep learning with non-convex optimization problems.\n",
    "- **Hyperparameters:**\n",
    "   - `beta`: Controls the decay rate of the squared gradient history (typically between 0.9 and 0.99).\n",
    "   - `epsilon`: A small constant added to the denominator to prevent division by zero (common value: 1e-8).\n",
    "\n",
    "\n"
   ]
  },
  {
   "cell_type": "markdown",
   "metadata": {},
   "source": [
    " **Explaination of the `train_mnist` function:**\n",
    "\n",
    "**1. Function Purpose:**\n",
    "- Trains a neural network model on the MNIST dataset using mini-batch gradient descent.\n",
    "\n",
    "**2. Parameters:**\n",
    "- `images`: Input images (array of shape `(num_samples, 784)`).\n",
    "- `labels`: True labels (array of shape `(num_samples, OUTPUT_LAYER_SIZE)`).\n",
    "- `model`: Dictionary containing model weights and biases.\n",
    "- `lr`: Learning rate (default: 0.01).\n",
    "- `Beta`: The Beta coefficient (typically between 0.5 and 0.9) controls how much influence previous gradients have on the current update (default: 0.9).\n",
    "- `decay_rate`: Learning rate decay rate (default: 0.95).\n",
    "- `mini_batch_size`: Size of mini-batches (default: 128).\n",
    "\n",
    "**3. Steps:**\n",
    "\n",
    "1. **Mini-Batch Loop:**\n",
    "   - Iterates through the dataset in mini-batches.\n",
    "2. **Extract Mini-Batch:**\n",
    "   - Gets a subset of images and labels for the current mini-batch.\n",
    "3. **Forward Pass:**\n",
    "   - Calculates outputs for the mini-batch using the model.\n",
    "   - Applies ReLU in the hidden layer and sigmoid in the output layer.\n",
    "4. **Calculate Error:**\n",
    "   - Computes the difference between predicted outputs and true labels.\n",
    "5. **Backpropagation:**\n",
    "   - Calculates error gradients for the output and hidden layers.\n",
    "   - Uses derivatives of ReLU and sigmoid functions.\n",
    "6. **Weights Update:**\n",
    "   - Calculating the squared gradient of each weight and biases.\n",
    "   - Adjusts model weights and biases based on the gradients divided by the squared_gradient_average + epsilon (Ensure that squared_gradient_average is not zero by adding a small value).\n",
    "7. **Learning Rate Decay:**\n",
    "   - Decreases the learning rate after each mini-batch to aid convergence.\n",
    "8. **Return Updated Model:**\n",
    "   - Returns the model with updated weights and biases.\n"
   ]
  },
  {
   "cell_type": "code",
   "execution_count": 39,
   "metadata": {},
   "outputs": [],
   "source": [
    "def train_mnist(images, labels, model, lr=0.01, beta=0.9, decay_rate=0.95, mini_batch_size=128):\n",
    "    num_samples = len(images)\n",
    "    sdw2 = 0\n",
    "    sdw1 = 0\n",
    "    sdb1 = 0\n",
    "    sdb2 = 0\n",
    "        \n",
    "    for i in range(0, num_samples, mini_batch_size):\n",
    "        # Extract mini-batch\n",
    "        batch_images = images[i:i+mini_batch_size] \n",
    "        batch_labels = labels[i:i+mini_batch_size] \n",
    "        \n",
    "        # Forward pass\n",
    "        hidden_layer = relu(batch_images.dot(model['W1']) + model['b1']) # BATCHSIZE x 784 * 784 x HIDDEN_LAYER_SIZE = BATCHSIZE x HIDDEN_LAYER_SIZE\n",
    "        output_layer = sigmoid(hidden_layer.dot(model['W2']) + model['b2']) # BATCHSIZE x HIDDEN_LAYER_SIZE * HIDDEN_LAYER_SIZE x OUTPUT_LAYER_SIZE = BATCHSIZE x OUTPUT_LAYER_SIZE\n",
    "\n",
    "        # Calculate the error/loss\n",
    "        error = output_layer - batch_labels # BATCHSIZE x OUTPUT_LAYER_SIZE # calculates the pure error, or loss, which is used for computing derivatives in backpropagation\n",
    "\n",
    "        # Backpropagation\n",
    "        output_layer_delta = error * sigmoid_derivative(output_layer) # BATCHSIZE x OUTPUT_LAYER_SIZE\n",
    "        hidden_layer_delta = output_layer_delta.dot(model['W2'].T) * relu2deriv(hidden_layer) # BATCHSIZE x OUTPUT_LAYER_SIZE * OUTPUT_LAYER_SIZE x HIDDEN_LAYER_SIZE = BATCHSIZE x HIDDEN_LAYER_SIZE\n",
    "\n",
    "        # Weights Update\n",
    "        sdw2 = beta * sdw2 + (1 - beta) * (hidden_layer.T.dot(output_layer_delta) ** 2) # HIDDEN_LAYER_SIZE x OUTPUT_LAYER_SIZE\n",
    "        model['W2'] -= lr * (hidden_layer.T.dot(output_layer_delta)/np.sqrt(sdw2 + epsilon)) \n",
    "        sdw1 = beta * sdw1 + (1 - beta) * (batch_images.T.dot(hidden_layer_delta) ** 2) # INPUT_LAYER_SIZE x HIDDEN_LAYER_SIZE\n",
    "        model['W1'] -= lr * (batch_images.T.dot(hidden_layer_delta)/np.sqrt(sdw1 + epsilon))\n",
    "        \n",
    "        sdb2 = beta * sdb2 + (1 - beta) * np.mean(output_layer_delta ** 2) # meaning the output_layer_delta to convert its shape from BTACHSIZE x OUTPUT_LAYER_SIZE to b size\n",
    "        model['b2'] -= sdb2 # 1 x HIDDEN_LAYER_SIZE\n",
    "        sdb1 = beta * sdb1 + (1 - beta) * np.mean(hidden_layer_delta ** 2) # meaning the hidden_layer_delta to convert its shape from BTACHSIZE x HIDDEN_LAYER_SIZE to b size\n",
    "        model['b1'] -= sdb1 # 1 x OUTPUT_LAYER_SIZE\n",
    "\n",
    "    # Learning rate decay\n",
    "    lr *= decay_rate\n",
    "\n",
    "    return model\n"
   ]
  },
  {
   "cell_type": "markdown",
   "metadata": {},
   "source": [
    " **Implementation of the prediction and evaluation function**\n",
    "\n",
    "**1. `model_prediction(model, X)`:**\n",
    "\n",
    "- **Purpose:** Generates predictions for given inputs using the model.\n",
    "- **Steps:**\n",
    "    1. **Calculate hidden layer outputs:** Applies ReLU activation to the weighted sum of inputs and hidden layer weights (`model['W1']`) plus biases (`model['b1']`).\n",
    "    2. **Calculate output layer outputs:** Applies sigmoid activation to the weighted sum of hidden layer outputs and output layer weights (`model['W2']`) plus biases (`model['b2']`).\n",
    "    3. **Return output layer:** Returns raw output scores from the output layer, representing predicted probabilities (or confidence scores) for each class.\n",
    "\n",
    "**2. `evaluate_accuracy(model, X, y_true)`:**\n",
    "\n",
    "- **Purpose:** Calculates overall accuracy of the model's predictions on a dataset.\n",
    "- **Steps:**\n",
    "    1. **Generate model predictions:** Calls `model_prediction` to get predictions for all inputs in `X`.\n",
    "    2. **Extract predicted labels:** Finds the index of the highest-scoring class for each prediction using `np.argmax`.\n",
    "    3. **Extract true labels:** Extracts true class labels from `y_true` (assuming one-hot encoded).\n",
    "    4. **Compare predictions and true labels:** Calculates the proportion of correct predictions.\n",
    "    5. **Return accuracy:** Returns the overall accuracy as a percentage.\n",
    "\n",
    "**3. `evaluate_accuracy_one_sample(model, X, y_true)`:**\n",
    "\n",
    "- **Purpose:** Evaluates accuracy for a single sample (input and true label).\n",
    "- **Steps:**\n",
    "    1. **Generate model prediction:** Calls `model_prediction` for the single input `X`.\n",
    "    2. **Extract predicted label:** Finds the index of the highest-scoring class in the prediction.\n",
    "    3. **Extract true label:** Extracts the true class label from `y_true`.\n",
    "    4. **Compare prediction and true label:** Checks if they match.\n",
    "    5. **Return accuracy:** Returns `True` if prediction is correct, `False` otherwise.\n"
   ]
  },
  {
   "cell_type": "code",
   "execution_count": 40,
   "metadata": {},
   "outputs": [],
   "source": [
    "def model_prediction(model, X):\n",
    "    hidden_layer = relu(X.dot(model['W1']) + model['b1']) \n",
    "    output_layer = sigmoid(hidden_layer.dot(model['W2']) + model['b2']) \n",
    "    return output_layer\n",
    "\n",
    "def evaluate_accuracy(model, X, y_true):\n",
    "    predictions = model_prediction(model, X)\n",
    "    predicted_labels = np.argmax(predictions, axis=1)\n",
    "    true_labels = np.argmax(y_true, axis=1)\n",
    "    \n",
    "    accuracy = np.mean(predicted_labels == true_labels)\n",
    "    return accuracy\n",
    "def evaluate_accuracy_one_sample(model, X, y_true):\n",
    "    predictions = model_prediction(model, X)\n",
    "    predicted_labels = np.argmax(predictions)\n",
    "    true_labels = np.argmax(y_true)\n",
    "    \n",
    "    accuracy = predicted_labels == true_labels\n",
    "    return accuracy\n"
   ]
  },
  {
   "cell_type": "markdown",
   "metadata": {},
   "source": [
    "**1. Training Setup:**\n",
    "\n",
    "- **Lists for Accuracies:** `train_accuracies` and `val_accuracies` store accuracies from each epoch for tracking progress.\n",
    "- **Early Stopping:**\n",
    "    - `no_improvement_count` tracks epochs without validation improvement.\n",
    "    - `patience` sets the maximum number of epochs without improvement before stopping (50 in this case).\n",
    "    - `best_val_acc` stores the best validation accuracy achieved so far.\n",
    "\n",
    "**2. Training Loop:**\n",
    "\n",
    "- **Iterates up to 500 epochs:** Runs a maximum of 500 training iterations.\n",
    "- **Model Training:**\n",
    "    - Calls the `train_mnist` function to train the model on the training data (`images`, `labels`).\n",
    "        - Uses hyperparameters: learning rate (`lr`), regularization type (`regularization`), regularization strength (`reg_lambda`), and mini-batch size (`mini_batch_size`).\n",
    "- **Accuracy Calculation:**\n",
    "    - Evaluates accuracy on both training and validation sets using `evaluate_accuracy`.\n",
    "- **Storing Accuracies:** Appends accuracies to their respective lists for plotting.\n",
    "- **Printing Progress:** Prints epoch number and accuracies.\n",
    "- **Best Model Tracking:**\n",
    "    - If validation accuracy improves, updates `best_val_acc`, copies model weights to `best_model`, and resets `no_improvement_count`.\n",
    "- **Early Stopping:**\n",
    "    - If validation accuracy hasn't improved for `patience` epochs, stops training and prints a message.\n"
   ]
  },
  {
   "cell_type": "code",
   "execution_count": 41,
   "metadata": {},
   "outputs": [
    {
     "name": "stdout",
     "output_type": "stream",
     "text": [
      "Epoch 1, Train Accuracy: 0.7096, Val Accuracy: 0.6875\n",
      "Epoch 2, Train Accuracy: 0.8438, Val Accuracy: 0.8225\n",
      "Epoch 3, Train Accuracy: 0.8839, Val Accuracy: 0.8618\n",
      "Epoch 4, Train Accuracy: 0.9055, Val Accuracy: 0.8823\n",
      "Epoch 5, Train Accuracy: 0.9193, Val Accuracy: 0.8937\n",
      "Epoch 6, Train Accuracy: 0.9293, Val Accuracy: 0.9052\n",
      "Epoch 7, Train Accuracy: 0.9370, Val Accuracy: 0.9115\n",
      "Epoch 8, Train Accuracy: 0.9426, Val Accuracy: 0.9167\n",
      "Epoch 9, Train Accuracy: 0.9477, Val Accuracy: 0.9240\n",
      "Epoch 10, Train Accuracy: 0.9523, Val Accuracy: 0.9285\n",
      "Epoch 11, Train Accuracy: 0.9562, Val Accuracy: 0.9323\n",
      "Epoch 12, Train Accuracy: 0.9588, Val Accuracy: 0.9355\n",
      "Epoch 13, Train Accuracy: 0.9616, Val Accuracy: 0.9378\n",
      "Epoch 14, Train Accuracy: 0.9637, Val Accuracy: 0.9407\n",
      "Epoch 15, Train Accuracy: 0.9659, Val Accuracy: 0.9430\n",
      "Epoch 16, Train Accuracy: 0.9678, Val Accuracy: 0.9437\n",
      "Epoch 17, Train Accuracy: 0.9697, Val Accuracy: 0.9450\n",
      "Epoch 18, Train Accuracy: 0.9712, Val Accuracy: 0.9462\n",
      "Epoch 19, Train Accuracy: 0.9726, Val Accuracy: 0.9478\n",
      "Epoch 20, Train Accuracy: 0.9738, Val Accuracy: 0.9493\n",
      "Epoch 21, Train Accuracy: 0.9752, Val Accuracy: 0.9495\n",
      "Epoch 22, Train Accuracy: 0.9762, Val Accuracy: 0.9507\n",
      "Epoch 23, Train Accuracy: 0.9772, Val Accuracy: 0.9505\n",
      "Epoch 24, Train Accuracy: 0.9780, Val Accuracy: 0.9533\n",
      "Epoch 25, Train Accuracy: 0.9790, Val Accuracy: 0.9537\n",
      "Epoch 26, Train Accuracy: 0.9798, Val Accuracy: 0.9538\n",
      "Epoch 27, Train Accuracy: 0.9808, Val Accuracy: 0.9542\n",
      "Epoch 28, Train Accuracy: 0.9815, Val Accuracy: 0.9543\n",
      "Epoch 29, Train Accuracy: 0.9821, Val Accuracy: 0.9547\n",
      "Epoch 30, Train Accuracy: 0.9829, Val Accuracy: 0.9553\n",
      "Epoch 31, Train Accuracy: 0.9834, Val Accuracy: 0.9562\n",
      "Epoch 32, Train Accuracy: 0.9840, Val Accuracy: 0.9578\n",
      "Epoch 33, Train Accuracy: 0.9846, Val Accuracy: 0.9578\n",
      "Epoch 34, Train Accuracy: 0.9849, Val Accuracy: 0.9582\n",
      "Epoch 35, Train Accuracy: 0.9855, Val Accuracy: 0.9585\n",
      "Epoch 36, Train Accuracy: 0.9859, Val Accuracy: 0.9585\n",
      "Epoch 37, Train Accuracy: 0.9864, Val Accuracy: 0.9585\n",
      "Epoch 38, Train Accuracy: 0.9870, Val Accuracy: 0.9590\n",
      "Epoch 39, Train Accuracy: 0.9875, Val Accuracy: 0.9587\n",
      "Epoch 40, Train Accuracy: 0.9879, Val Accuracy: 0.9592\n",
      "Epoch 41, Train Accuracy: 0.9884, Val Accuracy: 0.9593\n",
      "Epoch 42, Train Accuracy: 0.9887, Val Accuracy: 0.9590\n",
      "Epoch 43, Train Accuracy: 0.9890, Val Accuracy: 0.9592\n",
      "Epoch 44, Train Accuracy: 0.9893, Val Accuracy: 0.9597\n",
      "Epoch 45, Train Accuracy: 0.9895, Val Accuracy: 0.9597\n",
      "Epoch 46, Train Accuracy: 0.9900, Val Accuracy: 0.9598\n",
      "Epoch 47, Train Accuracy: 0.9902, Val Accuracy: 0.9605\n",
      "Epoch 48, Train Accuracy: 0.9905, Val Accuracy: 0.9598\n",
      "Epoch 49, Train Accuracy: 0.9907, Val Accuracy: 0.9605\n",
      "Epoch 50, Train Accuracy: 0.9910, Val Accuracy: 0.9605\n",
      "Epoch 51, Train Accuracy: 0.9913, Val Accuracy: 0.9600\n",
      "Epoch 52, Train Accuracy: 0.9916, Val Accuracy: 0.9602\n",
      "Epoch 53, Train Accuracy: 0.9917, Val Accuracy: 0.9607\n",
      "Epoch 54, Train Accuracy: 0.9921, Val Accuracy: 0.9603\n",
      "Epoch 55, Train Accuracy: 0.9923, Val Accuracy: 0.9598\n",
      "Epoch 56, Train Accuracy: 0.9925, Val Accuracy: 0.9605\n",
      "Epoch 57, Train Accuracy: 0.9929, Val Accuracy: 0.9605\n",
      "Epoch 58, Train Accuracy: 0.9931, Val Accuracy: 0.9605\n",
      "Epoch 59, Train Accuracy: 0.9934, Val Accuracy: 0.9608\n",
      "Epoch 60, Train Accuracy: 0.9936, Val Accuracy: 0.9607\n",
      "Epoch 61, Train Accuracy: 0.9939, Val Accuracy: 0.9607\n",
      "Epoch 62, Train Accuracy: 0.9941, Val Accuracy: 0.9608\n",
      "Epoch 63, Train Accuracy: 0.9942, Val Accuracy: 0.9613\n",
      "Epoch 64, Train Accuracy: 0.9943, Val Accuracy: 0.9613\n",
      "Epoch 65, Train Accuracy: 0.9946, Val Accuracy: 0.9600\n",
      "Epoch 66, Train Accuracy: 0.9947, Val Accuracy: 0.9608\n",
      "Epoch 67, Train Accuracy: 0.9949, Val Accuracy: 0.9603\n",
      "Epoch 68, Train Accuracy: 0.9951, Val Accuracy: 0.9612\n",
      "Epoch 69, Train Accuracy: 0.9951, Val Accuracy: 0.9612\n",
      "Epoch 70, Train Accuracy: 0.9953, Val Accuracy: 0.9605\n",
      "Epoch 71, Train Accuracy: 0.9954, Val Accuracy: 0.9608\n",
      "Epoch 72, Train Accuracy: 0.9955, Val Accuracy: 0.9612\n",
      "Epoch 73, Train Accuracy: 0.9957, Val Accuracy: 0.9613\n",
      "Early stopping: Validation accuracy did not improve for 10 epochs.\n"
     ]
    }
   ],
   "source": [
    "train_accuracies = []\n",
    "val_accuracies = []\n",
    "no_improvement_count = 0\n",
    "patience = 10\n",
    "best_val_acc = 0.0\n",
    "for iteration in range(500):\n",
    "    # Training the model\n",
    "    train_mnist(images, labels, model, lr=0.001, beta=0.9, mini_batch_size=512)\n",
    "\n",
    "    # Calculating the accuracies\n",
    "    train_accuracy = evaluate_accuracy(model, images, labels)\n",
    "    val_accuracy = evaluate_accuracy(model, test_images, test_labels)\n",
    "\n",
    "    # Storing the accuracies to plot it\n",
    "    train_accuracies.append(train_accuracy)\n",
    "    val_accuracies.append(val_accuracy)\n",
    "    \n",
    "    print(f\"Epoch {iteration + 1}, Train Accuracy: {train_accuracy:.4f}, Val Accuracy: {val_accuracy:.4f}\")\n",
    "    # Picking up the best model weights and accuracy\n",
    "    if val_accuracy > best_val_acc:\n",
    "        best_val_acc = val_accuracy\n",
    "        best_model = model.copy()\n",
    "        no_improvement_count = 0\n",
    "    else:\n",
    "        no_improvement_count += 1\n",
    "\n",
    "    if no_improvement_count >= patience:\n",
    "        print(\"Early stopping: Validation accuracy did not improve for 10 epochs.\")\n",
    "        break\n"
   ]
  },
  {
   "cell_type": "code",
   "execution_count": 42,
   "metadata": {},
   "outputs": [
    {
     "data": {
      "image/png": "[encoded data removed]",
      "text/plain": [
       "<Figure size 640x480 with 1 Axes>"
      ]
     },
     "metadata": {},
     "output_type": "display_data"
    }
   ],
   "source": [
    "# Visualizing the accuracies\n",
    "plt.plot(range(1, len(train_accuracies) + 1), train_accuracies, label='Train Accuracy')\n",
    "plt.plot(range(1, len(val_accuracies) + 1), val_accuracies, label='Validation Accuracy')\n",
    "plt.xlabel('Epochs')\n",
    "plt.ylabel('Accuracy')\n",
    "plt.title('Training and Validation Accuracy Over Time')\n",
    "plt.legend()\n",
    "plt.show()"
   ]
  },
  {
   "cell_type": "code",
   "execution_count": 43,
   "metadata": {},
   "outputs": [
    {
     "name": "stdout",
     "output_type": "stream",
     "text": [
      "Best Model Accuracy on Validation set is: 96.0%\n"
     ]
    }
   ],
   "source": [
    "print(f'Best Model Accuracy on Validation set is: {np.round(best_val_acc * 100)}%')"
   ]
  },
  {
   "cell_type": "markdown",
   "metadata": {},
   "source": [
    "**1. Testing on Remaining Test Set:**\n",
    "- It loops through images not used for validation.\n",
    "- For each image:\n",
    "    - Gets a prediction from the best model.\n",
    "    - Extracts predicted and true labels.\n",
    "    - Stores them as pairs for later analysis.\n",
    "\n",
    "**2. Calculating Accuracy:**\n",
    "- Counts correct predictions using list comprehension.\n",
    "- Divides correct by total to get accuracy.\n",
    "\n",
    "**3. Printing Results:**\n",
    "- Outputs number of correct predictions, total predictions, and accuracy percentage.\n",
    "\n"
   ]
  },
  {
   "cell_type": "code",
   "execution_count": 44,
   "metadata": {},
   "outputs": [
    {
     "name": "stdout",
     "output_type": "stream",
     "text": [
      "Correct predictions count is: 3922 out of 4000\n",
      "The accuracy is: 98.05%\n"
     ]
    }
   ],
   "source": [
    "# Iterating over the rest of the test images that we didnt include in val_set\n",
    "all_preds = []\n",
    "for image in range(len(test_labels), len(test_labels_all)):\n",
    "    test_image = test_images_all[image]\n",
    "    test_label = test_labels_all[image]\n",
    "    predicted_label = model_prediction(best_model, test_image)\n",
    "    predicted_label = np.argmax(predicted_label)\n",
    "    test_label = np.argmax(test_label)\n",
    "    all_preds.append((predicted_label,test_label))\n",
    "\n",
    "correct_predictions = sum(1 for pred, true_label in all_preds if pred == true_label)\n",
    "accuracy = np.round(correct_predictions / len(all_preds) * 100, 2)\n",
    "\n",
    "print(f'Correct predictions count is: {correct_predictions} out of {len(all_preds)}\\nThe accuracy is: {accuracy}%')"
   ]
  },
  {
   "cell_type": "code",
   "execution_count": 45,
   "metadata": {},
   "outputs": [
    {
     "data": {
      "text/plain": [
       "True"
      ]
     },
     "execution_count": 45,
     "metadata": {},
     "output_type": "execute_result"
    }
   ],
   "source": [
    "# Predicting a random images\n",
    "res = evaluate_accuracy_one_sample(best_model, test_images_all[6123], test_labels_all[6123])\n",
    "res \n"
   ]
  },
  {
   "cell_type": "markdown",
   "metadata": {},
   "source": [
    "## Draft cells\n"
   ]
  },
  {
   "cell_type": "code",
   "execution_count": 73,
   "metadata": {},
   "outputs": [
    {
     "name": "stdout",
     "output_type": "stream",
     "text": [
      "Actual Label of example 1:\n",
      " [0. 0. 0. 0. 0. 0. 0. 1. 0. 0.]\n",
      "\n",
      "Prediction of the model of example 1:\n",
      " [3.75066423e-20 4.37509791e-13 3.35230987e-08 2.42361611e-08\n",
      " 3.60172385e-20 9.41327455e-08 1.92874985e-22 9.99999987e-01\n",
      " 9.49935254e-10 1.66166162e-10]\n",
      "\n",
      "Subtraction of the predection and the actual label example 1:\n",
      " [ 3.75066423e-20  4.37509791e-13  3.35230987e-08  2.42361611e-08\n",
      "  3.60172385e-20  9.41327455e-08  1.92874985e-22 -1.25804226e-08\n",
      "  9.49935254e-10  1.66166162e-10]\n",
      "-------------------------\n",
      "(16, 10)\n",
      "(16, 10)\n"
     ]
    }
   ],
   "source": [
    "# Simulating the error \n",
    "np.random.seed(42)\n",
    "preds = model_prediction(model, test_images[0:16]) # 16x10\n",
    "print(f'Actual Label of example 1:\\n {test_labels[0:16][0]}')\n",
    "print()\n",
    "print(f'Prediction of the model of example 1:\\n {preds[0]}')\n",
    "print()\n",
    "print(f'Subtraction of the predection and the actual label example 1:\\n {(preds - test_labels[0:16])[0]}') # This is the pure error which is we are going to calculate the dervitive according to it\n",
    "print('-------------------------')\n",
    "print((test_labels[0:16]).shape)\n",
    "print((preds.shape))"
   ]
  },
  {
   "cell_type": "code",
   "execution_count": 48,
   "metadata": {},
   "outputs": [
    {
     "name": "stdout",
     "output_type": "stream",
     "text": [
      "[7 2 1 0 4 1 4 9 6 9 0 6 9 0 1 5]\n",
      "[7 2 1 0 4 1 4 9 5 9 0 6 9 0 1 5]\n",
      "0.9375\n",
      "7\n"
     ]
    }
   ],
   "source": [
    "print(np.argmax(preds, axis=1))\n",
    "print(np.argmax(test_labels[0:16], axis=1))\n",
    "print(np.mean(np.argmax(preds, axis=1) == np.argmax(test_labels[0:16], axis=1)))\n",
    "print(np.argmax(preds[0])) # taking a list and returning the index of the greatest number of this list"
   ]
  },
  {
   "cell_type": "code",
   "execution_count": 50,
   "metadata": {},
   "outputs": [
    {
     "data": {
      "text/plain": [
       "array([[0., 0., 0., 0., 0., 0., 0., 0., 0., 0., 0., 0., 0., 0., 0., 0.,\n",
       "        0., 0., 0., 0., 0., 0., 0., 0., 0., 0., 0., 0., 0., 0., 0., 0.,\n",
       "        0., 0., 0., 0., 0., 0., 0., 0., 0., 0., 0., 0., 0., 0., 0., 0.,\n",
       "        0., 0., 0., 0., 0., 0., 0., 0., 0., 0., 0., 0., 0., 0., 0., 0.,\n",
       "        0., 0., 0., 0., 0., 0., 0., 0., 0., 0., 0., 0., 0., 0., 0., 0.,\n",
       "        0., 0., 0., 0., 0., 0., 0., 0., 0., 0., 0., 0., 0., 0., 0., 0.,\n",
       "        0., 0., 0., 0.]])"
      ]
     },
     "execution_count": 50,
     "metadata": {},
     "output_type": "execute_result"
    }
   ],
   "source": [
    "test = np.zeros((HIDDEN_LAYER_SIZE, 1))\n",
    "test2 = test.reshape(1, -1)\n",
    "test2"
   ]
  },
  {
   "cell_type": "code",
   "execution_count": 71,
   "metadata": {},
   "outputs": [
    {
     "name": "stdout",
     "output_type": "stream",
     "text": [
      "[[-0.15909362  0.33998078  0.01211581  0.24532239]]\n",
      "\n",
      "[[-0.12545988  0.45071431  0.23199394  0.09865848]\n",
      " [-0.34398136 -0.34400548 -0.44191639  0.36617615]\n",
      " [ 0.10111501  0.20807258 -0.47941551  0.46990985]]\n",
      "\n",
      "[[-0.12386894  0.4473145   0.23187278  0.09620526]\n",
      " [-0.34239042 -0.34740529 -0.44203755  0.36372292]\n",
      " [ 0.10270595  0.20467277 -0.47953666  0.46745663]]\n"
     ]
    }
   ],
   "source": [
    "np.random.seed(42)\n",
    "weight = np.random.uniform(-0.5,0.5, size=(3,4))\n",
    "out_delta = np.random.uniform(0,1, size=(1,3))\n",
    "hidden_delta = out_delta.dot(weight)\n",
    "\n",
    "print(hidden_delta)\n",
    "print()\n",
    "print(weight)\n",
    "weight -= 0.01 * hidden_delta\n",
    "print()\n",
    "print(weight)"
   ]
  },
  {
   "cell_type": "code",
   "execution_count": 97,
   "metadata": {},
   "outputs": [
    {
     "name": "stdout",
     "output_type": "stream",
     "text": [
      "[[-0.00025092  0.00090143  0.00046399  0.00019732]\n",
      " [-0.00068796 -0.00068801 -0.00088383  0.00073235]\n",
      " [ 0.00020223  0.00041615 -0.00095883  0.00093982]\n",
      " [ 0.00066489 -0.00057532 -0.00063635 -0.00063319]]\n",
      "\n",
      "[[-0.00025091  0.00090144  0.000464    0.00019733]\n",
      " [-0.00068795 -0.000688   -0.00088382  0.00073236]\n",
      " [ 0.00020224  0.00041616 -0.00095882  0.00093983]\n",
      " [ 0.0006649  -0.00057531 -0.00063634 -0.00063318]]\n"
     ]
    }
   ],
   "source": [
    "np.random.seed(42)\n",
    "sdw = np.random.uniform(-0.001,0.001, size=(4,4))\n",
    "print(sdw)\n",
    "print()\n",
    "print(sdw + epsilon)"
   ]
  },
  {
   "cell_type": "code",
   "execution_count": 79,
   "metadata": {},
   "outputs": [
    {
     "name": "stdout",
     "output_type": "stream",
     "text": [
      "(128, 10)\n",
      "(1, 10)\n"
     ]
    }
   ],
   "source": [
    "x = np.random.randint(0,5,size=(128,10))\n",
    "b = np.random.randint(2,3, size=(1,10))\n",
    "print((b - x).shape)\n",
    "print((b - np.mean(x)).shape)"
   ]
  }
 ],
 "metadata": {
  "kernelspec": {
   "display_name": "torch_gpuenv",
   "language": "python",
   "name": "python3"
  },
  "language_info": {
   "codemirror_mode": {
    "name": "ipython",
    "version": 3
   },
   "file_extension": ".py",
   "mimetype": "text/x-python",
   "name": "python",
   "nbconvert_exporter": "python",
   "pygments_lexer": "ipython3",
   "version": "3.9.16"
  },
  "orig_nbformat": 4
 },
 "nbformat": 4,
 "nbformat_minor": 2
}
