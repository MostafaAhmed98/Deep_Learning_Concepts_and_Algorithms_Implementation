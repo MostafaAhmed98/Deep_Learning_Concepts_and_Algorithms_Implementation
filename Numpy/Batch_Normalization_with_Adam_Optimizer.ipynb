{
 "cells": [
  {
   "cell_type": "markdown",
   "metadata": {},
   "source": [
    "# MNIST Data Preprocessing\n",
    "1. **Loads MNIST dataset:**\n",
    "    - `(x_train, y_train), (x_test, y_test) = mnist.load_data()`\n",
    "2. **Prepares training data:**\n",
    "    - Reshapes first 60000 images: `images = x_train[0:60000].reshape(60000, 28*28) / 255`\n",
    "    - One-hot encodes labels: `labels = np.zeros((len(labels), 10)); ...`\n",
    "3. **Prepares test data:**\n",
    "    - Reshapes and normalizes all test images: `test_images_all = x_test.reshape(len(x_test), 28*28) / 255`\n",
    "    - One-hot encodes test labels: `test_labels_all = np.zeros((len(y_test), 10)); ...`\n",
    "    - Selects first 6000 test images and labels: `test_images, test_labels = test_images_all[0:6000], test_labels_all[0:6000]`\n",
    "\n"
   ]
  },
  {
   "cell_type": "code",
   "execution_count": 22,
   "metadata": {},
   "outputs": [],
   "source": [
    "import sys, numpy as np\n",
    "from keras.datasets import mnist\n",
    "import matplotlib.pyplot as plt\n",
    "# Preparing the data\n",
    "(x_train, y_train), (x_test, y_test) = mnist.load_data()\n",
    "images, labels = (x_train[0:60000].reshape(60000,28*28) / 255, y_train[0:60000])\n",
    "one_hot_labels = np.zeros((len(labels), 10))\n",
    "for i, l in enumerate(labels):\n",
    "    one_hot_labels[i][l] = 1\n",
    "labels = one_hot_labels\n",
    "\n",
    "test_images_all = x_test.reshape(len(x_test), 28*28) / 255\n",
    "test_labels_all = np.zeros((len(y_test), 10))\n",
    "for i, l in enumerate(y_test):\n",
    "    test_labels_all[i][l] = 1\n",
    "test_images = test_images_all[0:6000]\n",
    "test_labels = test_labels_all[0:6000]"
   ]
  },
  {
   "cell_type": "code",
   "execution_count": 23,
   "metadata": {},
   "outputs": [
    {
     "name": "stdout",
     "output_type": "stream",
     "text": [
      "The shape of Training images: (60000, 784)\n",
      "The shape of Training labels: (60000, 10)\n",
      "The shape of test images: (6000, 784)\n",
      "The shape of test labels: (6000, 10)\n"
     ]
    }
   ],
   "source": [
    "print(f'The shape of Training images: {images.shape}')\n",
    "print(f'The shape of Training labels: {labels.shape}')\n",
    "print(f'The shape of test images: {test_images.shape}')\n",
    "print(f'The shape of test labels: {test_labels.shape}')"
   ]
  },
  {
   "cell_type": "markdown",
   "metadata": {},
   "source": [
    "# Model Initialization\n",
    "\n",
    "- **Layer Definitions:**\n",
    "    - `HIDDEN_LAYER_SIZE = 100`: Number of neurons in the hidden layer.\n",
    "    - `OUTPUT_LAYER_SIZE = 10`: Number of neurons in the output layer (matching 10 digits in MNIST).\n",
    "    - `INPUT_LAYER_SIZE = images.shape[1]`: Number of input features (784 pixels for MNIST images).\n",
    "- **Model Weights and Biases:**\n",
    "    - `W1`: Weights connecting input layer to hidden layer (784x100 matrix).\n",
    "    - `b1`: Biases for hidden layer neurons (1x100 vector).\n",
    "    - `W2`: Weights connecting hidden layer to output layer (100x10 matrix).\n",
    "    - `b2`: Biases for output layer neurons (1x10 vector).\n",
    "- **Random Initialization:**\n",
    "\n",
    "    Xavier initialization aims to prevent vanishing or exploding gradients in neural networks by:\n",
    "\n",
    "    1. Scaling weights: It calculates a gain based on the layer's input and output size, influencing the range of randomly generated weights.\n",
    "    This helps avoid extreme values that could disrupt gradient flow.\n",
    "\n",
    "    2. Balancing signal flow: By adjusting the weight range based on layer size, Xavier initialization aims to maintain a good balance between signal strength across different layers,\n",
    "    preventing vanishing or exploding gradients during training.\n",
    "\n",
    "**Purpose:**\n",
    "\n",
    "- Creates a basic neural network model with one hidden layer, ready for training on the prepared MNIST data.\n",
    "```**\n"
   ]
  },
  {
   "cell_type": "code",
   "execution_count": 24,
   "metadata": {},
   "outputs": [],
   "source": [
    "def Xavier_init(input, output):\n",
    "    gain = np.sqrt(2.0 / (input + output))\n",
    "    return np.random.uniform(-gain, gain, size=(input, output))"
   ]
  },
  {
   "cell_type": "code",
   "execution_count": 25,
   "metadata": {},
   "outputs": [],
   "source": [
    "HIDDEN_LAYER_SIZE = 100\n",
    "OUTPUT_LAYER_SIZE = 10\n",
    "INPUT_LAYER_SIZE = images.shape[1] # 784\n",
    "epsilon = 1e-8\n",
    "model = {\n",
    "    'W1': Xavier_init(INPUT_LAYER_SIZE,HIDDEN_LAYER_SIZE), # 784 x HIDDEN_LAYER_SIZE\n",
    "    'W2': Xavier_init(HIDDEN_LAYER_SIZE, OUTPUT_LAYER_SIZE), # HIDDEN_LAYER_SIZE x OUTPUT_LAYER_SIZE\n",
    "    'Gamma1': np.ones((HIDDEN_LAYER_SIZE, )),\n",
    "    'Beta1': np.zeros((HIDDEN_LAYER_SIZE, ))\n",
    "}\n"
   ]
  },
  {
   "cell_type": "markdown",
   "metadata": {},
   "source": [
    "# Activation Functions\n",
    "\n",
    "**Defined Functions:**\n",
    "\n",
    "- **`sigmoid(x)`:**\n",
    "    - S-shaped curve that maps input values between 0 and 1.\n",
    "    - Commonly used in output layers for binary classification.\n",
    "    - `np.clip(x, -50, 50)` prevents numerical overflow.\n",
    "- **`sigmoid_derivative(x)`:**\n",
    "    - Calculates the derivative of the sigmoid function, used for backpropagation.\n",
    "- **`relu(x)`:**\n",
    "    - Rectified Linear Unit, outputs 0 for negative inputs and the input value itself for positive inputs.\n",
    "    - Promotes sparsity and helps prevent vanishing gradients.\n",
    "- **`relu2deriv(output)`:**\n",
    "    - Derivative of ReLU, used for backpropagation.\n",
    "\n",
    "**Purpose:**\n",
    "\n",
    "- These functions introduce non-linearity into neural networks, enabling them to learn complex patterns and decision boundaries.\n",
    "- They are essential for the training process, as they determine how neurons transform their inputs into outputs and how errors are propagated back to adjust weights and biases.\n",
    "```**\n"
   ]
  },
  {
   "cell_type": "code",
   "execution_count": 26,
   "metadata": {},
   "outputs": [],
   "source": [
    "def sigmoid(x):\n",
    "    x = np.clip(x, -50, 50)\n",
    "    return 1 / (1 + np.exp(-x))\n",
    "def sigmoid_derivative(x):\n",
    "    return sigmoid(x) * (1 - sigmoid(x))\n",
    "\n",
    "def relu(x):\n",
    "    return (x > 0) * x\n",
    "def relu2deriv(output):\n",
    "    return output > 0\n",
    "\n",
    "def softmax(x):\n",
    "    exp_x = np.exp(x - np.max(x, axis=-1, keepdims=True))\n",
    "    return exp_x / np.sum(exp_x, axis=-1, keepdims=True)\n",
    "\n",
    "def softmax2deriv(output_layer):\n",
    "    jacobian_matrix = output_layer * (1 - output_layer)\n",
    "    return jacobian_matrix\n",
    "\n",
    "\n"
   ]
  },
  {
   "cell_type": "markdown",
   "metadata": {},
   "source": [
    " **exponentially weighted averages (EWMAs) (The way how we looking at the last grdients):**\n",
    "\n",
    "**What they are:**\n",
    "\n",
    "- A way to calculate an average that gives more weight to recent data points, making it especially useful for tracking trends in time-series data.\n",
    "- It achieves this by assigning decreasing weights to older data points in an exponential manner—like an echo that gradually fades away.\n",
    "\n",
    "**How they work:**\n",
    "\n",
    "1. **Choose a weighting parameter (β):** This value, between 0 and 1, determines how quickly the weights decline. Higher β values place more emphasis on recent data.\n",
    "2. **Initialize the EWMA:** Start with the first data point as the initial EWMA value.\n",
    "3. **Calculate the EWMA for each subsequent data point:**\n",
    "   - Use the formula: `EWMA_t = β * EWMA_(t-1) + (1 - β) * x_t`\n",
    "      - `EWMA_t` is the EWMA at time t\n",
    "      - `EWMA_(t-1)` is the previous EWMA value\n",
    "      - `x_t` is the current data point\n",
    "4. **Update iteratively:** The EWMA value is updated with each new data point, creating a smooth, responsive average that reflects the most recent trends."
   ]
  },
  {
   "cell_type": "code",
   "execution_count": 27,
   "metadata": {},
   "outputs": [
    {
     "name": "stdout",
     "output_type": "stream",
     "text": [
      "New input from the data is: 12 and the EMWA new value is 10\n",
      "New input from the data is: 15 and the EMWA new value is 10.2\n",
      "New input from the data is: 13 and the EMWA new value is 10.68\n",
      "New input from the data is: 18 and the EMWA new value is 10.911999999999999\n",
      "New input from the data is: 16 and the EMWA new value is 11.6208\n",
      "New input from the data is: 20 and the EMWA new value is 12.05872\n",
      "New input from the data is: 14 and the EMWA new value is 12.852848\n",
      "New input from the data is: 10 and the EMWA new value is 12.9675632\n",
      "New input from the data is: 16 and the EMWA new value is 12.67080688\n",
      "Exponentially Weighted Average: 13.003726192\n"
     ]
    }
   ],
   "source": [
    "# Data to be smoothed (e.g., a stock's price over time)\n",
    "data = np.array([10, 12, 15, 13, 18, 16, 20, 14, 10, 16])\n",
    "\n",
    "# Parameter controlling the weight given to recent data (between 0 and 1)\n",
    "beta = 0.9\n",
    "\n",
    "# Initialize the first value of the EWMA\n",
    "t_1 = data[0] # 10\n",
    "\n",
    "# Calculate the EWMA for each subsequent data point\n",
    "for value in data[1:]:\n",
    "    print(f'New input from the data is: {value} and the EMWA new value is {t_1}')\n",
    "    t_1 = beta * t_1 + (1 - beta) * value \n",
    "\n",
    "print(\"Exponentially Weighted Average:\", t_1)"
   ]
  },
  {
   "cell_type": "markdown",
   "metadata": {},
   "source": [
    " **Here's a theoretical and technical explanation of the Adam optimizer:**\n",
    "\n",
    "**Theoretical Overview:**\n",
    "\n",
    "- **Combines momentum and adaptive learning rates:** Adam incorporates the advantages of both approaches for efficient optimization.\n",
    "- **Momentum:** Accelerates learning in relevant directions, dampens oscillations, and helps escape local minima.\n",
    "- **Adaptive Learning Rates:** Adjusts learning rates for each parameter based on historical gradients, leading to faster convergence and better generalization.\n",
    "- **Bias Correction:** Addresses initial bias in momentum and squared gradient estimates, allowing for faster progress in early stages and improving stability.\n",
    "\n",
    "\n",
    "   -  **Bias Correction:**\n",
    "      1. **Initial Bias:**\n",
    "      - Adam uses exponential moving averages to track momentum and squared gradients. These averages start close to zero and gradually build up over time.\n",
    "      - If not corrected, this initial bias towards zero can cause smaller updates in the early iterations, potentially slowing down convergence.\n",
    "\n",
    "      2. **Bias Correction:**\n",
    "      - To address this, Adam applies a bias correction factor to both the momentum and squared gradient estimates.\n",
    "      - The correction factor is 1 / (1 - beta^t), where beta is the decay rate (usually 0.9 or 0.999) and t is the current iteration.\n",
    "      - This factor effectively scales up the estimates, compensating for the initial bias towards zero and allowing for more meaningful updates even in the early stages <span style=\"color: orange;\">(Explained with code in Draft cells sector)</span>.\n",
    "\n",
    "      3. **Impact on Updates:**\n",
    "      - The corrected momentum and squared gradient estimates are then used to update the weights:\n",
    "         - Weight update = learning_rate * corrected_momentum / sqrt(corrected_squared_gradient + epsilon)\n",
    "      - This ensures that updates are appropriately scaled even when the averages are small, leading to faster convergence and smoother training.\n",
    "\n",
    "      4. **Key Points:**\n",
    "      - Bias correction doesn't directly force weights to be larger. It adjusts the momentum and squared gradient estimates to address their initial bias, allowing for more effective updates.\n",
    "      - It's crucial for faster convergence and smoother training, especially in the early stages.\n",
    "      - It's a key component of the Adam optimizer, contributing to its overall efficiency and effectiveness.\n",
    "\n",
    "\n",
    "**Technical Implementation:**\n",
    "\n",
    "1. **Initialization:**\n",
    "   - Set momentum terms (mt) and squared gradients (vt) to zero for all parameters.\n",
    "   - Choose hyperparameters: beta1 (momentum decay), beta2 (squared gradient decay), learning rate (α), and epsilon (small constant for numerical stability).\n",
    "\n",
    "2. **Iteration:**\n",
    "   - For each parameter θ at iteration t:\n",
    "     - Calculate gradient (gt).\n",
    "     - Update momentum: mt = beta1 * mt-1 + (1 - beta1) * gt.\n",
    "     - Update squared gradient: vt = beta2 * vt-1 + (1 - beta2) * gt^2.\n",
    "     - Bias correction: mt_hat = mt / (1 - beta1^t), vt_hat = vt / (1 - beta2^t).\n",
    "     - Update parameter: θt = θt-1 - α * mt_hat / (sqrt(vt_hat) + ε).\n",
    "\n",
    "3. **Repeat:**\n",
    "   - Continue iterations until convergence or specified number of epochs.\n",
    "\n",
    "**Key Hyperparameters:**\n",
    "\n",
    "- **beta1:** Controls momentum (common values: 0.9, 0.99).\n",
    "- **beta2:** Controls adaptive learning rates (common values: 0.999).\n",
    "- **learning rate (α):** Initial step size (tuning needed).\n",
    "- **epsilon (ε):** Small constant for numerical stability (common value: 1e-8).\n",
    "\n",
    "**Benefits:**\n",
    "\n",
    "- Faster convergence compared to standard gradient descent.\n",
    "- Often converges to a better solution.\n",
    "- Works well with sparse gradients and noisy data.\n",
    "- Generally robust to hyperparameter choices.\n",
    "- Common choice for deep learning and large-scale optimization problems.\n"
   ]
  },
  {
   "cell_type": "markdown",
   "metadata": {},
   "source": [
    " **Explaination of the `train_mnist` function:**\n",
    "\n",
    "**1. Function Purpose:**\n",
    "- Trains a neural network model on the MNIST dataset using mini-batch gradient descent.\n",
    "\n",
    "**2. Parameters:**\n",
    "- `images`: Input images (array of shape `(num_samples, 784)`).\n",
    "- `labels`: True labels (array of shape `(num_samples, OUTPUT_LAYER_SIZE)`).\n",
    "- `model`: Dictionary containing model weights and biases.\n",
    "- `lr`: Learning rate (default: 0.01).\n",
    "- `Beta1`: Controls momentum (common values: 0.9, 0.99) (default: 0.9).\n",
    "- `Beta2`: Controls adaptive learning rates (common values: 0.999). (default: 0.999).\n",
    "- `decay_rate`: Learning rate decay rate (default: 0.95).\n",
    "- `mini_batch_size`: Size of mini-batches (default: 128).\n",
    "\n",
    "**3. Steps:**\n",
    "\n",
    "1. **Mini-Batch Loop:**\n",
    "   - Iterates through the dataset in mini-batches.\n",
    "2. **Extract Mini-Batch:**\n",
    "   - Gets a subset of images and labels for the current mini-batch.\n",
    "3. **Forward Pass:**\n",
    "   - Calculates outputs for the mini-batch using the model.\n",
    "   - Applies ReLU in the hidden layer and sigmoid in the output layer.\n",
    "4. **Calculate Error:**\n",
    "   - Computes the difference between predicted outputs and true labels.\n",
    "5. **Backpropagation:**\n",
    "   - Calculates error gradients for the output and hidden layers.\n",
    "   - Uses derivatives of ReLU and sigmoid functions.\n",
    "6. **Weights Update:**\n",
    "   - Calculating the momentum and squared gradient of each weight and biases.\n",
    "   - Correcting the Bias in the momentum and squared gradient.\n",
    "   - Adjusts model weights and biases.\n",
    "7. **Learning Rate Decay:**\n",
    "   - Decreases the learning rate after each mini-batch to aid convergence.\n",
    "8. **Return Updated Model:**\n",
    "   - Returns the model with updated weights and biases.\n"
   ]
  },
  {
   "cell_type": "code",
   "execution_count": 28,
   "metadata": {},
   "outputs": [],
   "source": [
    "def Batch_norm(z, gamma, beta):\n",
    "    mu = np.mean(z, axis=0)\n",
    "    var = np.var(z, axis=0)\n",
    "    z_norm = (z - mu) / np.sqrt(var + epsilon)\n",
    "    out = gamma * z_norm + beta\n",
    "    return out\n",
    "\n",
    "def Batch_norm_inference(z, mean, var, gamma, beta):\n",
    "    z_norm = (z - mean) / np.sqrt(var + epsilon)\n",
    "    out = gamma * z_norm + beta\n",
    "    return out\n",
    "\n",
    "    "
   ]
  },
  {
   "cell_type": "code",
   "execution_count": 29,
   "metadata": {},
   "outputs": [],
   "source": [
    "def train_mnist(images, labels, model, lr=0.01, beta1=0.9, beta2=0.999, decay_rate=0.8, mini_batch_size=128):\n",
    "    num_samples = len(images)\n",
    "    # gamma_norm_1 = np.ones((model['W1'].shape[1],))  # (100,)\n",
    "    # beta_norm_1 = np.zeros((model['W1'].shape[1],))  # (100,)\n",
    "\n",
    "    vW1 = np.zeros_like(model['W1'])  # Velocity of W1\n",
    "    vW2 = np.zeros_like(model['W2'])  # Velocity of W2\n",
    "    v_gamma_norm_1 = np.zeros_like(model['Gamma1'])  # Velocity of gamma_norm_1 # (100,)\n",
    "    v_beta_norm_1 = np.zeros_like(model['Beta1'])  # Velocity of beta_norm_1 # (100,)\n",
    "\n",
    "    sdw2 = 0  # Squared gradient of W2\n",
    "    sdw1 = 0  # Squared gradient of W1\n",
    "    sdg1 = 0  # Squared gradient of gamma_norm_1\n",
    "    sdb1 = 0  # Squared gradient of beta_norm_1\n",
    "\n",
    "    bn_means = {1: None}  # Store means for BN layers\n",
    "    bn_vars = {1: None}  # Store variances for BN layers\n",
    "\n",
    "    for i in range(0, num_samples, mini_batch_size):\n",
    "        # Extract mini-batch\n",
    "        batch_images = images[i:i + mini_batch_size]\n",
    "        batch_labels = labels[i:i + mini_batch_size]\n",
    "\n",
    "        # Forward pass\n",
    "        hidden_layer = Batch_norm(relu(batch_images.dot(model['W1'])), model['Gamma1'], model['Beta1'])\n",
    "        output_layer = softmax(hidden_layer.dot(model['W2']))  # Use softmax instead of sigmoid\n",
    "\n",
    "        # Calculate and store statistics after Batch_norm calls\n",
    "        bn_means['1'] = np.mean(hidden_layer, axis=0)\n",
    "        bn_vars['1'] = np.var(hidden_layer, axis=0)\n",
    "\n",
    "        # Calculate the error/loss\n",
    "        loss = -np.sum(batch_labels * np.log(output_layer + 1e-10)) / len(batch_labels)  # Cross-entropy loss\n",
    "\n",
    "        # Backpropagation\n",
    "        output_layer_delta = (output_layer - batch_labels)\n",
    "        hidden_layer_delta = output_layer_delta.dot(model['W2'].T) * relu2deriv(hidden_layer)\n",
    "\n",
    "        # Weights Update\n",
    "        vW2 = beta1 * vW2 + (1 - beta1) * hidden_layer.T.dot(output_layer_delta)\n",
    "        sdw2 = beta2 * sdw2 + (1 - beta2) * (hidden_layer.T.dot(output_layer_delta) ** 2)\n",
    "\n",
    "        vW1 = beta1 * vW1 + (1 - beta1) * batch_images.T.dot(hidden_layer_delta)\n",
    "        sdw1 = beta2 * sdw1 + (1 - beta2) * (batch_images.T.dot(hidden_layer_delta) ** 2)\n",
    "\n",
    "        v_gamma_norm_1 = beta1 * v_gamma_norm_1 + (1 - beta1) * np.mean(hidden_layer_delta, axis=0)\n",
    "        sdg1 = beta2 * sdg1 + (1 - beta2) * np.mean(hidden_layer_delta ** 2, axis=0)\n",
    "\n",
    "        v_beta_norm_1 = beta1 * v_beta_norm_1 + (1 - beta1) * np.mean(hidden_layer_delta, axis=0)\n",
    "        sdb1 = beta2 * sdb1 + (1 - beta2) * np.mean(hidden_layer_delta ** 2, axis=0)\n",
    "\n",
    "        # Bias Correction\n",
    "        vW2_corrected = vW2 / (1 - beta1)\n",
    "        sdw2_corrected = sdw2 / (1 - beta2)\n",
    "\n",
    "        vW1_corrected = vW1 / (1 - beta1)\n",
    "        sdw1_corrected = sdw1 / (1 - beta2)\n",
    "\n",
    "        v_gamma_norm_1_corrected = v_gamma_norm_1 / (1 - beta1)\n",
    "        sdg1_corrected = sdg1 / (1 - beta2)\n",
    "\n",
    "        v_beta_norm_1_corrected = v_beta_norm_1 / (1 - beta)\n",
    "        sdb1_corrected = sdb1 / (1 - beta2)\n",
    "\n",
    "        model['W2'] -= lr * (vW2 / np.sqrt(sdw2 + epsilon))\n",
    "        model['W1'] -= lr * (vW1 / np.sqrt(sdw1 + epsilon))\n",
    "\n",
    "        model['Gamma1'] -= lr * (v_gamma_norm_1 / np.sqrt(sdg1 + epsilon))\n",
    "        model['Beta1'] -= lr * np.mean((v_beta_norm_1 / np.sqrt(sdb1 + epsilon)))\n",
    "\n",
    "    # Learning rate decay\n",
    "    lr *= decay_rate\n",
    "\n",
    "    return model, loss, bn_means['1'], bn_vars['1']\n"
   ]
  },
  {
   "cell_type": "markdown",
   "metadata": {},
   "source": [
    " **Implementation of the prediction and evaluation function**\n",
    "\n",
    "**1. `model_prediction(model, X)`:**\n",
    "\n",
    "- **Purpose:** Generates predictions for given inputs using the model.\n",
    "- **Steps:**\n",
    "    1. **Calculate hidden layer outputs:** Applies ReLU activation to the weighted sum of inputs and hidden layer weights (`model['W1']`) plus biases (`model['b1']`).\n",
    "    2. **Calculate output layer outputs:** Applies sigmoid activation to the weighted sum of hidden layer outputs and output layer weights (`model['W2']`) plus biases (`model['b2']`).\n",
    "    3. **Return output layer:** Returns raw output scores from the output layer, representing predicted probabilities (or confidence scores) for each class.\n",
    "\n",
    "**2. `evaluate_accuracy(model, X, y_true)`:**\n",
    "\n",
    "- **Purpose:** Calculates overall accuracy of the model's predictions on a dataset.\n",
    "- **Steps:**\n",
    "    1. **Generate model predictions:** Calls `model_prediction` to get predictions for all inputs in `X`.\n",
    "    2. **Extract predicted labels:** Finds the index of the highest-scoring class for each prediction using `np.argmax`.\n",
    "    3. **Extract true labels:** Extracts true class labels from `y_true` (assuming one-hot encoded).\n",
    "    4. **Compare predictions and true labels:** Calculates the proportion of correct predictions.\n",
    "    5. **Return accuracy:** Returns the overall accuracy as a percentage.\n",
    "\n",
    "**3. `evaluate_accuracy_one_sample(model, X, y_true)`:**\n",
    "\n",
    "- **Purpose:** Evaluates accuracy for a single sample (input and true label).\n",
    "- **Steps:**\n",
    "    1. **Generate model prediction:** Calls `model_prediction` for the single input `X`.\n",
    "    2. **Extract predicted label:** Finds the index of the highest-scoring class in the prediction.\n",
    "    3. **Extract true label:** Extracts the true class label from `y_true`.\n",
    "    4. **Compare prediction and true label:** Checks if they match.\n",
    "    5. **Return accuracy:** Returns `True` if prediction is correct, `False` otherwise.\n"
   ]
  },
  {
   "cell_type": "code",
   "execution_count": 30,
   "metadata": {},
   "outputs": [],
   "source": [
    "def model_prediction(model, X, means, var):\n",
    "    hidden_layer = X.dot(model['W1'])\n",
    "    hidden_layer_norm = (hidden_layer - means) / np.sqrt(var + epsilon)\n",
    "    hidden_layer_norm = model['Gamma1'] * hidden_layer_norm + model['Beta1']\n",
    "    hidden_layer = relu(hidden_layer_norm)\n",
    "    output_layer = softmax(hidden_layer.dot(model['W2'])) \n",
    "    return output_layer\n",
    "\n",
    "def evaluate_accuracy(model, X, y_true, means, var):\n",
    "    predictions = model_prediction(model, X, means, var)\n",
    "    predicted_labels = np.argmax(predictions, axis=1)\n",
    "    true_labels = np.argmax(y_true, axis=1)\n",
    "    \n",
    "    accuracy = np.mean(predicted_labels == true_labels)\n",
    "    return accuracy\n",
    "def evaluate_accuracy_one_sample(model, X, y_true, means, var):\n",
    "    predictions = model_prediction(model, X, means, var)\n",
    "    predicted_labels = np.argmax(predictions)\n",
    "    true_labels = np.argmax(y_true)\n",
    "    \n",
    "    accuracy = predicted_labels == true_labels\n",
    "    return accuracy\n"
   ]
  },
  {
   "cell_type": "markdown",
   "metadata": {},
   "source": [
    "**1. Training Setup:**\n",
    "\n",
    "- **Lists for Accuracies:** `train_accuracies` and `val_accuracies` store accuracies from each epoch for tracking progress.\n",
    "- **Early Stopping:**\n",
    "    - `no_improvement_count` tracks epochs without validation improvement.\n",
    "    - `patience` sets the maximum number of epochs without improvement before stopping (50 in this case).\n",
    "    - `best_val_acc` stores the best validation accuracy achieved so far.\n",
    "\n",
    "**2. Training Loop:**\n",
    "\n",
    "- **Iterates up to 500 epochs:** Runs a maximum of 500 training iterations.\n",
    "- **Model Training:**\n",
    "    - Calls the `train_mnist` function to train the model on the training data (`images`, `labels`).\n",
    "        - Uses hyperparameters: learning rate (`lr`), regularization type (`regularization`), regularization strength (`reg_lambda`), and mini-batch size (`mini_batch_size`).\n",
    "- **Accuracy Calculation:**\n",
    "    - Evaluates accuracy on both training and validation sets using `evaluate_accuracy`.\n",
    "- **Storing Accuracies:** Appends accuracies to their respective lists for plotting.\n",
    "- **Printing Progress:** Prints epoch number and accuracies.\n",
    "- **Best Model Tracking:**\n",
    "    - If validation accuracy improves, updates `best_val_acc`, copies model weights to `best_model`, and resets `no_improvement_count`.\n",
    "- **Early Stopping:**\n",
    "    - If validation accuracy hasn't improved for `patience` epochs, stops training and prints a message.\n"
   ]
  },
  {
   "cell_type": "code",
   "execution_count": 31,
   "metadata": {},
   "outputs": [
    {
     "name": "stdout",
     "output_type": "stream",
     "text": [
      "Epoch 1, Train Accuracy: 0.7736, Val Accuracy: 0.7695, Current Loss: 0.1540\n",
      "Epoch 2, Train Accuracy: 0.8950, Val Accuracy: 0.8820, Current Loss: 0.1597\n",
      "Epoch 3, Train Accuracy: 0.9162, Val Accuracy: 0.9033, Current Loss: 0.1541\n",
      "Epoch 4, Train Accuracy: 0.9067, Val Accuracy: 0.8872, Current Loss: 0.1540\n",
      "Epoch 5, Train Accuracy: 0.8766, Val Accuracy: 0.8545, Current Loss: 0.1627\n",
      "Epoch 6, Train Accuracy: 0.8978, Val Accuracy: 0.8748, Current Loss: 0.1555\n",
      "Epoch 7, Train Accuracy: 0.9057, Val Accuracy: 0.8802, Current Loss: 0.1830\n",
      "Epoch 8, Train Accuracy: 0.9090, Val Accuracy: 0.8828, Current Loss: 0.1816\n",
      "Epoch 9, Train Accuracy: 0.9030, Val Accuracy: 0.8773, Current Loss: 0.1846\n",
      "Epoch 10, Train Accuracy: 0.9225, Val Accuracy: 0.8910, Current Loss: 0.1932\n",
      "Epoch 11, Train Accuracy: 0.9154, Val Accuracy: 0.8860, Current Loss: 0.1764\n",
      "Epoch 12, Train Accuracy: 0.9228, Val Accuracy: 0.8935, Current Loss: 0.1925\n",
      "Epoch 13, Train Accuracy: 0.9272, Val Accuracy: 0.8940, Current Loss: 0.1895\n",
      "Epoch 14, Train Accuracy: 0.9293, Val Accuracy: 0.8970, Current Loss: 0.1965\n",
      "Epoch 15, Train Accuracy: 0.9320, Val Accuracy: 0.8988, Current Loss: 0.1825\n",
      "Epoch 16, Train Accuracy: 0.9288, Val Accuracy: 0.8965, Current Loss: 0.1850\n",
      "Epoch 17, Train Accuracy: 0.9357, Val Accuracy: 0.9017, Current Loss: 0.1847\n",
      "Epoch 18, Train Accuracy: 0.9350, Val Accuracy: 0.9010, Current Loss: 0.1869\n",
      "Epoch 19, Train Accuracy: 0.9378, Val Accuracy: 0.9062, Current Loss: 0.1872\n",
      "Epoch 20, Train Accuracy: 0.9302, Val Accuracy: 0.9010, Current Loss: 0.1797\n",
      "Epoch 21, Train Accuracy: 0.9364, Val Accuracy: 0.9087, Current Loss: 0.1778\n",
      "Epoch 22, Train Accuracy: 0.9378, Val Accuracy: 0.9082, Current Loss: 0.1896\n",
      "Epoch 23, Train Accuracy: 0.9403, Val Accuracy: 0.9118, Current Loss: 0.1862\n",
      "Epoch 24, Train Accuracy: 0.9457, Val Accuracy: 0.9160, Current Loss: 0.1806\n",
      "Epoch 25, Train Accuracy: 0.9398, Val Accuracy: 0.9103, Current Loss: 0.1751\n",
      "Epoch 26, Train Accuracy: 0.9411, Val Accuracy: 0.9142, Current Loss: 0.1731\n",
      "Epoch 27, Train Accuracy: 0.9301, Val Accuracy: 0.9005, Current Loss: 0.1830\n",
      "Epoch 28, Train Accuracy: 0.9401, Val Accuracy: 0.9093, Current Loss: 0.1844\n",
      "Epoch 29, Train Accuracy: 0.9294, Val Accuracy: 0.8992, Current Loss: 0.1771\n",
      "Epoch 30, Train Accuracy: 0.9365, Val Accuracy: 0.9068, Current Loss: 0.1865\n",
      "Epoch 31, Train Accuracy: 0.9379, Val Accuracy: 0.9098, Current Loss: 0.1814\n",
      "Epoch 32, Train Accuracy: 0.9323, Val Accuracy: 0.9048, Current Loss: 0.1859\n",
      "Epoch 33, Train Accuracy: 0.9250, Val Accuracy: 0.8938, Current Loss: 0.1873\n",
      "Epoch 34, Train Accuracy: 0.9300, Val Accuracy: 0.9018, Current Loss: 0.1704\n",
      "Epoch 35, Train Accuracy: 0.9293, Val Accuracy: 0.9020, Current Loss: 0.1838\n",
      "Epoch 36, Train Accuracy: 0.9195, Val Accuracy: 0.8905, Current Loss: 0.1531\n",
      "Epoch 37, Train Accuracy: 0.9279, Val Accuracy: 0.9013, Current Loss: 0.1644\n",
      "Epoch 38, Train Accuracy: 0.9204, Val Accuracy: 0.8948, Current Loss: 0.1577\n",
      "Epoch 39, Train Accuracy: 0.9182, Val Accuracy: 0.8950, Current Loss: 0.1617\n",
      "Epoch 40, Train Accuracy: 0.9251, Val Accuracy: 0.9033, Current Loss: 0.1557\n",
      "Epoch 41, Train Accuracy: 0.9200, Val Accuracy: 0.8975, Current Loss: 0.1560\n",
      "Epoch 42, Train Accuracy: 0.9080, Val Accuracy: 0.8892, Current Loss: 0.1525\n",
      "Epoch 43, Train Accuracy: 0.9204, Val Accuracy: 0.9017, Current Loss: 0.1682\n",
      "Epoch 44, Train Accuracy: 0.9125, Val Accuracy: 0.8937, Current Loss: 0.1502\n",
      "Early stopping: Validation accuracy did not improve for 20 epochs.\n"
     ]
    }
   ],
   "source": [
    "train_accuracies = []\n",
    "val_accuracies = []\n",
    "no_improvement_count = 0\n",
    "patience = 20\n",
    "best_val_acc = 0.0\n",
    "for iteration in range(500):\n",
    "    # Training the model\n",
    "    model, loss, bn_means, bn_vars = train_mnist(images, labels, model, lr=0.01,decay_rate=0.95, beta1=0.6,beta2 = 0.999, mini_batch_size=1024)\n",
    "\n",
    "    # Calculating the accuracies\n",
    "    train_accuracy = evaluate_accuracy(model, images, labels, bn_means, bn_vars)\n",
    "    val_accuracy = evaluate_accuracy(model, test_images, test_labels, bn_means, bn_vars)\n",
    "\n",
    "    # Storing the accuracies to plot it\n",
    "    train_accuracies.append(train_accuracy)\n",
    "    val_accuracies.append(val_accuracy)\n",
    "    \n",
    "    print(f\"Epoch {iteration + 1}, Train Accuracy: {train_accuracy:.4f}, Val Accuracy: {val_accuracy:.4f}, Current Loss: {loss:.4f}\")\n",
    "    # Picking up the best model weights and accuracy\n",
    "    if val_accuracy > best_val_acc:\n",
    "        best_val_acc = val_accuracy\n",
    "        best_model = model.copy()\n",
    "        no_improvement_count = 0\n",
    "    else:\n",
    "        no_improvement_count += 1\n",
    "\n",
    "    if no_improvement_count >= patience:\n",
    "        print(\"Early stopping: Validation accuracy did not improve for 20 epochs.\")\n",
    "        break\n"
   ]
  },
  {
   "cell_type": "code",
   "execution_count": 32,
   "metadata": {},
   "outputs": [
    {
     "data": {
      "image/png": "[encoded data removed]",
      "text/plain": [
       "<Figure size 640x480 with 1 Axes>"
      ]
     },
     "metadata": {},
     "output_type": "display_data"
    }
   ],
   "source": [
    "# Visualizing the accuracies\n",
    "plt.plot(range(1, len(train_accuracies) + 1), train_accuracies, label='Train Accuracy')\n",
    "plt.plot(range(1, len(val_accuracies) + 1), val_accuracies, label='Validation Accuracy')\n",
    "plt.xlabel('Epochs')\n",
    "plt.ylabel('Accuracy')\n",
    "plt.title('Training and Validation Accuracy Over Time')\n",
    "plt.legend()\n",
    "plt.show()"
   ]
  },
  {
   "cell_type": "code",
   "execution_count": 33,
   "metadata": {},
   "outputs": [
    {
     "name": "stdout",
     "output_type": "stream",
     "text": [
      "Best Model Accuracy on Validation set is: 92.0%\n"
     ]
    }
   ],
   "source": [
    "print(f'Best Model Accuracy on Validation set is: {np.round(best_val_acc * 100)}%')"
   ]
  },
  {
   "cell_type": "markdown",
   "metadata": {},
   "source": [
    "**1. Testing on Remaining Test Set:**\n",
    "- It loops through images not used for validation.\n",
    "- For each image:\n",
    "    - Gets a prediction from the best model.\n",
    "    - Extracts predicted and true labels.\n",
    "    - Stores them as pairs for later analysis.\n",
    "\n",
    "**2. Calculating Accuracy:**\n",
    "- Counts correct predictions using list comprehension.\n",
    "- Divides correct by total to get accuracy.\n",
    "\n",
    "**3. Printing Results:**\n",
    "- Outputs number of correct predictions, total predictions, and accuracy percentage.\n",
    "\n"
   ]
  },
  {
   "cell_type": "code",
   "execution_count": 34,
   "metadata": {},
   "outputs": [
    {
     "name": "stdout",
     "output_type": "stream",
     "text": [
      "Correct predictions count is: 3675 out of 4000\n",
      "The accuracy is: 91.88%\n"
     ]
    }
   ],
   "source": [
    "# Iterating over the rest of the test images that we didnt include in val_set\n",
    "all_preds = []\n",
    "for image in range(len(test_labels), len(test_labels_all)):\n",
    "    test_image = test_images_all[image]\n",
    "    test_label = test_labels_all[image]\n",
    "    predicted_label = model_prediction(best_model, test_image, bn_means, bn_vars)\n",
    "    predicted_label = np.argmax(predicted_label)\n",
    "    test_label = np.argmax(test_label)\n",
    "    all_preds.append((predicted_label,test_label))\n",
    "\n",
    "correct_predictions = sum(1 for pred, true_label in all_preds if pred == true_label)\n",
    "accuracy = np.round(correct_predictions / len(all_preds) * 100, 2)\n",
    "\n",
    "print(f'Correct predictions count is: {correct_predictions} out of {len(all_preds)}\\nThe accuracy is: {accuracy}%')"
   ]
  },
  {
   "cell_type": "code",
   "execution_count": 35,
   "metadata": {},
   "outputs": [
    {
     "data": {
      "text/plain": [
       "True"
      ]
     },
     "execution_count": 35,
     "metadata": {},
     "output_type": "execute_result"
    }
   ],
   "source": [
    "# Predicting a random images\n",
    "res = evaluate_accuracy_one_sample(best_model, test_images_all[6123], test_labels_all[6123], bn_means, bn_vars)\n",
    "res \n"
   ]
  },
  {
   "cell_type": "markdown",
   "metadata": {},
   "source": [
    "## Draft cells\n"
   ]
  },
  {
   "cell_type": "code",
   "execution_count": 36,
   "metadata": {},
   "outputs": [
    {
     "name": "stdout",
     "output_type": "stream",
     "text": [
      "oringinal x:\n",
      "[[-0.75275929  2.70428584  1.39196365]\n",
      " [ 0.59195091 -2.06388816 -2.06403288]\n",
      " [-2.65149833  2.19705687  0.60669007]]\n",
      "\n",
      "corrected x:\n",
      "[[ -7.52759287  27.04285838  13.91963651]\n",
      " [  5.91950905 -20.63888157 -20.64032878]\n",
      " [-26.51498327  21.97056875   6.0669007 ]]\n",
      "\n",
      "divide without correction x:\n",
      "[[-0.15055186  0.54085717  0.27839273]\n",
      " [ 0.11839018 -0.41277763 -0.41280658]\n",
      " [-0.53029967  0.43941137  0.12133801]]\n",
      "\n",
      "divide with correction x:\n",
      "[[-1.50551857  5.40857168  2.7839273 ]\n",
      " [ 1.18390181 -4.12777631 -4.12806576]\n",
      " [-5.30299665  4.39411375  1.21338014]]\n"
     ]
    }
   ],
   "source": [
    "np.random.seed(42)\n",
    "x = np.random.uniform(-3,3, size=(3,3))\n",
    "x_corr = x/(1 - 0.9)\n",
    "print(f'oringinal x:\\n{x}')\n",
    "print()\n",
    "print(f'corrected x:\\n{x_corr}')\n",
    "print()\n",
    "print(f'divide without correction x:\\n{x/np.sqrt(25)}')\n",
    "print()\n",
    "print(f'divide with correction x:\\n{x_corr/np.sqrt(25)}')\n"
   ]
  },
  {
   "cell_type": "code",
   "execution_count": 37,
   "metadata": {},
   "outputs": [
    {
     "name": "stdout",
     "output_type": "stream",
     "text": [
      "Actual Label of example 1:\n",
      " [0. 0. 0. 0. 0. 0. 0. 1. 0. 0.]\n",
      "\n",
      "Prediction of the model of example 1:\n",
      " [0.00000000e+000 5.41669804e-225 6.99085337e-300 3.69931241e-249\n",
      " 0.00000000e+000 0.00000000e+000 0.00000000e+000 1.00000000e+000\n",
      " 0.00000000e+000 4.28885549e-255]\n",
      "\n",
      "Subtraction of the predection and the actual label example 1:\n",
      " [0.00000000e+000 5.41669804e-225 6.99085337e-300 3.69931241e-249\n",
      " 0.00000000e+000 0.00000000e+000 0.00000000e+000 0.00000000e+000\n",
      " 0.00000000e+000 4.28885549e-255]\n",
      "-------------------------\n",
      "(16, 10)\n",
      "(16, 10)\n"
     ]
    }
   ],
   "source": [
    "# Simulating the error \n",
    "np.random.seed(42)\n",
    "preds = model_prediction(model, test_images[0:16], bn_means, bn_vars) # 16x10\n",
    "print(f'Actual Label of example 1:\\n {test_labels[0:16][0]}')\n",
    "print()\n",
    "print(f'Prediction of the model of example 1:\\n {preds[0]}')\n",
    "print()\n",
    "print(f'Subtraction of the predection and the actual label example 1:\\n {(preds - test_labels[0:16])[0]}') # This is the pure error which is we are going to calculate the dervitive according to it\n",
    "print('-------------------------')\n",
    "print((test_labels[0:16]).shape)\n",
    "print((preds.shape))"
   ]
  },
  {
   "cell_type": "code",
   "execution_count": 38,
   "metadata": {},
   "outputs": [
    {
     "name": "stdout",
     "output_type": "stream",
     "text": [
      "[7 2 1 0 4 1 4 9 6 9 0 6 9 0 1 3]\n",
      "[7 2 1 0 4 1 4 9 5 9 0 6 9 0 1 5]\n",
      "0.875\n",
      "7\n"
     ]
    }
   ],
   "source": [
    "print(np.argmax(preds, axis=1))\n",
    "print(np.argmax(test_labels[0:16], axis=1))\n",
    "print(np.mean(np.argmax(preds, axis=1) == np.argmax(test_labels[0:16], axis=1)))\n",
    "print(np.argmax(preds[0])) # taking a list and returning the index of the greatest number of this list"
   ]
  },
  {
   "cell_type": "code",
   "execution_count": 39,
   "metadata": {},
   "outputs": [
    {
     "data": {
      "text/plain": [
       "array([[0., 0., 0., 0., 0., 0., 0., 0., 0., 0., 0., 0., 0., 0., 0., 0.,\n",
       "        0., 0., 0., 0., 0., 0., 0., 0., 0., 0., 0., 0., 0., 0., 0., 0.,\n",
       "        0., 0., 0., 0., 0., 0., 0., 0., 0., 0., 0., 0., 0., 0., 0., 0.,\n",
       "        0., 0., 0., 0., 0., 0., 0., 0., 0., 0., 0., 0., 0., 0., 0., 0.,\n",
       "        0., 0., 0., 0., 0., 0., 0., 0., 0., 0., 0., 0., 0., 0., 0., 0.,\n",
       "        0., 0., 0., 0., 0., 0., 0., 0., 0., 0., 0., 0., 0., 0., 0., 0.,\n",
       "        0., 0., 0., 0.]])"
      ]
     },
     "execution_count": 39,
     "metadata": {},
     "output_type": "execute_result"
    }
   ],
   "source": [
    "test = np.zeros((HIDDEN_LAYER_SIZE, 1))\n",
    "test2 = test.reshape(1, -1)\n",
    "test2"
   ]
  },
  {
   "cell_type": "code",
   "execution_count": 40,
   "metadata": {},
   "outputs": [
    {
     "name": "stdout",
     "output_type": "stream",
     "text": [
      "[[-0.15909362  0.33998078  0.01211581  0.24532239]]\n",
      "\n",
      "[[-0.12545988  0.45071431  0.23199394  0.09865848]\n",
      " [-0.34398136 -0.34400548 -0.44191639  0.36617615]\n",
      " [ 0.10111501  0.20807258 -0.47941551  0.46990985]]\n",
      "\n",
      "[[-0.12386894  0.4473145   0.23187278  0.09620526]\n",
      " [-0.34239042 -0.34740529 -0.44203755  0.36372292]\n",
      " [ 0.10270595  0.20467277 -0.47953666  0.46745663]]\n"
     ]
    }
   ],
   "source": [
    "np.random.seed(42)\n",
    "weight = np.random.uniform(-0.5,0.5, size=(3,4))\n",
    "out_delta = np.random.uniform(0,1, size=(1,3))\n",
    "hidden_delta = out_delta.dot(weight)\n",
    "\n",
    "print(hidden_delta)\n",
    "print()\n",
    "print(weight)\n",
    "weight -= 0.01 * hidden_delta\n",
    "print()\n",
    "print(weight)"
   ]
  },
  {
   "cell_type": "code",
   "execution_count": 41,
   "metadata": {},
   "outputs": [
    {
     "name": "stdout",
     "output_type": "stream",
     "text": [
      "[[-0.00025092  0.00090143  0.00046399  0.00019732]\n",
      " [-0.00068796 -0.00068801 -0.00088383  0.00073235]\n",
      " [ 0.00020223  0.00041615 -0.00095883  0.00093982]\n",
      " [ 0.00066489 -0.00057532 -0.00063635 -0.00063319]]\n",
      "\n",
      "[[-0.00025091  0.00090144  0.000464    0.00019733]\n",
      " [-0.00068795 -0.000688   -0.00088382  0.00073236]\n",
      " [ 0.00020224  0.00041616 -0.00095882  0.00093983]\n",
      " [ 0.0006649  -0.00057531 -0.00063634 -0.00063318]]\n"
     ]
    }
   ],
   "source": [
    "np.random.seed(42)\n",
    "sdw = np.random.uniform(-0.001,0.001, size=(4,4))\n",
    "print(sdw)\n",
    "print()\n",
    "print(sdw + epsilon)"
   ]
  },
  {
   "cell_type": "code",
   "execution_count": 42,
   "metadata": {},
   "outputs": [
    {
     "name": "stdout",
     "output_type": "stream",
     "text": [
      "(128, 10)\n",
      "(1, 10)\n"
     ]
    }
   ],
   "source": [
    "x = np.random.randint(0,5,size=(128,10))\n",
    "b = np.random.randint(2,3, size=(1,10))\n",
    "print((b - x).shape)\n",
    "print((b - np.mean(x)).shape)"
   ]
  }
 ],
 "metadata": {
  "kernelspec": {
   "display_name": "torch_gpuenv",
   "language": "python",
   "name": "python3"
  },
  "language_info": {
   "codemirror_mode": {
    "name": "ipython",
    "version": 3
   },
   "file_extension": ".py",
   "mimetype": "text/x-python",
   "name": "python",
   "nbconvert_exporter": "python",
   "pygments_lexer": "ipython3",
   "version": "3.9.16"
  },
  "orig_nbformat": 4
 },
 "nbformat": 4,
 "nbformat_minor": 2
}
