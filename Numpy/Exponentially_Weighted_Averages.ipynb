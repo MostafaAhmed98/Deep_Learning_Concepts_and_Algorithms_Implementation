{
 "cells": [
  {
   "cell_type": "markdown",
   "metadata": {},
   "source": [
    " **exponentially weighted averages (EWMAs):**\n",
    "\n",
    "**What they are:**\n",
    "\n",
    "- A way to calculate an average that gives more weight to recent data points, making it especially useful for tracking trends in time-series data.\n",
    "- It achieves this by assigning decreasing weights to older data points in an exponential manner—like an echo that gradually fades away.\n",
    "\n",
    "**How they work:**\n",
    "\n",
    "1. **Choose a weighting parameter (β):** This value, between 0 and 1, determines how quickly the weights decline. Higher β values place more emphasis on recent data.\n",
    "2. **Initialize the EWMA:** Start with the first data point as the initial EWMA value.\n",
    "3. **Calculate the EWMA for each subsequent data point:**\n",
    "   - Use the formula: `EWMA_t = β * EWMA_(t-1) + (1 - β) * x_t`\n",
    "      - `EWMA_t` is the EWMA at time t\n",
    "      - `EWMA_(t-1)` is the previous EWMA value\n",
    "      - `x_t` is the current data point\n",
    "4. **Update iteratively:** The EWMA value is updated with each new data point, creating a smooth, responsive average that reflects the most recent trends.\n",
    "\n",
    "**Key features:**\n",
    "\n",
    "- **Smoothness:** EWMAs are effective at reducing noise and revealing underlying trends.\n",
    "- **Responsiveness:** They adapt quickly to changes in data, making them valuable for real-time tracking.\n",
    "- **Computational efficiency:** They require minimal memory and processing power, making them practical for large datasets.\n",
    "\n",
    "**Common applications:**\n",
    "\n",
    "- **Finance:** Stock price analysis, volatility modeling, risk management\n",
    "- **Signal processing:** Noise reduction, trend identification\n",
    "- **Machine learning:** Optimization algorithms (e.g., gradient descent with momentum), model training\n",
    "- **Other fields:** Inventory control, sales forecasting, weather prediction, and more\n"
   ]
  },
  {
   "cell_type": "code",
   "execution_count": 10,
   "metadata": {},
   "outputs": [
    {
     "name": "stdout",
     "output_type": "stream",
     "text": [
      "New input from the data is: 12 and the EMWA new value is 10\n",
      "New input from the data is: 15 and the EMWA new value is 11.0\n",
      "New input from the data is: 13 and the EMWA new value is 13.0\n",
      "New input from the data is: 18 and the EMWA new value is 13.0\n",
      "New input from the data is: 16 and the EMWA new value is 15.5\n",
      "New input from the data is: 20 and the EMWA new value is 15.75\n",
      "New input from the data is: 14 and the EMWA new value is 17.875\n",
      "New input from the data is: 10 and the EMWA new value is 15.9375\n",
      "New input from the data is: 16 and the EMWA new value is 12.96875\n",
      "Exponentially Weighted Average: 14.484375\n"
     ]
    }
   ],
   "source": [
    "import numpy as np\n",
    "\n",
    "# Data to be smoothed (e.g., a stock's price over time)\n",
    "data = np.array([10, 12, 15, 13, 18, 16, 20, 14, 10, 16])\n",
    "\n",
    "# Parameter controlling the weight given to recent data (between 0 and 1)\n",
    "beta = 0.5\n",
    "\n",
    "# Initialize the first value of the EWMA\n",
    "t_1 = data[0] # 10\n",
    "\n",
    "# Calculate the EWMA for each subsequent data point\n",
    "for value in data[1:]:\n",
    "    print(f'New input from the data is: {value} and the EMWA new value is {t_1}')\n",
    "    t_1 = beta * t_1 + (1 - beta) * value \n",
    "\n",
    "print(\"Exponentially Weighted Average:\", t_1)\n"
   ]
  },
  {
   "cell_type": "code",
   "execution_count": 5,
   "metadata": {},
   "outputs": [
    {
     "data": {
      "text/plain": [
       "array([[0., 0., 0., 0.],\n",
       "       [0., 0., 0., 0.],\n",
       "       [0., 0., 0., 0.],\n",
       "       [0., 0., 0., 0.]])"
      ]
     },
     "execution_count": 5,
     "metadata": {},
     "output_type": "execute_result"
    }
   ],
   "source": [
    "W2 = 2 * np.random.random((4, 4)) - 1\n",
    "np.zeros_like(W2)"
   ]
  }
 ],
 "metadata": {
  "kernelspec": {
   "display_name": "torch_gpuenv",
   "language": "python",
   "name": "python3"
  },
  "language_info": {
   "codemirror_mode": {
    "name": "ipython",
    "version": 3
   },
   "file_extension": ".py",
   "mimetype": "text/x-python",
   "name": "python",
   "nbconvert_exporter": "python",
   "pygments_lexer": "ipython3",
   "version": "3.9.16"
  },
  "orig_nbformat": 4
 },
 "nbformat": 4,
 "nbformat_minor": 2
}
