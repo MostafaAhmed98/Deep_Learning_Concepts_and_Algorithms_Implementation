{
 "cells": [
  {
   "cell_type": "markdown",
   "metadata": {},
   "source": [
    "## Single-Input Perceptron for Walking Prediction\n",
    "\n",
    "This code demonstrates a simple single-input perceptron algorithm learning to predict whether someone will walk or stop based on the presence of streetlights:\n",
    "\n",
    "**Initialization:**\n",
    "\n",
    "- `weights`: An array of weights for each input feature (streetlights). Initially, all are set to 0.5.\n",
    "- `alpha`: Learning rate, controlling how much weights are updated in each iteration.\n",
    "- `streetlights`: A 2D array representing streetlight observations, where 1 indicates a light on and 0 is off.\n",
    "- `walk_vs_stop`: An array indicating the actual behavior (walk=1, stop=0) for each observation.\n",
    "- `input`: We only use the first observation from `streetlights` for demonstration.\n",
    "\n",
    "**Training Loop:**\n",
    "\n",
    "- **Each iteration:**\n",
    "    - `pred`: Calculate the predicted outcome (0 or 1) using the current weights and input.\n",
    "    - `error`: Calculate the squared error between the prediction and the actual behavior.\n",
    "    - `delta`: Calculate the difference between the predicted and actual value.\n",
    "    - `weights`: Update weights based on the learning rate, input, and the error (delta).\n",
    "    - `print`: Print the current iteration, error, and prediction."
   ]
  },
  {
   "cell_type": "code",
   "execution_count": 1,
   "metadata": {},
   "outputs": [
    {
     "name": "stdout",
     "output_type": "stream",
     "text": [
      "Iteration 1: Error: 0.03999999999999998\n",
      "Iteration 2: Error: 0.025599999999999973\n",
      "Iteration 3: Error: 0.01638399999999997\n",
      "Iteration 4: Error: 0.010485759999999964\n",
      "Iteration 5: Error: 0.006710886399999962\n",
      "Iteration 6: Error: 0.004294967295999976\n",
      "Iteration 7: Error: 0.002748779069439994\n",
      "Iteration 8: Error: 0.0017592186044416036\n",
      "Iteration 9: Error: 0.0011258999068426293\n",
      "Iteration 10: Error: 0.0007205759403792803\n",
      "Iteration 11: Error: 0.0004611686018427356\n",
      "Iteration 12: Error: 0.0002951479051793508\n",
      "Iteration 13: Error: 0.00018889465931478573\n",
      "Iteration 14: Error: 0.00012089258196146188\n",
      "Iteration 15: Error: 7.737125245533561e-05\n",
      "Iteration 16: Error: 4.951760157141604e-05\n",
      "Iteration 17: Error: 3.169126500570676e-05\n",
      "Iteration 18: Error: 2.028240960365233e-05\n",
      "Iteration 19: Error: 1.298074214633813e-05\n",
      "Iteration 20: Error: 8.307674973656916e-06\n"
     ]
    }
   ],
   "source": [
    "# one input\n",
    "import numpy as np\n",
    "weights = np.array([0.5, 0.48, -0.7])\n",
    "alpha = 0.1\n",
    "\n",
    "streetlights = np.array([   [1, 0, 1],\n",
    "                            [0, 1, 1],\n",
    "                            [0, 0, 1],\n",
    "                            [1, 1, 1],\n",
    "                            [0, 1, 1],\n",
    "                            [1, 0, 1]])\n",
    "\n",
    "walk_vs_stop = np.array([0, 1, 0, 1, 1, 0])\n",
    "input = streetlights[0] # [1, 0, 1]\n",
    "true = walk_vs_stop[0] # 0\n",
    "\n",
    "for iteration in range(20):\n",
    "    pred = input.dot(weights)\n",
    "    error = (true - pred) ** 2\n",
    "    delta = pred - true\n",
    "    weights = weights - (alpha * (input * delta))\n",
    "    print(f\"Iteration {iteration+1}: \" +\"Error: \" + str(error))\n"
   ]
  },
  {
   "cell_type": "markdown",
   "metadata": {},
   "source": [
    "## Walking Prediction with Perceptron and Whole Dataset Training\n",
    "\n",
    "**Initialization:**\n",
    "\n",
    "- `weights`: Same as before, initial weights for each streetlight feature.\n",
    "- `alpha`: Learning rate for weight updates.\n",
    "- `streetlights`: 2D array representing streetlight observations (1=on, 0=off).\n",
    "- `walk_vs_stop`: Array indicating actual behavior (walk=1, stop=0).\n",
    "\n",
    "**Training Loop:**\n",
    "\n",
    "- **Each iteration:**\n",
    "    - `error_for_all`: Initialize total error for the iteration.\n",
    "    - **Loop through each observation:**\n",
    "        - `input`: Select the current streetlight observation.\n",
    "        - `true`: Get the corresponding actual behavior.\n",
    "        - `pred`: Calculate the predicted outcome using current weights and input.\n",
    "        - `error`: Calculate squared error between prediction and true value.\n",
    "        - Add error to `error_for_all`.\n",
    "        - `delta`: Calculate the difference between prediction and true value.\n",
    "        - Update weights based on learning rate, input, and error (delta).\n",
    "    - Print the iteration, total error for the iteration.\n",
    "\n",
    "**Prediction:**\n",
    "\n",
    "- Create a test input with all values set to 1 (represents all streetlights on).\n",
    "- Calculate the dot product of test input and updated weights.\n",
    "- If the result is greater than 0.5, predict \"Walk\", otherwise \"Stop\"."
   ]
  },
  {
   "cell_type": "code",
   "execution_count": 5,
   "metadata": {},
   "outputs": [
    {
     "name": "stdout",
     "output_type": "stream",
     "text": [
      "Iteration 1: Error: 2.6561231104\n",
      "Iteration 2: Error: 0.9628701776715985\n",
      "Iteration 3: Error: 0.5509165866836796\n",
      "Iteration 4: Error: 0.36445836852222424\n",
      "Iteration 5: Error: 0.25167686620798957\n",
      "Iteration 6: Error: 0.17797575048089034\n",
      "Iteration 7: Error: 0.1286446073342217\n",
      "Iteration 8: Error: 0.0951103695047621\n",
      "Iteration 9: Error: 0.07194564247043442\n",
      "Iteration 10: Error: 0.05564914990717743\n",
      "Iteration 11: Error: 0.04394763937673941\n",
      "Iteration 12: Error: 0.03535796705094847\n",
      "Iteration 13: Error: 0.02890700056547436\n",
      "Iteration 14: Error: 0.023951660591138853\n",
      "Iteration 15: Error: 0.020063105176016106\n",
      "Iteration 16: Error: 0.016952094519447077\n",
      "Iteration 17: Error: 0.014420818295271235\n",
      "Iteration 18: Error: 0.012331739998443647\n",
      "Iteration 19: Error: 0.010587393171639842\n",
      "Iteration 20: Error: 0.009117233405426495\n",
      "Iteration 21: Error: 0.007869042269042082\n",
      "Iteration 22: Error: 0.006803273214640504\n",
      "Iteration 23: Error: 0.00588930354183781\n",
      "Iteration 24: Error: 0.005102925256117271\n",
      "Iteration 25: Error: 0.004424644608684851\n",
      "Walk\n"
     ]
    }
   ],
   "source": [
    "# whole dataset training\n",
    "import numpy as np\n",
    "weights = np.array([0.5, 0.48, -0.7])\n",
    "alpha = 0.1\n",
    "\n",
    "streetlights = np.array([   [1, 0, 1],\n",
    "                            [0, 1, 1],\n",
    "                            [0, 0, 1],\n",
    "                            [1, 1, 1],\n",
    "                            [0, 1, 1],\n",
    "                            [1, 0, 1]])\n",
    "\n",
    "walk_vs_stop = np.array([0, 1, 0, 1, 1, 0])\n",
    "\n",
    "\n",
    "for iteration in range(25):\n",
    "    error_for_all = 0\n",
    "    for index in range(len(walk_vs_stop)): # 6\n",
    "        input = streetlights[index]\n",
    "        true = walk_vs_stop[index]\n",
    "        pred = input.dot(weights)\n",
    "        error = (pred - true) ** 2\n",
    "        error_for_all += error\n",
    "        delta = pred - true\n",
    "        weights = weights - (alpha * (input * delta))\n",
    "        #print(\" Prediction: \" + str(pred))\n",
    "    print(f\"Iteration {iteration+1}: \" +\"Error: \" + str(error_for_all) )\n",
    "test = [0, 1, 1] * weights\n",
    "if sum(test) > 0.5:\n",
    "    print('Walk')\n",
    "else:\n",
    "    print('Stop')\n"
   ]
  },
  {
   "cell_type": "markdown",
   "metadata": {},
   "source": [
    "## Looping over the Dataset with Bias and without"
   ]
  },
  {
   "cell_type": "code",
   "execution_count": 5,
   "metadata": {},
   "outputs": [
    {
     "name": "stdout",
     "output_type": "stream",
     "text": [
      "Error: 0.6342311598444467\n",
      "Error: 0.35838407676317513\n",
      "Error: 0.0830183113303298\n",
      "Error: 0.006467054957103705\n",
      "Error: 0.0003292669000750734\n",
      "Error: 1.5055622665134859e-05\n"
     ]
    }
   ],
   "source": [
    "## Without Biasses\n",
    "np.random.seed(1)\n",
    "streetlights = np.array([[1, 0, 1],\n",
    "                         [0, 1, 1],\n",
    "                         [0, 0, 1],\n",
    "                         [1, 1, 1]]) # inputs\n",
    "walk_vs_stop = np.array([[1, 1, 0, 0]]).T # outputs\n",
    "def relu(x):\n",
    "    return (x > 0) * x\n",
    "def relu2deriv(output):\n",
    "    return output > 0\n",
    "# Initialize random weights between -1 and 1, biases at zero\n",
    "hidden_size = 4\n",
    "output_size = 1\n",
    "input_size = 3\n",
    "alpha = 0.2\n",
    "weights_0_1 = 2 * np.random.random((input_size, hidden_size)) - 1 # 3x4\n",
    "weights_1_2 = 2 * np.random.random((hidden_size, output_size)) - 1 # 4x1\n",
    "for iteration in range(60):\n",
    "    layer_2_error = 0\n",
    "    for i in range(len(walk_vs_stop)):\n",
    "        layer_0 = streetlights[i:i+1] # 1x3\n",
    "        layer_1 = relu(np.dot(layer_0, weights_0_1) + b) # 1x3 * 3x4 = 1x4\n",
    "        layer_2 = np.dot(layer_1, weights_1_2) # 1x4 * 4x1 = 1x1\n",
    "        layer_2_error += np.sum((layer_2 - walk_vs_stop[i:i+1]) ** 2)\n",
    "        layer_2_delta = (layer_2 - walk_vs_stop[i:i+1])     # scalar - scalar / 1x1 - 1x1 = single value\n",
    "        layer_1_delta = layer_2_delta.dot(weights_1_2.T) * relu2deriv(layer_1) # 1x1 * 1x4 = 1x4 (weighted sum/dot product) --> 1x4 * 1x4 (elementwise multiplication)\n",
    "        weights_1_2 -= alpha * layer_1.T.dot(layer_2_delta) # weights_1_2 + 0.2 * (4x1 * 1x1) = weights_1_2 + 4x1 = new weights\n",
    "        weights_0_1 -= alpha * layer_0.T.dot(layer_1_delta) # weights_0_1 + 0.2 * (3x1 * 1x4) = weights_0_1 + 3x4 = new weights\n",
    "    if iteration % 10 == 9:\n",
    "        print(f\"Error: {layer_2_error}\")\n",
    "\n",
    "\n"
   ]
  },
  {
   "cell_type": "code",
   "execution_count": 3,
   "metadata": {},
   "outputs": [
    {
     "name": "stdout",
     "output_type": "stream",
     "text": [
      "Error: 0.4645221167080672\n",
      "Error: 0.1673265734674444\n",
      "Error: 0.016549482150906406\n",
      "Error: 2.256711580124347e-05\n",
      "Error: 8.990664787657676e-09\n",
      "Error: 3.613913005749867e-12\n"
     ]
    },
    {
     "ename": "",
     "evalue": "",
     "output_type": "error",
     "traceback": [
      "\u001b[1;31mThe Kernel crashed while executing code in the the current cell or a previous cell. Please review the code in the cell(s) to identify a possible cause of the failure. Click <a href='https://aka.ms/vscodeJupyterKernelCrash'>here</a> for more info. View Jupyter <a href='command:jupyter.viewOutput'>log</a> for further details."
     ]
    }
   ],
   "source": [
    "## With Biasses\n",
    "np.random.seed(1)\n",
    "\n",
    "streetlights = np.array([[1, 0, 1],\n",
    "                         [0, 1, 1],\n",
    "                         [0, 0, 1],\n",
    "                         [1, 1, 1]])  # inputs\n",
    "walk_vs_stop = np.array([[1, 1, 0, 0]]).T  # outputs\n",
    "\n",
    "def relu(x):\n",
    "    return (x > 0) * x\n",
    "\n",
    "def relu2deriv(output):\n",
    "    return output > 0\n",
    "\n",
    "# Initialize random weights and biases\n",
    "hidden_size = 4\n",
    "output_size = 1\n",
    "input_size = 3\n",
    "alpha = 0.2\n",
    "\n",
    "weights_0_1 = 2 * np.random.random((input_size, hidden_size)) - 1  # 3x4\n",
    "weights_1_2 = 2 * np.random.random((hidden_size, output_size)) - 1  # 4x1\n",
    "biases_0_1 = np.ones((1, hidden_size))  # 1x4\n",
    "biases_1_2 = np.ones((1, output_size))  # 1x1\n",
    "\n",
    "for iteration in range(60):\n",
    "    layer_2_error = 0\n",
    "    for i in range(len(walk_vs_stop)):\n",
    "        layer_0 = streetlights[i:i+1]  # 1x3\n",
    "        layer_1 = relu(np.dot(layer_0, weights_0_1) + biases_0_1)  # 1x3 * 3x4 + 1x4 = 1x4\n",
    "        layer_2 = np.dot(layer_1, weights_1_2) + biases_1_2  # 1x4 * 4x1 + 1x1 = 1x1\n",
    "        layer_2_error += np.sum((layer_2 - walk_vs_stop[i:i+1]) ** 2)\n",
    "        layer_2_delta = (layer_2 - walk_vs_stop[i:i+1])  # 1x1 - 1x1 = 1x1\n",
    "        layer_1_delta = layer_2_delta.dot(weights_1_2.T) * relu2deriv(layer_1)  # 1x1 * 1x4 = 1x4\n",
    "        weights_1_2 -= alpha * layer_1.T.dot(layer_2_delta)  # 4x1 + 4x1 = 4x1\n",
    "        biases_1_2 -= alpha * layer_2_delta  # 1x1 + 1x1 = 1x1\n",
    "        weights_0_1 -= alpha * layer_0.T.dot(layer_1_delta)  # 3x4 + 3x4 = 3x4\n",
    "        biases_0_1 -= alpha * layer_1_delta  # 1x4 + 1x4 = 1x4\n",
    "    if iteration % 10 == 9:\n",
    "        print(f\"Error: {layer_2_error}\")\n"
   ]
  },
  {
   "cell_type": "markdown",
   "metadata": {},
   "source": [
    "\n",
    "![picture 1](images/caab1d76386e28df4646c8f3b72726d28ad9baf51474cc63d6b6151d94bd5b10.png)\n"
   ]
  },
  {
   "cell_type": "code",
   "execution_count": 10,
   "metadata": {
    "slideshow": {
     "slide_type": "subslide"
    }
   },
   "outputs": [
    {
     "name": "stdout",
     "output_type": "stream",
     "text": [
      "Error: 0.6342311598444467\n",
      "Error: 0.35838407676317513\n",
      "Error: 0.0830183113303298\n",
      "Error: 0.006467054957103705\n",
      "Error: 0.0003292669000750734\n",
      "Error: 1.5055622665134859e-05\n"
     ]
    }
   ],
   "source": [
    "import numpy as np\n",
    "np.random.seed(1)\n",
    "streetlights = np.array([[1, 0, 1],\n",
    "                         [0, 1, 1],\n",
    "                         [0, 0, 1],\n",
    "                         [1, 1, 1]]) # inputs\n",
    "walk_vs_stop = np.array([[1, 1, 0, 0]]).T # outputs\n",
    "def relu(x):\n",
    "    return (x > 0) * x\n",
    "def relu2deriv(output):\n",
    "    return output > 0\n",
    "# Initialize random weights between -1 and 1, biases at zero\n",
    "hidden_size = 4\n",
    "output_size = 1\n",
    "input_size = 3\n",
    "alpha = 0.2\n",
    "weights_0_1 = 2 * np.random.random((input_size, hidden_size)) - 1 # 3x4\n",
    "weights_1_2 = 2 * np.random.random((hidden_size, output_size)) - 1 # 4x1\n",
    "\n",
    "for iteration in range(60):\n",
    "    error_of_layer_3 = 0\n",
    "    for i in range(len(walk_vs_stop)):\n",
    "        layer_0 = streetlights[i:i+1] # 1x3\n",
    "        layer_1 = relu(np.dot(layer_0, weights_0_1)) # 1x3 * 3x4 = 1x4\n",
    "        layer_2 = np.dot(layer_1, weights_1_2) # 1x3 * 3x1 = 1x1\n",
    "        error_of_layer_3 += np.sum((layer_2 - walk_vs_stop[i:i+1]) ** 2)\n",
    "        layer_2_delta = (layer_2 - walk_vs_stop[i:i+1]) # 1x1\n",
    "        layer_1_delta = layer_2_delta.dot(weights_1_2.T) * relu2deriv(layer_1) # 1x1 * 1x3 = 1x3\n",
    "        weights_1_2 -= alpha * layer_1.T.dot(layer_2_delta) # 3x1 * 1x1 = 3x1 \n",
    "        weights_0_1 -= alpha * layer_0.T.dot(layer_1_delta) # 3x1 * 1x3 = 3x3 \n",
    "    if iteration % 10 == 9:\n",
    "        print(f\"Error: {error_of_layer_3}\")"
   ]
  },
  {
   "cell_type": "markdown",
   "metadata": {},
   "source": [
    "## Making the Network more bigger by adding another layer"
   ]
  },
  {
   "cell_type": "code",
   "execution_count": 19,
   "metadata": {},
   "outputs": [
    {
     "name": "stdout",
     "output_type": "stream",
     "text": [
      "Error: 0.9367803226725138\n",
      "Error: 0.5592374543970701\n",
      "Error: 0.4834911798273517\n",
      "Error: 0.41394429957198897\n",
      "Error: 0.34787318445799054\n",
      "Error: 0.2834789212043714\n",
      "Error: 0.22372188658165565\n",
      "Error: 0.17117098863030095\n",
      "Error: 0.12724947233840095\n",
      "Error: 0.09212655425221168\n",
      "Error: 0.06495888297673076\n",
      "Error: 0.04414722216643945\n"
     ]
    }
   ],
   "source": [
    "np.random.seed(1)\n",
    "streetlights = np.array([[1, 0, 1],\n",
    "                         [0, 1, 1],\n",
    "                         [0, 0, 1],\n",
    "                         [1, 1, 1]]) # inputs\n",
    "walk_vs_stop = np.array([[1, 1, 0, 0]]).T # outputs\n",
    "def relu(x):\n",
    "    return (x > 0) * x\n",
    "def relu2deriv(output):\n",
    "    return output > 0\n",
    "# Initialize random weights between -1 and 1, biases at zero\n",
    "hidden_size = 4\n",
    "output_size = 1\n",
    "input_size = 3\n",
    "alpha = 0.2\n",
    "weights_0_1 = 2 * np.random.random((input_size, hidden_size)) - 1 # 3x4\n",
    "weights_1_2 = 2 * np.random.random((hidden_size, hidden_size)) - 1 # 4x4\n",
    "weights_2_3 = 2 * np.random.random((hidden_size, output_size)) - 1 # 4x1\n",
    "\n",
    "for iteration in range(120):\n",
    "    error_of_layer_3 = 0\n",
    "    for i in range(len(walk_vs_stop)):\n",
    "        layer_0 = streetlights[i:i+1] # 1x3\n",
    "        layer_1 = relu(np.dot(layer_0, weights_0_1)) # 1x3 * 3x4 = 1x4\n",
    "        layer_2 = relu(np.dot(layer_1, weights_1_2)) # 1x4 * 4x4 = 1x4\n",
    "        layer_3 = np.dot(layer_2, weights_2_3) # 1x4 * 4x1 = 1x1\n",
    "        error_of_layer_3 += np.sum((layer_3 - walk_vs_stop[i:i+1]) ** 2)\n",
    "        layer_3_delta = (layer_3 - walk_vs_stop[i:i+1])\n",
    "        layer_2_delta = np.dot(layer_3_delta, weights_2_3.T) * relu2deriv(layer_1) # 1x1 * 4x1 = 1x4\n",
    "        layer_1_delta = np.dot(layer_2_delta, weights_1_2) * relu2deriv(layer_1) # 1x4 * 4x4 = 1x4\n",
    "        weights_2_3 -= alpha * layer_2.T.dot(layer_3_delta) # 4x1 * 1x1 = 4x1\n",
    "        weights_1_2 -= alpha * layer_1.T.dot(layer_2_delta) # 4x1 * 1x4 = 4x4\n",
    "        weights_0_1 -= alpha * layer_0.T.dot(layer_1_delta) # 3x1 * 1x4 = 3x4\n",
    "    if iteration % 10 == 9:\n",
    "        print(f\"Error: {error_of_layer_3}\")"
   ]
  },
  {
   "cell_type": "code",
   "execution_count": 7,
   "metadata": {},
   "outputs": [
    {
     "name": "stdout",
     "output_type": "stream",
     "text": [
      "[[1.83404401 2.44064899 1.00022875 1.60466515]]\n",
      "\n",
      "[[1.29351178 1.18467719 1.37252042 1.69112145]]\n",
      "\n",
      "[[2.37235753 2.89138118 1.37283439 2.71368365]]\n",
      "True\n"
     ]
    }
   ],
   "source": [
    "np.random.seed(1)\n",
    "test1 = 2 * np.random.random((1,4)) +1\n",
    "test2 = 2 * np.random.random((1,4)) +1\n",
    "print(test1, end='\\n\\n')\n",
    "print(test2, end='\\n\\n')\n",
    "print(test1 * test2)\n",
    "print(8.91260736926666e-06 < 1.5055622665134859e-05)"
   ]
  },
  {
   "cell_type": "code",
   "execution_count": 37,
   "metadata": {},
   "outputs": [
    {
     "data": {
      "text/plain": [
       "array([[15.83792851]])"
      ]
     },
     "execution_count": 37,
     "metadata": {},
     "output_type": "execute_result"
    }
   ],
   "source": [
    "test1 = 2 * np.random.random((1,4)) + 1\n",
    "test2 = 2 * np.random.random((4,1)) + 1\n",
    "test1.dot(test2)"
   ]
  }
 ],
 "metadata": {
  "kernelspec": {
   "display_name": "torch_gpuenv",
   "language": "python",
   "name": "python3"
  },
  "language_info": {
   "codemirror_mode": {
    "name": "ipython",
    "version": 3
   },
   "file_extension": ".py",
   "mimetype": "text/x-python",
   "name": "python",
   "nbconvert_exporter": "python",
   "pygments_lexer": "ipython3",
   "version": "3.9.16"
  }
 },
 "nbformat": 4,
 "nbformat_minor": 2
}
