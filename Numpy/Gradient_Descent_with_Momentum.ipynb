{
 "cells": [
  {
   "cell_type": "markdown",
   "metadata": {},
   "source": [
    "# MNIST Data Preprocessing\n",
    "1. **Loads MNIST dataset:**\n",
    "    - `(x_train, y_train), (x_test, y_test) = mnist.load_data()`\n",
    "2. **Prepares training data:**\n",
    "    - Reshapes first 60000 images: `images = x_train[0:60000].reshape(60000, 28*28) / 255`\n",
    "    - One-hot encodes labels: `labels = np.zeros((len(labels), 10)); ...`\n",
    "3. **Prepares test data:**\n",
    "    - Reshapes and normalizes all test images: `test_images_all = x_test.reshape(len(x_test), 28*28) / 255`\n",
    "    - One-hot encodes test labels: `test_labels_all = np.zeros((len(y_test), 10)); ...`\n",
    "    - Selects first 6000 test images and labels: `test_images, test_labels = test_images_all[0:6000], test_labels_all[0:6000]`\n",
    "\n"
   ]
  },
  {
   "cell_type": "code",
   "execution_count": 100,
   "metadata": {},
   "outputs": [],
   "source": [
    "import sys, numpy as np\n",
    "from keras.datasets import mnist\n",
    "import matplotlib.pyplot as plt\n",
    "# Preparing the data\n",
    "(x_train, y_train), (x_test, y_test) = mnist.load_data()\n",
    "images, labels = (x_train[0:60000].reshape(60000,28*28) / 255, y_train[0:60000])\n",
    "one_hot_labels = np.zeros((len(labels), 10))\n",
    "for i, l in enumerate(labels):\n",
    "    one_hot_labels[i][l] = 1\n",
    "labels = one_hot_labels\n",
    "\n",
    "test_images_all = x_test.reshape(len(x_test), 28*28) / 255\n",
    "test_labels_all = np.zeros((len(y_test), 10))\n",
    "for i, l in enumerate(y_test):\n",
    "    test_labels_all[i][l] = 1\n",
    "test_images = test_images_all[0:6000]\n",
    "test_labels = test_labels_all[0:6000]"
   ]
  },
  {
   "cell_type": "code",
   "execution_count": 101,
   "metadata": {},
   "outputs": [
    {
     "name": "stdout",
     "output_type": "stream",
     "text": [
      "The shape of Training images: (60000, 784)\n",
      "The shape of Training labels: (60000, 10)\n",
      "The shape of test images: (6000, 784)\n",
      "The shape of test labels: (6000, 10)\n"
     ]
    }
   ],
   "source": [
    "print(f'The shape of Training images: {images.shape}')\n",
    "print(f'The shape of Training labels: {labels.shape}')\n",
    "print(f'The shape of test images: {test_images.shape}')\n",
    "print(f'The shape of test labels: {test_labels.shape}')"
   ]
  },
  {
   "cell_type": "markdown",
   "metadata": {},
   "source": [
    "# Model Initialization\n",
    "\n",
    "- **Layer Definitions:**\n",
    "    - `HIDDEN_LAYER_SIZE = 100`: Number of neurons in the hidden layer.\n",
    "    - `OUTPUT_LAYER_SIZE = 10`: Number of neurons in the output layer (matching 10 digits in MNIST).\n",
    "    - `INPUT_LAYER_SIZE = images.shape[1]`: Number of input features (784 pixels for MNIST images).\n",
    "- **Model Weights and Biases:**\n",
    "    - `W1`: Weights connecting input layer to hidden layer (784x100 matrix).\n",
    "    - `b1`: Biases for hidden layer neurons (1x100 vector).\n",
    "    - `W2`: Weights connecting hidden layer to output layer (100x10 matrix).\n",
    "    - `b2`: Biases for output layer neurons (1x10 vector).\n",
    "- **Random Initialization:**\n",
    "    - Weights are initialized with small random values between -1 and 1 for better learning.\n",
    "    - Biases are initialized to zero.\n",
    "\n",
    "**Purpose:**\n",
    "\n",
    "- Creates a basic neural network model with one hidden layer, ready for training on the prepared MNIST data.\n",
    "```**\n"
   ]
  },
  {
   "cell_type": "code",
   "execution_count": 102,
   "metadata": {},
   "outputs": [],
   "source": [
    "HIDDEN_LAYER_SIZE = 100\n",
    "OUTPUT_LAYER_SIZE = 10\n",
    "INPUT_LAYER_SIZE = images.shape[1]\n",
    "model = {\n",
    "    'W1': 2 * np.random.random((INPUT_LAYER_SIZE, HIDDEN_LAYER_SIZE)) - 1, # 784 x HIDDEN_LAYER_SIZE\n",
    "    'b1': np.zeros((1, HIDDEN_LAYER_SIZE)), # 1 x HIDDEN_LAYER_SIZE\n",
    "    'W2': 2 * np.random.random((HIDDEN_LAYER_SIZE, OUTPUT_LAYER_SIZE)) - 1, # HIDDEN_LAYER_SIZE x OUTPUT_LAYER_SIZE\n",
    "    'b2': np.zeros((1, OUTPUT_LAYER_SIZE)) # 1 x OUTPUT_LAYER_SIZE\n",
    "}\n"
   ]
  },
  {
   "cell_type": "markdown",
   "metadata": {},
   "source": [
    "# Activation Functions\n",
    "\n",
    "**Defined Functions:**\n",
    "\n",
    "- **`sigmoid(x)`:**\n",
    "    - S-shaped curve that maps input values between 0 and 1.\n",
    "    - Commonly used in output layers for binary classification.\n",
    "    - `np.clip(x, -50, 50)` prevents numerical overflow.\n",
    "- **`sigmoid_derivative(x)`:**\n",
    "    - Calculates the derivative of the sigmoid function, used for backpropagation.\n",
    "- **`relu(x)`:**\n",
    "    - Rectified Linear Unit, outputs 0 for negative inputs and the input value itself for positive inputs.\n",
    "    - Promotes sparsity and helps prevent vanishing gradients.\n",
    "- **`relu2deriv(output)`:**\n",
    "    - Derivative of ReLU, used for backpropagation.\n",
    "\n",
    "**Purpose:**\n",
    "\n",
    "- These functions introduce non-linearity into neural networks, enabling them to learn complex patterns and decision boundaries.\n",
    "- They are essential for the training process, as they determine how neurons transform their inputs into outputs and how errors are propagated back to adjust weights and biases.\n",
    "```**\n"
   ]
  },
  {
   "cell_type": "code",
   "execution_count": 103,
   "metadata": {},
   "outputs": [],
   "source": [
    "def sigmoid(x):\n",
    "    x = np.clip(x, -50, 50)\n",
    "    return 1 / (1 + np.exp(-x))\n",
    "def sigmoid_derivative(x):\n",
    "    return sigmoid(x) * (1 - sigmoid(x))\n",
    "\n",
    "def relu(x):\n",
    "    return (x > 0) * x\n",
    "def relu2deriv(output):\n",
    "    return output > 0"
   ]
  },
  {
   "cell_type": "markdown",
   "metadata": {},
   "source": [
    " **exponentially weighted averages (EWMAs) (The way how we looking at the last grdients):**\n",
    "\n",
    "**What they are:**\n",
    "\n",
    "- A way to calculate an average that gives more weight to recent data points, making it especially useful for tracking trends in time-series data.\n",
    "- It achieves this by assigning decreasing weights to older data points in an exponential manner—like an echo that gradually fades away.\n",
    "\n",
    "**How they work:**\n",
    "\n",
    "1. **Choose a weighting parameter (β):** This value, between 0 and 1, determines how quickly the weights decline. Higher β values place more emphasis on recent data.\n",
    "2. **Initialize the EWMA:** Start with the first data point as the initial EWMA value.\n",
    "3. **Calculate the EWMA for each subsequent data point:**\n",
    "   - Use the formula: `EWMA_t = β * EWMA_(t-1) + (1 - β) * x_t`\n",
    "      - `EWMA_t` is the EWMA at time t\n",
    "      - `EWMA_(t-1)` is the previous EWMA value\n",
    "      - `x_t` is the current data point\n",
    "4. **Update iteratively:** The EWMA value is updated with each new data point, creating a smooth, responsive average that reflects the most recent trends."
   ]
  },
  {
   "cell_type": "code",
   "execution_count": 104,
   "metadata": {},
   "outputs": [
    {
     "name": "stdout",
     "output_type": "stream",
     "text": [
      "New input from the data is: 12 and the EMWA new value is 10\n",
      "New input from the data is: 15 and the EMWA new value is 10.2\n",
      "New input from the data is: 13 and the EMWA new value is 10.68\n",
      "New input from the data is: 18 and the EMWA new value is 10.911999999999999\n",
      "New input from the data is: 16 and the EMWA new value is 11.6208\n",
      "New input from the data is: 20 and the EMWA new value is 12.05872\n",
      "New input from the data is: 14 and the EMWA new value is 12.852848\n",
      "New input from the data is: 10 and the EMWA new value is 12.9675632\n",
      "New input from the data is: 16 and the EMWA new value is 12.67080688\n",
      "Exponentially Weighted Average: 13.003726192\n"
     ]
    }
   ],
   "source": [
    "# Data to be smoothed (e.g., a stock's price over time)\n",
    "data = np.array([10, 12, 15, 13, 18, 16, 20, 14, 10, 16])\n",
    "\n",
    "# Parameter controlling the weight given to recent data (between 0 and 1)\n",
    "beta = 0.9\n",
    "\n",
    "# Initialize the first value of the EWMA\n",
    "t_1 = data[0] # 10\n",
    "\n",
    "# Calculate the EWMA for each subsequent data point\n",
    "for value in data[1:]:\n",
    "    print(f'New input from the data is: {value} and the EMWA new value is {t_1}')\n",
    "    t_1 = beta * t_1 + (1 - beta) * value \n",
    "\n",
    "print(\"Exponentially Weighted Average:\", t_1)"
   ]
  },
  {
   "cell_type": "markdown",
   "metadata": {},
   "source": [
    "## Gradient Descent with Momentum\n",
    "\n",
    "In essence, gradient descent with momentum (GDM) builds upon basic gradient descent by **accumulating past gradients** to create a moving average. This average informs the weight updates, leading to smoother progress during optimization. Here's the technical breakdown:\n",
    "\n",
    "**1. Initializing Momentum Terms:**\n",
    "\n",
    "- For each parameter (weight, bias) in the model, we create a corresponding **momentum term (velocity)** initialized to zero.\n",
    "\n",
    "**2. Gradient Calculation:**\n",
    "\n",
    "- Each iteration follows the same process as vanilla gradient descent:\n",
    "    - Forward pass to predict outputs.\n",
    "    - Calculate the loss/error between predictions and actual values.\n",
    "    - Backpropagate to compute the gradients (partial derivatives of the loss) for each parameter.\n",
    "\n",
    "**3. Update Momentum Terms:**\n",
    "\n",
    "- This is where GDM diverges:\n",
    "    - We combine the current gradient with the previous momentum term using a **momentum coefficient (β)**, typically between 0.5 and 0.9.\n",
    "    - The momentum term effectively becomes a **weighted average** of past gradients, giving more weight to recent ones.\n",
    "\n",
    "**4. Update Weights:**\n",
    "\n",
    "- Instead of directly using the current gradient, we use the updated momentum term:\n",
    "    - We subtract the scaled momentum term from the current parameters (weights, biases) to adjust them in the direction of the accumulated gradient.\n",
    "\n",
    "**5. Repeat and Refine:**\n",
    "\n",
    "- This process iterates for the desired number of epochs (training passes).\n",
    "- The momentum term accumulates information across past gradients, guiding the updates and contributing to:\n",
    "    - **Smoother optimization:** Dampens oscillations and avoids getting stuck in shallow minima.\n",
    "    - **Faster convergence:** Reaches the optimal solution quicker, especially with steep slopes or noisy gradients.\n",
    "    - **Increased robustness:** Improves stability and reduces sensitivity to parameter initialization.\n",
    "\n",
    "**Technical Details:**\n",
    "\n",
    "- The momentum coefficient (β) controls the influence of past gradients. Higher β increases memory of past gradients but may overshoot the optimum.\n",
    "- GDM can be seen as a first-order filter on the gradient, smoothing out fluctuations.\n",
    "- Compared to vanilla gradient descent, GDM often requires fewer learning rate adjustments due to its inherently smoother updates.\n",
    "\n",
    "**Impact on Learning:**\n",
    "\n",
    "By incorporating past gradient information, GDM facilitates efficient exploration of the error surface, leading to improved learning:\n",
    "\n",
    "- **Reduced sensitivity to local minima:** Accumulated momentum can help escape shallow valleys and find broader minima.\n",
    "- **Improved generalization:** Smoother updates lead to more stable parameter values, potentially enhancing generalization on unseen data.\n",
    "\n",
    "**In conclusion, GDM provides a robust and efficient alternative to vanilla gradient descent, making it a popular choice for optimizing various models, including neural networks.**\n",
    "\n"
   ]
  },
  {
   "cell_type": "markdown",
   "metadata": {},
   "source": [
    " **Explaination of the `train_mnist` function:**\n",
    "\n",
    "**1. Function Purpose:**\n",
    "- Trains a neural network model on the MNIST dataset using mini-batch gradient descent.\n",
    "\n",
    "**2. Parameters:**\n",
    "- `images`: Input images (array of shape `(num_samples, 784)`).\n",
    "- `labels`: True labels (array of shape `(num_samples, OUTPUT_LAYER_SIZE)`).\n",
    "- `model`: Dictionary containing model weights and biases.\n",
    "- `lr`: Learning rate (default: 0.01).\n",
    "- `momentum`: The momentum coefficient (typically between 0.5 and 0.9) controls how much influence previous gradients have on the current update (default: 0.9).\n",
    "- `decay_rate`: Learning rate decay rate (default: 0.95).\n",
    "- `mini_batch_size`: Size of mini-batches (default: 128).\n",
    "\n",
    "**3. Steps:**\n",
    "\n",
    "1. **Mini-Batch Loop:**\n",
    "   - Iterates through the dataset in mini-batches.\n",
    "2. **Extract Mini-Batch:**\n",
    "   - Gets a subset of images and labels for the current mini-batch.\n",
    "3. **Forward Pass:**\n",
    "   - Calculates outputs for the mini-batch using the model.\n",
    "   - Applies ReLU in the hidden layer and sigmoid in the output layer.\n",
    "4. **Calculate Error:**\n",
    "   - Computes the difference between predicted outputs and true labels.\n",
    "5. **Backpropagation:**\n",
    "   - Calculates error gradients for the output and hidden layers.\n",
    "   - Uses derivatives of ReLU and sigmoid functions.\n",
    "6. **Weights Update:**\n",
    "   - Calculating the Velocity of each weight and biases with respect to the gradient\n",
    "   - Adjusts model weights and biases based on the gradients and velocity.\n",
    "7. **Learning Rate Decay:**\n",
    "   - Decreases the learning rate after each mini-batch to aid convergence.\n",
    "8. **Return Updated Model:**\n",
    "   - Returns the model with updated weights and biases.\n"
   ]
  },
  {
   "cell_type": "code",
   "execution_count": 105,
   "metadata": {},
   "outputs": [],
   "source": [
    "def train_mnist(images, labels, model, lr=0.01, momentum=0.9, decay_rate=0.95, mini_batch_size=128):\n",
    "    num_samples = len(images)\n",
    "    vW1 = np.zeros_like(model['W1']) # Velocity of W1\n",
    "    vb1 = np.zeros_like(model['b1']) # Velocity of b1\n",
    "    vW2 = np.zeros_like(model['W2']) # Velocity of W2\n",
    "    vb2 = np.zeros_like(model['b2']) # Velocity of b2\n",
    "        \n",
    "    for i in range(0, num_samples, mini_batch_size):\n",
    "        # Extract mini-batch\n",
    "        batch_images = images[i:i+mini_batch_size] \n",
    "        batch_labels = labels[i:i+mini_batch_size] \n",
    "        \n",
    "        # Forward pass\n",
    "        hidden_layer = relu(batch_images.dot(model['W1']) + model['b1']) # BATCHSIZE x 784 * 784 x HIDDEN_LAYER_SIZE = BATCHSIZE x HIDDEN_LAYER_SIZE\n",
    "        output_layer = sigmoid(hidden_layer.dot(model['W2']) + model['b2']) # BATCHSIZE x HIDDEN_LAYER_SIZE * HIDDEN_LAYER_SIZE x OUTPUT_LAYER_SIZE = BATCHSIZE x OUTPUT_LAYER_SIZE\n",
    "\n",
    "        # Calculate the error/loss\n",
    "        error = output_layer - batch_labels # BATCHSIZE x OUTPUT_LAYER_SIZE # calculates the pure error, or loss, which is used for computing derivatives in backpropagation\n",
    "\n",
    "        # Backpropagation\n",
    "        output_layer_delta = error * sigmoid_derivative(output_layer) # BATCHSIZE x OUTPUT_LAYER_SIZE\n",
    "        hidden_layer_delta = output_layer_delta.dot(model['W2'].T) * relu2deriv(hidden_layer) # BATCHSIZE x OUTPUT_LAYER_SIZE * OUTPUT_LAYER_SIZE x HIDDEN_LAYER_SIZE = BATCHSIZE x HIDDEN_LAYER_SIZE\n",
    "\n",
    "        # Weights Update\n",
    "        vW2 = momentum * vW2 + (1 - beta) * hidden_layer.T.dot(output_layer_delta) # HIDDEN_LAYER_SIZE x OUTPUT_LAYER_SIZE\n",
    "        model['W2'] -= lr * vW2 \n",
    "        vW1 = momentum * vW1 + (1 - beta) * batch_images.T.dot(hidden_layer_delta) # INPUT_LAYER_SIZE x HIDDEN_LAYER_SIZE\n",
    "        model['W1'] -= lr * vW1 \n",
    "\n",
    "        vb2 = momentum * vb2 + (1 - beta) * np.mean(output_layer_delta)\n",
    "        model['b2'] -= lr * vb2 # 1 x HIDDEN_LAYER_SIZE\n",
    "        vb1 = momentum * vb1 + (1 - beta) * np.mean(hidden_layer_delta)\n",
    "        model['b1'] -= lr * vb1 # 1 x OUTPUT_LAYER_SIZE\n",
    "\n",
    "    # Learning rate decay\n",
    "    lr *= decay_rate\n",
    "\n",
    "    return model\n"
   ]
  },
  {
   "cell_type": "markdown",
   "metadata": {},
   "source": [
    " **Implementation of the prediction and evaluation function**\n",
    "\n",
    "**1. `model_prediction(model, X)`:**\n",
    "\n",
    "- **Purpose:** Generates predictions for given inputs using the model.\n",
    "- **Steps:**\n",
    "    1. **Calculate hidden layer outputs:** Applies ReLU activation to the weighted sum of inputs and hidden layer weights (`model['W1']`) plus biases (`model['b1']`).\n",
    "    2. **Calculate output layer outputs:** Applies sigmoid activation to the weighted sum of hidden layer outputs and output layer weights (`model['W2']`) plus biases (`model['b2']`).\n",
    "    3. **Return output layer:** Returns raw output scores from the output layer, representing predicted probabilities (or confidence scores) for each class.\n",
    "\n",
    "**2. `evaluate_accuracy(model, X, y_true)`:**\n",
    "\n",
    "- **Purpose:** Calculates overall accuracy of the model's predictions on a dataset.\n",
    "- **Steps:**\n",
    "    1. **Generate model predictions:** Calls `model_prediction` to get predictions for all inputs in `X`.\n",
    "    2. **Extract predicted labels:** Finds the index of the highest-scoring class for each prediction using `np.argmax`.\n",
    "    3. **Extract true labels:** Extracts true class labels from `y_true` (assuming one-hot encoded).\n",
    "    4. **Compare predictions and true labels:** Calculates the proportion of correct predictions.\n",
    "    5. **Return accuracy:** Returns the overall accuracy as a percentage.\n",
    "\n",
    "**3. `evaluate_accuracy_one_sample(model, X, y_true)`:**\n",
    "\n",
    "- **Purpose:** Evaluates accuracy for a single sample (input and true label).\n",
    "- **Steps:**\n",
    "    1. **Generate model prediction:** Calls `model_prediction` for the single input `X`.\n",
    "    2. **Extract predicted label:** Finds the index of the highest-scoring class in the prediction.\n",
    "    3. **Extract true label:** Extracts the true class label from `y_true`.\n",
    "    4. **Compare prediction and true label:** Checks if they match.\n",
    "    5. **Return accuracy:** Returns `True` if prediction is correct, `False` otherwise.\n"
   ]
  },
  {
   "cell_type": "code",
   "execution_count": 106,
   "metadata": {},
   "outputs": [],
   "source": [
    "def model_prediction(model, X):\n",
    "    hidden_layer = relu(X.dot(model['W1']) + model['b1']) \n",
    "    output_layer = sigmoid(hidden_layer.dot(model['W2']) + model['b2']) \n",
    "    return output_layer\n",
    "\n",
    "def evaluate_accuracy(model, X, y_true):\n",
    "    predictions = model_prediction(model, X)\n",
    "    predicted_labels = np.argmax(predictions, axis=1)\n",
    "    true_labels = np.argmax(y_true, axis=1)\n",
    "    \n",
    "    accuracy = np.mean(predicted_labels == true_labels)\n",
    "    return accuracy\n",
    "def evaluate_accuracy_one_sample(model, X, y_true):\n",
    "    predictions = model_prediction(model, X)\n",
    "    predicted_labels = np.argmax(predictions)\n",
    "    true_labels = np.argmax(y_true)\n",
    "    \n",
    "    accuracy = predicted_labels == true_labels\n",
    "    return accuracy\n"
   ]
  },
  {
   "cell_type": "markdown",
   "metadata": {},
   "source": [
    "**1. Training Setup:**\n",
    "\n",
    "- **Lists for Accuracies:** `train_accuracies` and `val_accuracies` store accuracies from each epoch for tracking progress.\n",
    "- **Early Stopping:**\n",
    "    - `no_improvement_count` tracks epochs without validation improvement.\n",
    "    - `patience` sets the maximum number of epochs without improvement before stopping (50 in this case).\n",
    "    - `best_val_acc` stores the best validation accuracy achieved so far.\n",
    "\n",
    "**2. Training Loop:**\n",
    "\n",
    "- **Iterates up to 500 epochs:** Runs a maximum of 500 training iterations.\n",
    "- **Model Training:**\n",
    "    - Calls the `train_mnist` function to train the model on the training data (`images`, `labels`).\n",
    "        - Uses hyperparameters: learning rate (`lr`), regularization type (`regularization`), regularization strength (`reg_lambda`), and mini-batch size (`mini_batch_size`).\n",
    "- **Accuracy Calculation:**\n",
    "    - Evaluates accuracy on both training and validation sets using `evaluate_accuracy`.\n",
    "- **Storing Accuracies:** Appends accuracies to their respective lists for plotting.\n",
    "- **Printing Progress:** Prints epoch number and accuracies.\n",
    "- **Best Model Tracking:**\n",
    "    - If validation accuracy improves, updates `best_val_acc`, copies model weights to `best_model`, and resets `no_improvement_count`.\n",
    "- **Early Stopping:**\n",
    "    - If validation accuracy hasn't improved for `patience` epochs, stops training and prints a message.\n"
   ]
  },
  {
   "cell_type": "code",
   "execution_count": 107,
   "metadata": {},
   "outputs": [
    {
     "name": "stdout",
     "output_type": "stream",
     "text": [
      "Epoch 1, Train Accuracy: 0.8132, Val Accuracy: 0.7937\n",
      "Epoch 2, Train Accuracy: 0.8454, Val Accuracy: 0.8222\n",
      "Epoch 3, Train Accuracy: 0.8643, Val Accuracy: 0.8417\n",
      "Epoch 4, Train Accuracy: 0.8774, Val Accuracy: 0.8547\n",
      "Epoch 5, Train Accuracy: 0.8860, Val Accuracy: 0.8642\n",
      "Epoch 6, Train Accuracy: 0.8935, Val Accuracy: 0.8697\n",
      "Epoch 7, Train Accuracy: 0.8989, Val Accuracy: 0.8790\n",
      "Epoch 8, Train Accuracy: 0.9036, Val Accuracy: 0.8842\n",
      "Epoch 9, Train Accuracy: 0.9070, Val Accuracy: 0.8873\n",
      "Epoch 10, Train Accuracy: 0.9104, Val Accuracy: 0.8893\n",
      "Epoch 11, Train Accuracy: 0.9131, Val Accuracy: 0.8913\n",
      "Epoch 12, Train Accuracy: 0.9156, Val Accuracy: 0.8940\n",
      "Epoch 13, Train Accuracy: 0.9179, Val Accuracy: 0.8965\n",
      "Epoch 14, Train Accuracy: 0.9199, Val Accuracy: 0.8992\n",
      "Epoch 15, Train Accuracy: 0.9221, Val Accuracy: 0.9020\n",
      "Epoch 16, Train Accuracy: 0.9242, Val Accuracy: 0.9052\n",
      "Epoch 17, Train Accuracy: 0.9255, Val Accuracy: 0.9078\n",
      "Epoch 18, Train Accuracy: 0.9270, Val Accuracy: 0.9098\n",
      "Epoch 19, Train Accuracy: 0.9284, Val Accuracy: 0.9120\n",
      "Epoch 20, Train Accuracy: 0.9299, Val Accuracy: 0.9142\n",
      "Epoch 21, Train Accuracy: 0.9313, Val Accuracy: 0.9158\n",
      "Epoch 22, Train Accuracy: 0.9325, Val Accuracy: 0.9163\n",
      "Epoch 23, Train Accuracy: 0.9337, Val Accuracy: 0.9178\n",
      "Epoch 24, Train Accuracy: 0.9348, Val Accuracy: 0.9192\n",
      "Epoch 25, Train Accuracy: 0.9355, Val Accuracy: 0.9198\n",
      "Epoch 26, Train Accuracy: 0.9363, Val Accuracy: 0.9202\n",
      "Epoch 27, Train Accuracy: 0.9374, Val Accuracy: 0.9203\n",
      "Epoch 28, Train Accuracy: 0.9385, Val Accuracy: 0.9213\n",
      "Epoch 29, Train Accuracy: 0.9391, Val Accuracy: 0.9218\n",
      "Epoch 30, Train Accuracy: 0.9399, Val Accuracy: 0.9228\n",
      "Epoch 31, Train Accuracy: 0.9406, Val Accuracy: 0.9240\n",
      "Epoch 32, Train Accuracy: 0.9414, Val Accuracy: 0.9247\n",
      "Epoch 33, Train Accuracy: 0.9423, Val Accuracy: 0.9248\n",
      "Epoch 34, Train Accuracy: 0.9431, Val Accuracy: 0.9257\n",
      "Epoch 35, Train Accuracy: 0.9438, Val Accuracy: 0.9260\n",
      "Epoch 36, Train Accuracy: 0.9447, Val Accuracy: 0.9273\n",
      "Epoch 37, Train Accuracy: 0.9453, Val Accuracy: 0.9282\n",
      "Epoch 38, Train Accuracy: 0.9459, Val Accuracy: 0.9287\n",
      "Epoch 39, Train Accuracy: 0.9466, Val Accuracy: 0.9285\n",
      "Epoch 40, Train Accuracy: 0.9471, Val Accuracy: 0.9287\n",
      "Epoch 41, Train Accuracy: 0.9478, Val Accuracy: 0.9288\n",
      "Epoch 42, Train Accuracy: 0.9485, Val Accuracy: 0.9302\n",
      "Epoch 43, Train Accuracy: 0.9489, Val Accuracy: 0.9305\n",
      "Epoch 44, Train Accuracy: 0.9494, Val Accuracy: 0.9310\n",
      "Epoch 45, Train Accuracy: 0.9500, Val Accuracy: 0.9317\n",
      "Epoch 46, Train Accuracy: 0.9506, Val Accuracy: 0.9328\n",
      "Epoch 47, Train Accuracy: 0.9511, Val Accuracy: 0.9332\n",
      "Epoch 48, Train Accuracy: 0.9517, Val Accuracy: 0.9337\n",
      "Epoch 49, Train Accuracy: 0.9521, Val Accuracy: 0.9335\n",
      "Epoch 50, Train Accuracy: 0.9524, Val Accuracy: 0.9348\n",
      "Epoch 51, Train Accuracy: 0.9528, Val Accuracy: 0.9350\n",
      "Epoch 52, Train Accuracy: 0.9530, Val Accuracy: 0.9350\n",
      "Epoch 53, Train Accuracy: 0.9536, Val Accuracy: 0.9360\n",
      "Epoch 54, Train Accuracy: 0.9539, Val Accuracy: 0.9372\n",
      "Epoch 55, Train Accuracy: 0.9544, Val Accuracy: 0.9378\n",
      "Epoch 56, Train Accuracy: 0.9549, Val Accuracy: 0.9380\n",
      "Epoch 57, Train Accuracy: 0.9554, Val Accuracy: 0.9382\n",
      "Epoch 58, Train Accuracy: 0.9557, Val Accuracy: 0.9385\n",
      "Epoch 59, Train Accuracy: 0.9560, Val Accuracy: 0.9383\n",
      "Epoch 60, Train Accuracy: 0.9565, Val Accuracy: 0.9382\n",
      "Epoch 61, Train Accuracy: 0.9568, Val Accuracy: 0.9388\n",
      "Epoch 62, Train Accuracy: 0.9572, Val Accuracy: 0.9395\n",
      "Epoch 63, Train Accuracy: 0.9577, Val Accuracy: 0.9395\n",
      "Epoch 64, Train Accuracy: 0.9579, Val Accuracy: 0.9400\n",
      "Epoch 65, Train Accuracy: 0.9581, Val Accuracy: 0.9400\n",
      "Epoch 66, Train Accuracy: 0.9583, Val Accuracy: 0.9400\n",
      "Epoch 67, Train Accuracy: 0.9586, Val Accuracy: 0.9403\n",
      "Epoch 68, Train Accuracy: 0.9590, Val Accuracy: 0.9408\n",
      "Epoch 69, Train Accuracy: 0.9595, Val Accuracy: 0.9407\n",
      "Epoch 70, Train Accuracy: 0.9597, Val Accuracy: 0.9412\n",
      "Epoch 71, Train Accuracy: 0.9599, Val Accuracy: 0.9417\n",
      "Epoch 72, Train Accuracy: 0.9601, Val Accuracy: 0.9418\n",
      "Epoch 73, Train Accuracy: 0.9604, Val Accuracy: 0.9417\n",
      "Epoch 74, Train Accuracy: 0.9607, Val Accuracy: 0.9418\n",
      "Epoch 75, Train Accuracy: 0.9609, Val Accuracy: 0.9418\n",
      "Epoch 76, Train Accuracy: 0.9612, Val Accuracy: 0.9418\n",
      "Epoch 77, Train Accuracy: 0.9614, Val Accuracy: 0.9418\n",
      "Epoch 78, Train Accuracy: 0.9618, Val Accuracy: 0.9420\n",
      "Epoch 79, Train Accuracy: 0.9620, Val Accuracy: 0.9420\n",
      "Epoch 80, Train Accuracy: 0.9623, Val Accuracy: 0.9427\n",
      "Epoch 81, Train Accuracy: 0.9624, Val Accuracy: 0.9428\n",
      "Epoch 82, Train Accuracy: 0.9628, Val Accuracy: 0.9430\n",
      "Epoch 83, Train Accuracy: 0.9631, Val Accuracy: 0.9435\n",
      "Epoch 84, Train Accuracy: 0.9634, Val Accuracy: 0.9433\n",
      "Epoch 85, Train Accuracy: 0.9637, Val Accuracy: 0.9438\n",
      "Epoch 86, Train Accuracy: 0.9640, Val Accuracy: 0.9442\n",
      "Epoch 87, Train Accuracy: 0.9642, Val Accuracy: 0.9447\n",
      "Epoch 88, Train Accuracy: 0.9645, Val Accuracy: 0.9447\n",
      "Epoch 89, Train Accuracy: 0.9647, Val Accuracy: 0.9448\n",
      "Epoch 90, Train Accuracy: 0.9649, Val Accuracy: 0.9452\n",
      "Epoch 91, Train Accuracy: 0.9653, Val Accuracy: 0.9452\n",
      "Epoch 92, Train Accuracy: 0.9656, Val Accuracy: 0.9457\n",
      "Epoch 93, Train Accuracy: 0.9659, Val Accuracy: 0.9458\n",
      "Epoch 94, Train Accuracy: 0.9660, Val Accuracy: 0.9460\n",
      "Epoch 95, Train Accuracy: 0.9662, Val Accuracy: 0.9460\n",
      "Epoch 96, Train Accuracy: 0.9664, Val Accuracy: 0.9460\n",
      "Epoch 97, Train Accuracy: 0.9666, Val Accuracy: 0.9460\n",
      "Epoch 98, Train Accuracy: 0.9667, Val Accuracy: 0.9462\n",
      "Epoch 99, Train Accuracy: 0.9669, Val Accuracy: 0.9465\n",
      "Epoch 100, Train Accuracy: 0.9670, Val Accuracy: 0.9470\n",
      "Epoch 101, Train Accuracy: 0.9673, Val Accuracy: 0.9470\n",
      "Epoch 102, Train Accuracy: 0.9674, Val Accuracy: 0.9470\n",
      "Epoch 103, Train Accuracy: 0.9676, Val Accuracy: 0.9473\n",
      "Epoch 104, Train Accuracy: 0.9677, Val Accuracy: 0.9473\n",
      "Epoch 105, Train Accuracy: 0.9679, Val Accuracy: 0.9473\n",
      "Epoch 106, Train Accuracy: 0.9681, Val Accuracy: 0.9477\n",
      "Epoch 107, Train Accuracy: 0.9684, Val Accuracy: 0.9480\n",
      "Epoch 108, Train Accuracy: 0.9685, Val Accuracy: 0.9482\n",
      "Epoch 109, Train Accuracy: 0.9686, Val Accuracy: 0.9485\n",
      "Epoch 110, Train Accuracy: 0.9688, Val Accuracy: 0.9485\n",
      "Epoch 111, Train Accuracy: 0.9689, Val Accuracy: 0.9485\n",
      "Epoch 112, Train Accuracy: 0.9689, Val Accuracy: 0.9488\n",
      "Epoch 113, Train Accuracy: 0.9692, Val Accuracy: 0.9488\n",
      "Epoch 114, Train Accuracy: 0.9693, Val Accuracy: 0.9490\n",
      "Epoch 115, Train Accuracy: 0.9696, Val Accuracy: 0.9490\n",
      "Epoch 116, Train Accuracy: 0.9696, Val Accuracy: 0.9493\n",
      "Epoch 117, Train Accuracy: 0.9699, Val Accuracy: 0.9497\n",
      "Epoch 118, Train Accuracy: 0.9700, Val Accuracy: 0.9497\n",
      "Epoch 119, Train Accuracy: 0.9702, Val Accuracy: 0.9497\n",
      "Epoch 120, Train Accuracy: 0.9703, Val Accuracy: 0.9497\n",
      "Epoch 121, Train Accuracy: 0.9705, Val Accuracy: 0.9498\n",
      "Epoch 122, Train Accuracy: 0.9707, Val Accuracy: 0.9497\n",
      "Epoch 123, Train Accuracy: 0.9707, Val Accuracy: 0.9497\n",
      "Epoch 124, Train Accuracy: 0.9708, Val Accuracy: 0.9497\n",
      "Epoch 125, Train Accuracy: 0.9709, Val Accuracy: 0.9497\n",
      "Epoch 126, Train Accuracy: 0.9710, Val Accuracy: 0.9500\n",
      "Epoch 127, Train Accuracy: 0.9712, Val Accuracy: 0.9503\n",
      "Epoch 128, Train Accuracy: 0.9712, Val Accuracy: 0.9508\n",
      "Epoch 129, Train Accuracy: 0.9714, Val Accuracy: 0.9513\n",
      "Epoch 130, Train Accuracy: 0.9716, Val Accuracy: 0.9517\n",
      "Epoch 131, Train Accuracy: 0.9716, Val Accuracy: 0.9518\n",
      "Epoch 132, Train Accuracy: 0.9717, Val Accuracy: 0.9520\n",
      "Epoch 133, Train Accuracy: 0.9719, Val Accuracy: 0.9520\n",
      "Epoch 134, Train Accuracy: 0.9721, Val Accuracy: 0.9522\n",
      "Epoch 135, Train Accuracy: 0.9722, Val Accuracy: 0.9522\n",
      "Epoch 136, Train Accuracy: 0.9722, Val Accuracy: 0.9523\n",
      "Epoch 137, Train Accuracy: 0.9724, Val Accuracy: 0.9523\n",
      "Epoch 138, Train Accuracy: 0.9725, Val Accuracy: 0.9525\n",
      "Epoch 139, Train Accuracy: 0.9727, Val Accuracy: 0.9525\n",
      "Epoch 140, Train Accuracy: 0.9728, Val Accuracy: 0.9525\n",
      "Epoch 141, Train Accuracy: 0.9729, Val Accuracy: 0.9528\n",
      "Epoch 142, Train Accuracy: 0.9730, Val Accuracy: 0.9528\n",
      "Epoch 143, Train Accuracy: 0.9731, Val Accuracy: 0.9528\n",
      "Epoch 144, Train Accuracy: 0.9733, Val Accuracy: 0.9528\n",
      "Epoch 145, Train Accuracy: 0.9735, Val Accuracy: 0.9530\n",
      "Epoch 146, Train Accuracy: 0.9735, Val Accuracy: 0.9532\n",
      "Epoch 147, Train Accuracy: 0.9736, Val Accuracy: 0.9533\n",
      "Epoch 148, Train Accuracy: 0.9737, Val Accuracy: 0.9535\n",
      "Epoch 149, Train Accuracy: 0.9738, Val Accuracy: 0.9535\n",
      "Epoch 150, Train Accuracy: 0.9740, Val Accuracy: 0.9538\n",
      "Epoch 151, Train Accuracy: 0.9741, Val Accuracy: 0.9538\n",
      "Epoch 152, Train Accuracy: 0.9742, Val Accuracy: 0.9538\n",
      "Epoch 153, Train Accuracy: 0.9743, Val Accuracy: 0.9538\n",
      "Epoch 154, Train Accuracy: 0.9744, Val Accuracy: 0.9538\n",
      "Epoch 155, Train Accuracy: 0.9745, Val Accuracy: 0.9540\n",
      "Epoch 156, Train Accuracy: 0.9745, Val Accuracy: 0.9540\n",
      "Epoch 157, Train Accuracy: 0.9747, Val Accuracy: 0.9540\n",
      "Epoch 158, Train Accuracy: 0.9748, Val Accuracy: 0.9540\n",
      "Epoch 159, Train Accuracy: 0.9750, Val Accuracy: 0.9540\n",
      "Epoch 160, Train Accuracy: 0.9751, Val Accuracy: 0.9542\n",
      "Epoch 161, Train Accuracy: 0.9752, Val Accuracy: 0.9542\n",
      "Epoch 162, Train Accuracy: 0.9753, Val Accuracy: 0.9543\n",
      "Epoch 163, Train Accuracy: 0.9753, Val Accuracy: 0.9543\n",
      "Epoch 164, Train Accuracy: 0.9754, Val Accuracy: 0.9543\n",
      "Epoch 165, Train Accuracy: 0.9755, Val Accuracy: 0.9543\n",
      "Epoch 166, Train Accuracy: 0.9756, Val Accuracy: 0.9543\n",
      "Epoch 167, Train Accuracy: 0.9756, Val Accuracy: 0.9545\n",
      "Epoch 168, Train Accuracy: 0.9757, Val Accuracy: 0.9545\n",
      "Epoch 169, Train Accuracy: 0.9758, Val Accuracy: 0.9543\n",
      "Epoch 170, Train Accuracy: 0.9758, Val Accuracy: 0.9547\n",
      "Epoch 171, Train Accuracy: 0.9758, Val Accuracy: 0.9548\n",
      "Epoch 172, Train Accuracy: 0.9759, Val Accuracy: 0.9547\n",
      "Epoch 173, Train Accuracy: 0.9759, Val Accuracy: 0.9547\n",
      "Epoch 174, Train Accuracy: 0.9760, Val Accuracy: 0.9548\n",
      "Epoch 175, Train Accuracy: 0.9761, Val Accuracy: 0.9547\n",
      "Epoch 176, Train Accuracy: 0.9762, Val Accuracy: 0.9548\n",
      "Epoch 177, Train Accuracy: 0.9763, Val Accuracy: 0.9552\n",
      "Epoch 178, Train Accuracy: 0.9764, Val Accuracy: 0.9552\n",
      "Epoch 179, Train Accuracy: 0.9764, Val Accuracy: 0.9553\n",
      "Epoch 180, Train Accuracy: 0.9766, Val Accuracy: 0.9558\n",
      "Epoch 181, Train Accuracy: 0.9767, Val Accuracy: 0.9560\n",
      "Epoch 182, Train Accuracy: 0.9767, Val Accuracy: 0.9563\n",
      "Epoch 183, Train Accuracy: 0.9768, Val Accuracy: 0.9563\n",
      "Epoch 184, Train Accuracy: 0.9770, Val Accuracy: 0.9563\n",
      "Epoch 185, Train Accuracy: 0.9771, Val Accuracy: 0.9565\n",
      "Epoch 186, Train Accuracy: 0.9772, Val Accuracy: 0.9563\n",
      "Epoch 187, Train Accuracy: 0.9772, Val Accuracy: 0.9563\n",
      "Epoch 188, Train Accuracy: 0.9773, Val Accuracy: 0.9563\n",
      "Epoch 189, Train Accuracy: 0.9774, Val Accuracy: 0.9563\n",
      "Epoch 190, Train Accuracy: 0.9775, Val Accuracy: 0.9563\n",
      "Epoch 191, Train Accuracy: 0.9776, Val Accuracy: 0.9562\n",
      "Epoch 192, Train Accuracy: 0.9777, Val Accuracy: 0.9567\n",
      "Epoch 193, Train Accuracy: 0.9777, Val Accuracy: 0.9565\n",
      "Epoch 194, Train Accuracy: 0.9778, Val Accuracy: 0.9567\n",
      "Epoch 195, Train Accuracy: 0.9778, Val Accuracy: 0.9568\n",
      "Epoch 196, Train Accuracy: 0.9780, Val Accuracy: 0.9567\n",
      "Epoch 197, Train Accuracy: 0.9780, Val Accuracy: 0.9570\n",
      "Epoch 198, Train Accuracy: 0.9781, Val Accuracy: 0.9567\n",
      "Epoch 199, Train Accuracy: 0.9781, Val Accuracy: 0.9567\n",
      "Epoch 200, Train Accuracy: 0.9782, Val Accuracy: 0.9567\n",
      "Epoch 201, Train Accuracy: 0.9783, Val Accuracy: 0.9568\n",
      "Epoch 202, Train Accuracy: 0.9784, Val Accuracy: 0.9568\n",
      "Epoch 203, Train Accuracy: 0.9784, Val Accuracy: 0.9568\n",
      "Epoch 204, Train Accuracy: 0.9785, Val Accuracy: 0.9567\n",
      "Epoch 205, Train Accuracy: 0.9786, Val Accuracy: 0.9567\n",
      "Epoch 206, Train Accuracy: 0.9787, Val Accuracy: 0.9567\n",
      "Epoch 207, Train Accuracy: 0.9789, Val Accuracy: 0.9568\n",
      "Early stopping: Validation accuracy did not improve for 10 epochs.\n"
     ]
    }
   ],
   "source": [
    "train_accuracies = []\n",
    "val_accuracies = []\n",
    "no_improvement_count = 0\n",
    "patience = 10\n",
    "best_val_acc = 0.0\n",
    "for iteration in range(500):\n",
    "    # Training the model\n",
    "    train_mnist(images, labels, model, lr=0.001, momentum=0.9, mini_batch_size=512)\n",
    "\n",
    "    # Calculating the accuracies\n",
    "    train_accuracy = evaluate_accuracy(model, images, labels)\n",
    "    val_accuracy = evaluate_accuracy(model, test_images, test_labels)\n",
    "\n",
    "    # Storing the accuracies to plot it\n",
    "    train_accuracies.append(train_accuracy)\n",
    "    val_accuracies.append(val_accuracy)\n",
    "    \n",
    "    print(f\"Epoch {iteration + 1}, Train Accuracy: {train_accuracy:.4f}, Val Accuracy: {val_accuracy:.4f}\")\n",
    "    # Picking up the best model weights and accuracy\n",
    "    if val_accuracy > best_val_acc:\n",
    "        best_val_acc = val_accuracy\n",
    "        best_model = model.copy()\n",
    "        no_improvement_count = 0\n",
    "    else:\n",
    "        no_improvement_count += 1\n",
    "\n",
    "    if no_improvement_count >= patience:\n",
    "        print(\"Early stopping: Validation accuracy did not improve for 10 epochs.\")\n",
    "        break\n"
   ]
  },
  {
   "cell_type": "code",
   "execution_count": 108,
   "metadata": {},
   "outputs": [
    {
     "data": {
      "image/png": "[encoded data removed]",
      "text/plain": [
       "<Figure size 640x480 with 1 Axes>"
      ]
     },
     "metadata": {},
     "output_type": "display_data"
    }
   ],
   "source": [
    "# Visualizing the accuracies\n",
    "plt.plot(range(1, len(train_accuracies) + 1), train_accuracies, label='Train Accuracy')\n",
    "plt.plot(range(1, len(val_accuracies) + 1), val_accuracies, label='Validation Accuracy')\n",
    "plt.xlabel('Epochs')\n",
    "plt.ylabel('Accuracy')\n",
    "plt.title('Training and Validation Accuracy Over Time')\n",
    "plt.legend()\n",
    "plt.show()"
   ]
  },
  {
   "cell_type": "code",
   "execution_count": 109,
   "metadata": {},
   "outputs": [
    {
     "name": "stdout",
     "output_type": "stream",
     "text": [
      "Best Model Accuracy on Validation set is: 96.0%\n"
     ]
    }
   ],
   "source": [
    "print(f'Best Model Accuracy on Validation set is: {np.round(best_val_acc * 100)}%')"
   ]
  },
  {
   "cell_type": "markdown",
   "metadata": {},
   "source": [
    "**1. Testing on Remaining Test Set:**\n",
    "- It loops through images not used for validation.\n",
    "- For each image:\n",
    "    - Gets a prediction from the best model.\n",
    "    - Extracts predicted and true labels.\n",
    "    - Stores them as pairs for later analysis.\n",
    "\n",
    "**2. Calculating Accuracy:**\n",
    "- Counts correct predictions using list comprehension.\n",
    "- Divides correct by total to get accuracy.\n",
    "\n",
    "**3. Printing Results:**\n",
    "- Outputs number of correct predictions, total predictions, and accuracy percentage.\n",
    "\n"
   ]
  },
  {
   "cell_type": "code",
   "execution_count": 110,
   "metadata": {},
   "outputs": [
    {
     "name": "stdout",
     "output_type": "stream",
     "text": [
      "Correct predictions count is: 3902 out of 4000\n",
      "The accuracy is: 97.55%\n"
     ]
    }
   ],
   "source": [
    "# Iterating over the rest of the test images that we didnt include in val_set\n",
    "all_preds = []\n",
    "for image in range(len(test_labels), len(test_labels_all)):\n",
    "    test_image = test_images_all[image]\n",
    "    test_label = test_labels_all[image]\n",
    "    predicted_label = model_prediction(best_model, test_image)\n",
    "    predicted_label = np.argmax(predicted_label)\n",
    "    test_label = np.argmax(test_label)\n",
    "    all_preds.append((predicted_label,test_label))\n",
    "\n",
    "correct_predictions = sum(1 for pred, true_label in all_preds if pred == true_label)\n",
    "accuracy = np.round(correct_predictions / len(all_preds) * 100, 2)\n",
    "\n",
    "print(f'Correct predictions count is: {correct_predictions} out of {len(all_preds)}\\nThe accuracy is: {accuracy}%')"
   ]
  },
  {
   "cell_type": "code",
   "execution_count": 111,
   "metadata": {},
   "outputs": [
    {
     "data": {
      "text/plain": [
       "True"
      ]
     },
     "execution_count": 111,
     "metadata": {},
     "output_type": "execute_result"
    }
   ],
   "source": [
    "# Predicting a random images\n",
    "res = evaluate_accuracy_one_sample(best_model, test_images_all[6123], test_labels_all[6123])\n",
    "res \n"
   ]
  },
  {
   "cell_type": "markdown",
   "metadata": {},
   "source": [
    "## Draft cells\n"
   ]
  },
  {
   "cell_type": "code",
   "execution_count": 112,
   "metadata": {},
   "outputs": [
    {
     "name": "stdout",
     "output_type": "stream",
     "text": [
      "[[0.64908024 1.80142861 1.36398788]\n",
      " [1.09731697 0.21203728 0.21198904]\n",
      " [0.01616722 1.63235229 1.10223002]]\n",
      "\n",
      "[[0.0064908  0.01801429 0.01363988]\n",
      " [0.01097317 0.00212037 0.00211989]\n",
      " [0.00016167 0.01632352 0.0110223 ]]\n",
      "\n",
      "[[0.64258944 1.78341433 1.350348  ]\n",
      " [1.0863438  0.20991691 0.20986915]\n",
      " [0.01600555 1.61602877 1.09120772]]\n",
      "--------\n",
      "[[0.64258944 1.78341433 1.350348  ]\n",
      " [1.0863438  0.20991691 0.20986915]\n",
      " [0.01600555 1.61602877 1.09120772]]\n",
      "\n",
      "[[0.01226762 0.034047   0.02577937]\n",
      " [0.02073929 0.0040075  0.00400659]\n",
      " [0.00030556 0.03085146 0.02083215]]\n",
      "\n",
      "[[0.63032182 1.74936733 1.32456863]\n",
      " [1.06560451 0.2059094  0.20586256]\n",
      " [0.01569999 1.58517731 1.07037558]]\n",
      "--------\n"
     ]
    }
   ],
   "source": [
    "np.random.seed(42)\n",
    "weight = 2 * np.random.random((3,3)) - 0.1\n",
    "vw = np.zeros_like(weight)\n",
    "for i in range(2):\n",
    "    vw = 0.9 * vw + 0.01 * weight\n",
    "    print(weight)\n",
    "    print()\n",
    "    print(vw)\n",
    "    print()\n",
    "    weight -= vw\n",
    "    print(weight)\n",
    "    print('--------')"
   ]
  },
  {
   "cell_type": "code",
   "execution_count": 113,
   "metadata": {},
   "outputs": [
    {
     "name": "stdout",
     "output_type": "stream",
     "text": [
      "Actual Label of example 1:\n",
      " [0. 0. 0. 0. 0. 0. 0. 1. 0. 0.]\n",
      "\n",
      "Prediction of the model of example 1:\n",
      " [1.12111652e-07 1.32262769e-10 1.53502132e-04 2.75089388e-05\n",
      " 2.89204912e-11 2.13627487e-04 8.81958724e-20 9.99332662e-01\n",
      " 5.62007332e-07 1.62257677e-05]\n",
      "\n",
      "Subtraction of the predection and the actual label example 1:\n",
      " [ 1.12111652e-07  1.32262769e-10  1.53502132e-04  2.75089388e-05\n",
      "  2.89204912e-11  2.13627487e-04  8.81958724e-20 -6.67337926e-04\n",
      "  5.62007332e-07  1.62257677e-05]\n",
      "-------------------------\n",
      "(16, 10)\n",
      "(16, 10)\n"
     ]
    }
   ],
   "source": [
    "# Simulating the error \n",
    "preds = model_prediction(model, test_images[0:16]) # 16x10\n",
    "print(f'Actual Label of example 1:\\n {test_labels[0:16][0]}')\n",
    "print()\n",
    "print(f'Prediction of the model of example 1:\\n {preds[0]}')\n",
    "print()\n",
    "print(f'Subtraction of the predection and the actual label example 1:\\n {(preds - test_labels[0:16])[0]}') # This is the pure error which is we are going to calculate the dervitive according to it\n",
    "print('-------------------------')\n",
    "print((test_labels[0:16]).shape)\n",
    "print((preds.shape))"
   ]
  },
  {
   "cell_type": "code",
   "execution_count": 114,
   "metadata": {},
   "outputs": [
    {
     "name": "stdout",
     "output_type": "stream",
     "text": [
      "[7 2 1 0 4 1 4 9 6 9 0 6 9 0 1 5]\n",
      "[7 2 1 0 4 1 4 9 5 9 0 6 9 0 1 5]\n",
      "0.9375\n",
      "7\n"
     ]
    }
   ],
   "source": [
    "print(np.argmax(preds, axis=1))\n",
    "print(np.argmax(test_labels[0:16], axis=1))\n",
    "print(np.mean(np.argmax(preds, axis=1) == np.argmax(test_labels[0:16], axis=1)))\n",
    "print(np.argmax(preds[0])) # taking a list and returning the index of the greatest number of this list"
   ]
  },
  {
   "cell_type": "code",
   "execution_count": 115,
   "metadata": {},
   "outputs": [
    {
     "name": "stdout",
     "output_type": "stream",
     "text": [
      "0.000225\n"
     ]
    }
   ],
   "source": [
    "print(0.0015 * 0.15)"
   ]
  },
  {
   "cell_type": "code",
   "execution_count": 116,
   "metadata": {},
   "outputs": [
    {
     "data": {
      "text/plain": [
       "array([[0., 0., 0., 0., 0., 0., 0., 0., 0., 0., 0., 0., 0., 0., 0., 0.,\n",
       "        0., 0., 0., 0., 0., 0., 0., 0., 0., 0., 0., 0., 0., 0., 0., 0.,\n",
       "        0., 0., 0., 0., 0., 0., 0., 0., 0., 0., 0., 0., 0., 0., 0., 0.,\n",
       "        0., 0., 0., 0., 0., 0., 0., 0., 0., 0., 0., 0., 0., 0., 0., 0.,\n",
       "        0., 0., 0., 0., 0., 0., 0., 0., 0., 0., 0., 0., 0., 0., 0., 0.,\n",
       "        0., 0., 0., 0., 0., 0., 0., 0., 0., 0., 0., 0., 0., 0., 0., 0.,\n",
       "        0., 0., 0., 0.]])"
      ]
     },
     "execution_count": 116,
     "metadata": {},
     "output_type": "execute_result"
    }
   ],
   "source": [
    "test = np.zeros((HIDDEN_LAYER_SIZE, 1))\n",
    "test2 = test.reshape(1, -1)\n",
    "test2"
   ]
  },
  {
   "cell_type": "code",
   "execution_count": 117,
   "metadata": {},
   "outputs": [
    {
     "name": "stdout",
     "output_type": "stream",
     "text": [
      "[[0.01]\n",
      " [0.01]\n",
      " [0.01]\n",
      " [0.01]\n",
      " [0.01]]\n"
     ]
    }
   ],
   "source": [
    "print(np.sign(np.random.rand(5, 1)) * 0.01) # -1 if x < 0, 0 if x==0, 1 if x > 0"
   ]
  },
  {
   "cell_type": "code",
   "execution_count": 118,
   "metadata": {},
   "outputs": [
    {
     "name": "stdout",
     "output_type": "stream",
     "text": [
      "[[63. 18.]\n",
      " [26.  5.]]\n",
      "[[63.03 18.05]\n",
      " [26.04  5.06]]\n",
      "[[3. 5.]\n",
      " [4. 6.]]\n",
      "[[2.907 4.932]\n",
      " [3.934 5.935]]\n"
     ]
    }
   ],
   "source": [
    "h = np.array([[4.0, 7.0],\n",
    "              [3.0, 1.0]])\n",
    "\n",
    "delta = np.array([[7.0, 1.0],\n",
    "                  [5.0, 2.0]])\n",
    "\n",
    "w = np.array([[3.0, 5.0],\n",
    "              [4.0, 6.0]])\n",
    "\n",
    "## model['W2'] -= lr * (hidden_layer.T.dot(output_layer_delta)) + reg_lambda * model['W2']\n",
    "\n",
    "left = h.dot(delta)\n",
    "\n",
    "print(left) # hidden.dot(output_delta)\n",
    "\n",
    "lambda_w = np.array([[0.03, 0.05],\n",
    "                     [0.04, 0.06]]) # reg_lambda * w = 0.01 * w\n",
    "\n",
    "print(left + lambda_w)\n",
    "print(w)\n",
    "w -= 0.001 * (left) + lambda_w\n",
    "print(w)\n"
   ]
  },
  {
   "cell_type": "code",
   "execution_count": 119,
   "metadata": {},
   "outputs": [
    {
     "name": "stdout",
     "output_type": "stream",
     "text": [
      "Iteration 1:\n",
      "w: [[2.3697 4.8195]\n",
      " [3.7396 5.9494]]\n",
      "Iteration 2:\n",
      "w: [[1.73946303 4.63901805]\n",
      " [3.47922604 5.89880506]]\n",
      "Iteration 3:\n",
      "w: [[1.10928908 4.45855415]\n",
      " [3.21887812 5.84821518]]\n",
      "Iteration 4:\n",
      "w: [[0.47917815 4.27810829]\n",
      " [2.95855623 5.79763036]]\n",
      "Iteration 5:\n",
      "w: [[-0.15086976  4.09768048]\n",
      " [ 2.69826037  5.74705059]]\n"
     ]
    }
   ],
   "source": [
    "#L2 Regularization\n",
    "h = np.array([[4.0, 7.0],\n",
    "             [3.0, 1.0]])\n",
    "\n",
    "delta = np.array([[7.0, 1.0],\n",
    "                 [5.0, 2.0]])\n",
    "\n",
    "w = np.array([[3.0, 5.0],\n",
    "             [4.0, 6.0]])\n",
    "\n",
    "reg_lambda = 0.01  # Regularization parameter\n",
    "learning_rate = 0.01\n",
    "\n",
    "for _ in range(5):\n",
    "   left = h.dot(delta)\n",
    "   lambda_w = reg_lambda * w\n",
    "\n",
    "   w -= learning_rate * (left + lambda_w)\n",
    "   print(f\"Iteration {_+1}:\")\n",
    "   print(f\"w: {w}\")\n"
   ]
  },
  {
   "cell_type": "code",
   "execution_count": 120,
   "metadata": {},
   "outputs": [
    {
     "name": "stdout",
     "output_type": "stream",
     "text": [
      "Iteration 1:\n",
      "w: [[2.3699 4.8199]\n",
      " [3.7399 5.9499]]\n",
      "Iteration 2:\n",
      "w: [[1.7398 4.6398]\n",
      " [3.4798 5.8998]]\n",
      "Iteration 3:\n",
      "w: [[1.1097 4.4597]\n",
      " [3.2197 5.8497]]\n",
      "Iteration 4:\n",
      "w: [[0.4796 4.2796]\n",
      " [2.9596 5.7996]]\n",
      "Iteration 5:\n",
      "w: [[-0.1505  4.0995]\n",
      " [ 2.6995  5.7495]]\n"
     ]
    }
   ],
   "source": [
    "#L2 Regularization\n",
    "h = np.array([[4.0, 7.0],\n",
    "             [3.0, 1.0]])\n",
    "\n",
    "delta = np.array([[7.0, 1.0],\n",
    "                 [5.0, 2.0]])\n",
    "\n",
    "w = np.array([[3.0, 5.0],\n",
    "             [4.0, 6.0]])\n",
    "\n",
    "reg_lambda = 0.01  # Regularization parameter\n",
    "learning_rate = 0.01\n",
    "\n",
    "for _ in range(5):\n",
    "   left = h.dot(delta)\n",
    "   lambda_w = reg_lambda * np.sign(w)\n",
    "\n",
    "   w -= learning_rate * (left + lambda_w)\n",
    "   print(f\"Iteration {_+1}:\")\n",
    "   print(f\"w: {w}\")\n"
   ]
  },
  {
   "cell_type": "code",
   "execution_count": null,
   "metadata": {},
   "outputs": [],
   "source": []
  }
 ],
 "metadata": {
  "kernelspec": {
   "display_name": "torch_gpuenv",
   "language": "python",
   "name": "python3"
  },
  "language_info": {
   "codemirror_mode": {
    "name": "ipython",
    "version": 3
   },
   "file_extension": ".py",
   "mimetype": "text/x-python",
   "name": "python",
   "nbconvert_exporter": "python",
   "pygments_lexer": "ipython3",
   "version": "3.9.16"
  },
  "orig_nbformat": 4
 },
 "nbformat": 4,
 "nbformat_minor": 2
}
