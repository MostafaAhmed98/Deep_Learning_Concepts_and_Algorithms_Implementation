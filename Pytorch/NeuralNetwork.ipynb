{
 "cells": [
  {
   "cell_type": "code",
   "execution_count": 39,
   "metadata": {},
   "outputs": [],
   "source": [
    "import torch\n",
    "import torchmetrics\n",
    "import torch.nn.functional as F\n",
    "from torch import nn\n",
    "from torchsummary import summary\n",
    "from sklearn.model_selection import train_test_split\n",
    "import matplotlib.pyplot as plt\n",
    "import sys, numpy as np\n",
    "from keras.datasets import mnist\n",
    "device = 'cuda' if torch.cuda.is_available() else 'cpu'"
   ]
  },
  {
   "cell_type": "markdown",
   "metadata": {},
   "source": [
    "## Getting the MNIST Data Ready for Training\n",
    "\n",
    "This code prepares the MNIST handwritten digit dataset for training a neural network. Here's what's happening in three simple steps:\n",
    "\n",
    "1. **Load and prepare the data:**\n",
    "    * Loads the first 60,000 images and labels from the training set.\n",
    "    * Reshapes the images into a format suitable for the model (28x28 pixels per image).\n",
    "    * Converts the data to PyTorch tensors for efficient computations.\n",
    "\n",
    "2. **Encode the labels:**\n",
    "    * Converts the digit labels (e.g., 3) into one-hot encoded vectors (e.g., [0, 0, 0, 1, 0, 0, 0, 0, 0, 0]). This helps the model understand the categories better.\n",
    "\n",
    "3. **Split data into training and testing sets:**\n",
    "    * Splits the data into two parts: 80% for training the model and 20% for testing its performance.\n"
   ]
  },
  {
   "cell_type": "code",
   "execution_count": 40,
   "metadata": {},
   "outputs": [
    {
     "name": "stdout",
     "output_type": "stream",
     "text": [
      "Train images shape is torch.Size([48000, 784]), | Train labels shape is torch.Size([48000])\n",
      "Test images shape is torch.Size([12000, 784]), | Test labels shape is torch.Size([12000])\n"
     ]
    }
   ],
   "source": [
    "# Preparing the data\n",
    "(x_train, y_train), (x_test, y_test) = mnist.load_data()\n",
    "images, labels = (x_train[0:60000].reshape(60000,28*28) / 255, y_train[0:60000])\n",
    "N_classes = 10\n",
    "# Converting the Data to tensors\n",
    "X_tensor = torch.from_numpy(images).type(torch.float).to(device=device)\n",
    "y_tensor = torch.from_numpy(labels).type(torch.LongTensor).to(device=device)\n",
    "y_tensor = F.one_hot(y_tensor, N_classes)\n",
    "y_tensor = y_tensor.argmax(dim=1)\n",
    "# Split the data \n",
    "X_train, X_test, y_train, y_test = train_test_split(X_tensor, y_tensor, train_size=0.8, random_state=42)\n",
    "print(f\"Train images shape is {X_train.shape}, | Train labels shape is {y_train.shape}\")\n",
    "print(f\"Test images shape is {X_test.shape}, | Test labels shape is {y_test.shape}\")"
   ]
  },
  {
   "cell_type": "markdown",
   "metadata": {},
   "source": [
    "## Helper Functions"
   ]
  },
  {
   "cell_type": "markdown",
   "metadata": {},
   "source": [
    "**This below function checks how often a model's predictions match the true answers.**\n",
    "\n",
    "- It takes two lists of answers: the model's guesses (`y_pred`) and the correct answers (`y_true`).\n",
    "- It counts how many times the guesses are correct.\n",
    "- It divides that number by the total number of answers to get the percentage of correct answers (accuracy).\n",
    "- It returns that percentage as the final result.\n"
   ]
  },
  {
   "cell_type": "code",
   "execution_count": 41,
   "metadata": {},
   "outputs": [],
   "source": [
    "def accuracy(y_pred, y_true):\n",
    "    correct = torch.eq(y_pred, y_true).sum().item()\n",
    "    acc = (correct/len(y_true)) * 100\n",
    "    return acc\n",
    "# metric = torchmetrics.Accuracy(task=\"multiclass\", num_classes=10).to(device)\n",
    "# precision = torchmetrics.Precision(task=\"multiclass\", num_classes=10).to(device)\n",
    "# f1_score = torchmetrics.F1Score(task=\"multiclass\", num_classes=10).to(device)"
   ]
  },
  {
   "cell_type": "markdown",
   "metadata": {},
   "source": [
    "# Model Initialization"
   ]
  },
  {
   "cell_type": "markdown",
   "metadata": {},
   "source": [
    "**This code defines and sets up a simple neural network for MNIST digit classification.**\n",
    "\n",
    "- It creates a class called `FullyConnectedNuralNetwork` with 2 hidden layers, each with 100 neurons.\n",
    "- Each hidden layer uses a ReLU activation function and a 20% dropout layer to help prevent overfitting.\n",
    "- The output layer has 10 neurons, representing the 10 possible digits (0-9).\n",
    "- An instance of this network is created and moved to a specific device (like a GPU for faster training).\n",
    "- Finally, a summary of the network's structure and parameters is printed."
   ]
  },
  {
   "cell_type": "code",
   "execution_count": 42,
   "metadata": {},
   "outputs": [
    {
     "name": "stdout",
     "output_type": "stream",
     "text": [
      "----------------------------------------------------------------\n",
      "        Layer (type)               Output Shape         Param #\n",
      "================================================================\n",
      "            Linear-1           [-1, 48000, 100]          78,500\n",
      "              ReLU-2           [-1, 48000, 100]               0\n",
      "           Dropout-3           [-1, 48000, 100]               0\n",
      "            Linear-4           [-1, 48000, 100]          10,100\n",
      "              ReLU-5           [-1, 48000, 100]               0\n",
      "           Dropout-6           [-1, 48000, 100]               0\n",
      "            Linear-7            [-1, 48000, 10]           1,010\n",
      "================================================================\n",
      "Total params: 89,610\n",
      "Trainable params: 89,610\n",
      "Non-trainable params: 0\n",
      "----------------------------------------------------------------\n",
      "Input size (MB): 143.55\n",
      "Forward/backward pass size (MB): 223.39\n",
      "Params size (MB): 0.34\n",
      "Estimated Total Size (MB): 367.29\n",
      "----------------------------------------------------------------\n"
     ]
    }
   ],
   "source": [
    "class FullyConnectedNuralNetwork(nn.Module):\n",
    "    def __init__(self, in_features, out_features, hidden_layers):\n",
    "        super().__init__()\n",
    "        self.layer_block = nn.Sequential(\n",
    "            nn.Linear(in_features=in_features, out_features=hidden_layers),\n",
    "            nn.ReLU(),\n",
    "            nn.Dropout(0.2),\n",
    "            nn.Linear(in_features=hidden_layers, out_features=hidden_layers),\n",
    "            nn.ReLU(),\n",
    "            nn.Dropout(0.2),\n",
    "            nn.Linear(in_features=hidden_layers, out_features=out_features)\n",
    "        )\n",
    "    def forward(self, x):\n",
    "        return self.layer_block(x)\n",
    "model = FullyConnectedNuralNetwork(784,10,100)\n",
    "model = model.to(device)\n",
    "summary(model, input_size=X_train.shape)"
   ]
  },
  {
   "cell_type": "markdown",
   "metadata": {},
   "source": [
    "# Loss Function and optimizer initialization"
   ]
  },
  {
   "cell_type": "markdown",
   "metadata": {},
   "source": [
    "**1. Setting the Loss Function:**\n",
    "\n",
    "- `loss_fn = nn.CrossEntropyLoss()` is used to measure how well the model's predictions match the true labels.\n",
    "- It's specifically designed for classification tasks like predicting handwritten digits in this case.\n",
    "\n",
    "**2. Choosing the Optimizer:**\n",
    "\n",
    "- `optimizer = torch.optim.Adam(model.parameters(), lr=0.01)` is responsible for updating the model's parameters (weights and biases) to improve its predictions.\n",
    "- It uses the Adam algorithm, known for its efficiency and effectiveness in many deep learning scenarios.\n",
    "- `lr=0.01` sets the learning rate, which controls how large each update to the parameters is.\n"
   ]
  },
  {
   "cell_type": "code",
   "execution_count": 43,
   "metadata": {},
   "outputs": [],
   "source": [
    "loss_fn = nn.CrossEntropyLoss()\n",
    "optimizer = torch.optim.Adam(model.parameters(),\n",
    "                             lr=0.01)"
   ]
  },
  {
   "cell_type": "markdown",
   "metadata": {},
   "source": [
    "# Training and Testing Loop"
   ]
  },
  {
   "cell_type": "markdown",
   "metadata": {},
   "source": [
    "**Initialization:**\n",
    "\n",
    "- **epochs:** Defines the number of training iterations over the entire dataset.\n",
    "- **Lists:** `epochs_values`, `train_loss_values`, and `test_loss_values` store training details for visualization later.\n",
    "\n",
    "**Training Loop:**\n",
    "\n",
    "- **`for epoch in range(epochs):`:** Iterates through the specified number of epochs.\n",
    "- **`model.train()`:** Sets the model to training mode (enables dropout and other training-specific layers).\n",
    "- **`y_logits = model(X_train)`:** Feeds the training data (`X_train`) to the model, obtaining logits (pre-softmax outputs).\n",
    "- **`y_preds = torch.softmax(y_logits, dim=1).argmax(dim=1)`:**\n",
    "    - Applies softmax activation to convert logits into probabilities for each class.\n",
    "    - Uses `argmax` to obtain the predicted class index for each sample.\n",
    "- **`acc_train = accuracy(y_preds, y_train)`:** Calculates the training accuracy using your defined `accuracy` function.\n",
    "- **`training_loss = loss_fn(y_logits, y_train)`:** Calculates the training loss using the CrossEntropy loss function and true labels.\n",
    "- **`epochs_values.append(epoch)`, etc.:** Appends current epoch, training loss, and test loss to their respective lists for later visualization.\n",
    "- **`optimizer.zero_grad()`:** Empties the optimizer's gradient accumulator before backpropagation.\n",
    "- **`training_loss.backward()`:** Backpropagates the loss through the network to calculate gradients for each parameter.\n",
    "- **`optimizer.step()`:** Updates the model's parameters based on the calculated gradients and learning rate.\n",
    "- **`model.eval()`:** Sets the model to evaluation mode (disables dropout for more stable predictions).\n",
    "\n",
    "**Testing Part:**\n",
    "\n",
    "- **`with torch.inference_mode():`:** Disables gradient computation for efficiency during testing.\n",
    "- **Similar steps for testing:** Performs prediction and loss calculation on the test set.\n",
    "- **`if epoch % 9 ==0:`:** Prints training and testing information every 9 epochs for progress monitoring."
   ]
  },
  {
   "cell_type": "code",
   "execution_count": 44,
   "metadata": {},
   "outputs": [
    {
     "name": "stdout",
     "output_type": "stream",
     "text": [
      "Epoch 1 | Training Loss: 2.3081324100494385 - Training Accuracy 7.475 | Testing Loss: 2.168668031692505 - Testing Accuracy 42.541666666666664\n",
      "Epoch 10 | Training Loss: 0.6024064421653748 - Training Accuracy 81.01041666666666 | Testing Loss: 0.4658886790275574 - Testing Accuracy 86.41666666666666\n",
      "Epoch 19 | Training Loss: 0.368225634098053 - Training Accuracy 88.94999999999999 | Testing Loss: 0.2935028076171875 - Testing Accuracy 91.19166666666668\n",
      "Epoch 28 | Training Loss: 0.2794199287891388 - Training Accuracy 91.52916666666667 | Testing Loss: 0.2248843014240265 - Testing Accuracy 93.18333333333332\n",
      "Epoch 37 | Training Loss: 0.22463403642177582 - Training Accuracy 93.325 | Testing Loss: 0.18054628372192383 - Testing Accuracy 94.625\n",
      "Epoch 46 | Training Loss: 0.1842150092124939 - Training Accuracy 94.45833333333333 | Testing Loss: 0.15196244418621063 - Testing Accuracy 95.36666666666666\n",
      "Epoch 55 | Training Loss: 0.15793362259864807 - Training Accuracy 95.21041666666666 | Testing Loss: 0.13359719514846802 - Testing Accuracy 95.81666666666668\n",
      "Epoch 64 | Training Loss: 0.1371789574623108 - Training Accuracy 95.81458333333333 | Testing Loss: 0.12231642752885818 - Testing Accuracy 96.275\n",
      "Epoch 73 | Training Loss: 0.12286021560430527 - Training Accuracy 96.22500000000001 | Testing Loss: 0.11412134766578674 - Testing Accuracy 96.54166666666667\n",
      "Epoch 82 | Training Loss: 0.11170123517513275 - Training Accuracy 96.55625 | Testing Loss: 0.10652054846286774 - Testing Accuracy 96.83333333333334\n",
      "Epoch 91 | Training Loss: 0.09768602252006531 - Training Accuracy 96.95 | Testing Loss: 0.10138751566410065 - Testing Accuracy 96.99166666666666\n",
      "Epoch 100 | Training Loss: 0.09076365828514099 - Training Accuracy 97.23125 | Testing Loss: 0.09798099845647812 - Testing Accuracy 97.04166666666667\n",
      "Epoch 109 | Training Loss: 0.08395619690418243 - Training Accuracy 97.33958333333334 | Testing Loss: 0.09535172581672668 - Testing Accuracy 97.175\n",
      "Epoch 118 | Training Loss: 0.07256519049406052 - Training Accuracy 97.73541666666667 | Testing Loss: 0.09393636882305145 - Testing Accuracy 97.30833333333334\n"
     ]
    }
   ],
   "source": [
    "epochs = 120\n",
    "epochs_values = []\n",
    "train_loss_values = []\n",
    "test_loss_values = []\n",
    "\n",
    "for epoch in range(epochs):\n",
    "    model.train()\n",
    "    y_logits = model(X_train)\n",
    "    y_preds = torch.softmax(y_logits, dim=1).argmax(dim=1) # dim 1 to apply the soft max and argmax on the rows\n",
    "    acc_train = accuracy(y_preds, y_train)\n",
    "    training_loss = loss_fn(y_logits, y_train)\n",
    "    epochs_values.append(epoch)\n",
    "    train_loss_values.append(training_loss)\n",
    "    optimizer.zero_grad()\n",
    "    training_loss.backward()\n",
    "    optimizer.step()\n",
    "    model.eval()\n",
    "    with torch.inference_mode():\n",
    "        y_test_logits = model(X_test)\n",
    "        y_test_preds = torch.softmax(y_test_logits, dim=1).argmax(dim=1)\n",
    "        acc_test = accuracy(y_test_preds, y_test)\n",
    "        testing_loss = loss_fn(y_test_logits, y_test)\n",
    "        test_loss_values.append(testing_loss)\n",
    "    if epoch % 9 ==0:\n",
    "        print(f'Epoch {epoch+1} | Training Loss: {training_loss} - Training Accuracy {acc_train} | Testing Loss: {testing_loss} - Testing Accuracy {acc_test}')\n"
   ]
  },
  {
   "cell_type": "code",
   "execution_count": 45,
   "metadata": {},
   "outputs": [
    {
     "data": {
      "image/png": "[encoded data removed]",
      "text/plain": [
       "<Figure size 640x480 with 1 Axes>"
      ]
     },
     "metadata": {},
     "output_type": "display_data"
    }
   ],
   "source": [
    "plt.plot(epochs_values, torch.tensor(train_loss_values).numpy(), label='Training Loss')\n",
    "plt.plot(epochs_values, torch.tensor(test_loss_values).numpy(), label='Testing Loss')\n",
    "plt.title('Training and test loss values')\n",
    "plt.ylabel('Loss')\n",
    "plt.xlabel('Epochs')\n",
    "plt.legend();"
   ]
  }
 ],
 "metadata": {
  "kernelspec": {
   "display_name": "torch_gpuenv",
   "language": "python",
   "name": "python3"
  },
  "language_info": {
   "codemirror_mode": {
    "name": "ipython",
    "version": 3
   },
   "file_extension": ".py",
   "mimetype": "text/x-python",
   "name": "python",
   "nbconvert_exporter": "python",
   "pygments_lexer": "ipython3",
   "version": "3.9.16"
  }
 },
 "nbformat": 4,
 "nbformat_minor": 2
}
