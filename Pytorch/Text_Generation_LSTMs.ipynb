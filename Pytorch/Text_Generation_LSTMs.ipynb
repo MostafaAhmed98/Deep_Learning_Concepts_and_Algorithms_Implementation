{
 "cells": [
  {
   "cell_type": "markdown",
   "metadata": {},
   "source": [
    "## Building Text Generation With LSTMs and PyTorch\n",
    "\n",
    "Today we are going to build Text Generation With LSTMs from scratch using PyTorch.\n",
    "\n",
    "**Below information and images are mainly collected from below articles and references:**\n",
    "    \n",
    "- [Understanding LSTM Networks](https://colah.github.io/posts/2015-08-Understanding-LSTMs/)\n",
    "- [LSTMs and Bi-LSTM in PyTorch](https://www.scaler.com/topics/pytorch/lstm-pytorch/)\n",
    "\n",
    "    \n"
   ]
  },
  {
   "cell_type": "code",
   "execution_count": 150,
   "metadata": {},
   "outputs": [
    {
     "data": {
      "text/plain": [
       "'cuda'"
      ]
     },
     "execution_count": 150,
     "metadata": {},
     "output_type": "execute_result"
    }
   ],
   "source": [
    "import torch\n",
    "import torch.nn as nn\n",
    "import string\n",
    "import contractions\n",
    "import numpy as np\n",
    "from torch.utils.data import DataLoader, Dataset\n",
    "import pandas as pd\n",
    "from collections import Counter\n",
    "from tqdm import tqdm\n",
    "import matplotlib.pyplot as plt\n",
    "import requests\n",
    "torch.manual_seed(42)\n",
    "torch.cuda.manual_seed_all(42)\n",
    "device = 'cuda' if torch.cuda.is_available() else 'cpu'\n",
    "device"
   ]
  },
  {
   "cell_type": "markdown",
   "metadata": {},
   "source": [
    "## Downloading the dataset"
   ]
  },
  {
   "cell_type": "code",
   "execution_count": 2,
   "metadata": {},
   "outputs": [
    {
     "name": "stdout",
     "output_type": "stream",
     "text": [
      "Dataset downloaded successfully and saved as reddit-cleanjokes.csv\n"
     ]
    }
   ],
   "source": [
    "# Define the URL of the dataset\n",
    "url = \"https://raw.githubusercontent.com/amoudgl/short-jokes-dataset/master/data/reddit-cleanjokes.csv\"\n",
    "\n",
    "# Set the output filename\n",
    "filename = \"reddit-cleanjokes.csv\"\n",
    "\n",
    "# Send a GET request to download the dataset\n",
    "response = requests.get(url)\n",
    "\n",
    "# Check if the request was successful\n",
    "if response.status_code == 200:\n",
    "    # Open the file in write binary mode\n",
    "    with open(filename, \"wb\") as f:\n",
    "        # Write the content of the response to the file\n",
    "        f.write(response.content)\n",
    "\n",
    "    print(f\"Dataset downloaded successfully and saved as {filename}\")\n",
    "else:\n",
    "    print(f\"Download failed with status code: {response.status_code}\")\n"
   ]
  },
  {
   "cell_type": "markdown",
   "metadata": {},
   "source": [
    "## Custom Text Dataset\n",
    "\n",
    "This code defines a custom PyTorch `Dataset` class for text data:\n",
    "\n",
    "- **Loads and cleans jokes:** Reads jokes from CSV, concatenates, removes contractions, and eliminates punctuation.\n",
    "- **Builds vocabulary:** Creates unique words list, maps words to indexes and vice versa.\n",
    "- **Defines dataset length:** Considers sequence length for accurate data size.\n",
    "- **Provides data access:** Returns sequences of 4 words and their next word as targets. "
   ]
  },
  {
   "cell_type": "code",
   "execution_count": 129,
   "metadata": {},
   "outputs": [],
   "source": [
    "# custom dataset class to load the data examples\n",
    "class Dataset(Dataset):\n",
    "    def __init__(self):\n",
    "        self.words = self.load_words()\n",
    "        self.uniq_words = self.get_uniq_words()\n",
    "\n",
    "        self.index_to_word = {index: word for index, word in enumerate(self.uniq_words)}\n",
    "        self.word_to_index = {word: index for index, word in enumerate(self.uniq_words)}\n",
    "\n",
    "        self.words_indexes = [self.word_to_index[w] for w in self.words]\n",
    "\n",
    "    def load_words(self):\n",
    "        train_df = pd.read_csv('reddit-cleanjokes.csv')\n",
    "        text = train_df['Joke'].str.cat(sep=' ')\n",
    "        # Removing Contractions\n",
    "        text = contractions.fix(text).split(' ')\n",
    "        text = self.data_cleaning(text)\n",
    "        return text\n",
    "    \n",
    "    def data_cleaning(self, text):\n",
    "        # removing punctations\n",
    "        PUNCT_TO_REMOVE = string.punctuation\n",
    "        empty_table = str.maketrans('', '', PUNCT_TO_REMOVE)\n",
    "        no_punc_text = [word.translate(empty_table) for word in text]\n",
    "        return no_punc_text\n",
    "        \n",
    "\n",
    "    def get_uniq_words(self):\n",
    "        word_counts = Counter(self.words)\n",
    "        return sorted(word_counts, key=word_counts.get, reverse=True)\n",
    "\n",
    "\n",
    "    # returns the length of the dataset\n",
    "    def __len__(self):\n",
    "        return len(self.words_indexes) - 4\n",
    "\n",
    "    def __getitem__(self, index):\n",
    "        return (\n",
    "            torch.tensor(self.words_indexes[index:index+4]),\n",
    "            torch.tensor(self.words_indexes[index+1:index+4+1]))\n"
   ]
  },
  {
   "cell_type": "markdown",
   "metadata": {},
   "source": [
    "# Building The Model"
   ]
  },
  {
   "cell_type": "markdown",
   "metadata": {},
   "source": [
    "### LSTM Gates\n",
    "\n",
    "Long Short-Term Memory (LSTM) networks are a type of recurrent neural network (RNN) architecture designed to overcome the vanishing gradient problem and effectively capture long-term dependencies in sequential data.\n",
    "\n",
    "In an LSTM unit, there are three main gates:\n",
    "\n",
    "1. **Forget Gate:**\n",
    "   - The forget gate determines what information from the previous cell state \\( C_{t-1} \\) should be discarded or forgotten.\n",
    "   - It takes input \\( x_t \\) (current input) and \\( h_{t-1} \\) (previous hidden state) and produces a forget gate vector \\( f_t \\) through a sigmoid activation function.\n",
    "   - The forget gate's output is multiplied element-wise with the previous cell state \\( C_{t-1} \\), resulting in the forgotten information.\n",
    "\n",
    "2. **Input Gate:**\n",
    "   - The input gate determines which new information should be stored in the cell state.\n",
    "   - It consists of two sub-components:\n",
    "     - **Input Gate:** Determines which values to update.\n",
    "     - **Candidate Cell State:** Generates new candidate values to be added to the cell state.\n",
    "   - Both components take \\( x_t \\) and \\( h_{t-1} \\) as input and produce vectors \\( i_t \\) and \\( \\tilde{C}_t \\) (candidate cell state) through sigmoid and tanh activation functions, respectively.\n",
    "   - The input gate's output is the element-wise product of \\( i_t \\) and \\( \\tilde{C}_t \\), representing the new candidate values.\n",
    "\n",
    "3. **Output Gate:**\n",
    "   - The output gate determines the next hidden state \\( h_t \\) based on the current input and the updated cell state.\n",
    "   - It takes \\( x_t \\) and \\( h_{t-1} \\) as input and produces an output gate vector \\( o_t \\) through a sigmoid activation function.\n",
    "   - The current cell state \\( C_t \\) is passed through a tanh activation function to squash the values between -1 and 1.\n",
    "   - The output gate's output is the element-wise product of \\( o_t \\) and the squashed cell state, resulting in the next hidden state \\( h_t \\).\n",
    "\n",
    "These gates collectively enable LSTMs to control the flow of information over time, allowing them to learn and remember long-term dependencies in sequential data more effectively than traditional RNNs.\n"
   ]
  },
  {
   "cell_type": "markdown",
   "metadata": {},
   "source": [
    "<img src='/images/lstms_gates.png'>"
   ]
  },
  {
   "cell_type": "code",
   "execution_count": 130,
   "metadata": {},
   "outputs": [],
   "source": [
    "class Model(nn.Module):\n",
    "    def __init__(self, dataset, input_size, embed_dim, layer_dim):\n",
    "        super(Model, self).__init__()\n",
    "        self.input_size = input_size\n",
    "        self.embed_dim = embed_dim\n",
    "        self.layer_dim = layer_dim\n",
    "        n_vocab = len(dataset.uniq_words)\n",
    "\n",
    "        self.embeding = nn.Embedding(num_embeddings=n_vocab,\n",
    "                                     embedding_dim=self.embed_dim)\n",
    "        self.lstm = nn.LSTM(input_size=self.input_size,\n",
    "                            hidden_size=self.input_size,\n",
    "                            num_layers=self.layer_dim,\n",
    "                            dropout=0.1)\n",
    "        self.fc = nn.Linear(self.input_size, n_vocab)\n",
    "\n",
    "    def forward(self, x, prev_state):\n",
    "        embed = self.embeding(x)\n",
    "        output, state = self.lstm(embed, prev_state) # -> output, (hidden_state, cell_state)\n",
    "        logits = self.fc(output)\n",
    "        return logits, state\n",
    "    \n",
    "    def init_state(self, sequence_length):\n",
    "        return (torch.randn(self.layer_dim, sequence_length, self.input_size).cuda(),\n",
    "                torch.randn(self.layer_dim, sequence_length, self.input_size).cuda())\n",
    "\n",
    "INPUT_SIZE = 128\n",
    "EMBED_SIZE = 128\n",
    "LAYER_DIM = 3\n",
    "\n",
    "dataset = Dataset()\n",
    "model = Model(dataset, INPUT_SIZE, EMBED_SIZE, LAYER_DIM).to(device)"
   ]
  },
  {
   "cell_type": "code",
   "execution_count": 131,
   "metadata": {},
   "outputs": [],
   "source": [
    "dataloader = DataLoader(dataset, batch_size=128)\n",
    "loss_fn = nn.CrossEntropyLoss()\n",
    "optimizer = torch.optim.Adam(model.parameters(), lr=0.003)"
   ]
  },
  {
   "cell_type": "code",
   "execution_count": 132,
   "metadata": {},
   "outputs": [
    {
     "data": {
      "text/plain": [
       "(tensor([  2,   8,   0, 264]), tensor([  8,   0, 264,  19]))"
      ]
     },
     "execution_count": 132,
     "metadata": {},
     "output_type": "execute_result"
    }
   ],
   "source": [
    "x, y = next(iter(dataloader))\n",
    "x[0], y[0]"
   ]
  },
  {
   "cell_type": "code",
   "execution_count": 133,
   "metadata": {},
   "outputs": [
    {
     "data": {
      "text/plain": [
       "(['What', 'did', 'the', 'bartender'], ['did', 'the', 'bartender', 'say'])"
      ]
     },
     "execution_count": 133,
     "metadata": {},
     "output_type": "execute_result"
    }
   ],
   "source": [
    "# Understanding the model inputs and labels\n",
    "train_words = [dataset.index_to_word[word.item()] for word in x[0]]\n",
    "label = [dataset.index_to_word[word.item()] for word in y[0]]\n",
    "train_words, label"
   ]
  },
  {
   "cell_type": "code",
   "execution_count": 134,
   "metadata": {},
   "outputs": [],
   "source": [
    "def train_step(model: torch.nn.Module, \n",
    "               dataloader: torch.utils.data.DataLoader, \n",
    "               loss_fn: torch.nn.Module, \n",
    "               optimizer: torch.optim.Optimizer,\n",
    "               hidden_state: torch.tensor,\n",
    "               cell_state: torch.tensor):\n",
    "    # Put model in train mode\n",
    "    model.train()\n",
    "    \n",
    "    # Setup train loss and train accuracy values\n",
    "    train_loss = 0\n",
    "    #print('before batch start')\n",
    "    # Loop through data loader data batches\n",
    "    for batch, (X, y) in enumerate(dataloader):\n",
    "        # Send data to target device\n",
    "        #print(f'X shape {X.shape}')\n",
    "        X, y = X.to(device), y.to(device)\n",
    "\n",
    "        # 1. Forward pass\n",
    "        y_pred, (hidden_state, cell_state) = model(X, (hidden_state, cell_state))\n",
    "        #print(f'y_pred  shape is {y_pred.shape} and y shape is {y.shape}')\n",
    "        # 2. Calculate  and accumulate loss\n",
    "        loss = loss_fn(y_pred.transpose(1, 2), y)\n",
    "        \n",
    "        #print(f'y_pred after shape is {y_pred.transpose(1, 2).shape} and y shape is {y.shape}')\n",
    "        train_loss += loss.item() \n",
    "\n",
    "        hidden_state, cell_state = hidden_state.detach(), cell_state.detach()\n",
    "        # 3. Optimizer zero grad\n",
    "        optimizer.zero_grad()\n",
    "\n",
    "        # 4. Loss backward\n",
    "        loss.backward()\n",
    "\n",
    "        \n",
    "        # 5. Optimizer step\n",
    "        optimizer.step()\n",
    "        #print(batch)\n",
    "\n",
    "    # scheduler.step()\n",
    "\n",
    "    # Adjust metrics to get average loss and accuracy per batch \n",
    "    train_loss = train_loss / len(dataloader)\n",
    "    return train_loss"
   ]
  },
  {
   "cell_type": "code",
   "execution_count": 136,
   "metadata": {},
   "outputs": [],
   "source": [
    "def train(model: torch.nn.Module, \n",
    "          train_dataloader: torch.utils.data.DataLoader,\n",
    "          optimizer: torch.optim.Optimizer,\n",
    "          loss_fn: torch.nn.Module = nn.CrossEntropyLoss(),\n",
    "          epochs: int = 30):\n",
    "    \n",
    "    # 2. Create empty results dictionary\n",
    "    results = {\"train_loss\": [],\n",
    "        \"train_acc\": []\n",
    "    }\n",
    "    \n",
    "    # 3. Loop through training and testing steps for a number of epochs\n",
    "    for epoch in tqdm(range(epochs)):\n",
    "        (hidden_state, cell_state) = model.init_state(4)\n",
    "\n",
    "        train_loss = train_step(model=model,\n",
    "                                dataloader=train_dataloader,\n",
    "                                loss_fn=loss_fn,\n",
    "                                optimizer=optimizer,\n",
    "                                hidden_state=hidden_state,\n",
    "                                cell_state=cell_state)\n",
    "\n",
    "        \n",
    "        # 4. Print out what's happening\n",
    "        if epoch % 10 == 0 or epoch+1 == epochs:\n",
    "            print(\n",
    "                    f\"Epoch: {epoch+1} | \"\n",
    "                    f\"train_loss: {train_loss:.4f} | \"\n",
    "            )\n",
    "\n",
    "        # 5. Update results dictionary\n",
    "        results[\"train_loss\"].append(train_loss)\n",
    "    # 6. Return the filled results at the end of the epochs\n",
    "    return results"
   ]
  },
  {
   "cell_type": "code",
   "execution_count": 137,
   "metadata": {},
   "outputs": [
    {
     "name": "stderr",
     "output_type": "stream",
     "text": [
      "  1%|          | 1/100 [00:01<02:51,  1.73s/it]"
     ]
    },
    {
     "name": "stdout",
     "output_type": "stream",
     "text": [
      "Epoch: 1 | train_loss: 7.1190 | \n"
     ]
    },
    {
     "name": "stderr",
     "output_type": "stream",
     "text": [
      " 11%|█         | 11/100 [00:15<02:02,  1.38s/it]"
     ]
    },
    {
     "name": "stdout",
     "output_type": "stream",
     "text": [
      "Epoch: 11 | train_loss: 4.4044 | \n"
     ]
    },
    {
     "name": "stderr",
     "output_type": "stream",
     "text": [
      " 21%|██        | 21/100 [00:29<01:48,  1.37s/it]"
     ]
    },
    {
     "name": "stdout",
     "output_type": "stream",
     "text": [
      "Epoch: 21 | train_loss: 3.1526 | \n"
     ]
    },
    {
     "name": "stderr",
     "output_type": "stream",
     "text": [
      " 31%|███       | 31/100 [00:43<01:37,  1.41s/it]"
     ]
    },
    {
     "name": "stdout",
     "output_type": "stream",
     "text": [
      "Epoch: 31 | train_loss: 2.2032 | \n"
     ]
    },
    {
     "name": "stderr",
     "output_type": "stream",
     "text": [
      " 41%|████      | 41/100 [00:57<01:20,  1.36s/it]"
     ]
    },
    {
     "name": "stdout",
     "output_type": "stream",
     "text": [
      "Epoch: 41 | train_loss: 1.5167 | \n"
     ]
    },
    {
     "name": "stderr",
     "output_type": "stream",
     "text": [
      " 51%|█████     | 51/100 [01:11<01:09,  1.42s/it]"
     ]
    },
    {
     "name": "stdout",
     "output_type": "stream",
     "text": [
      "Epoch: 51 | train_loss: 1.0517 | \n"
     ]
    },
    {
     "name": "stderr",
     "output_type": "stream",
     "text": [
      " 61%|██████    | 61/100 [01:26<00:55,  1.43s/it]"
     ]
    },
    {
     "name": "stdout",
     "output_type": "stream",
     "text": [
      "Epoch: 61 | train_loss: 0.6756 | \n"
     ]
    },
    {
     "name": "stderr",
     "output_type": "stream",
     "text": [
      " 71%|███████   | 71/100 [01:39<00:39,  1.36s/it]"
     ]
    },
    {
     "name": "stdout",
     "output_type": "stream",
     "text": [
      "Epoch: 71 | train_loss: 0.4904 | \n"
     ]
    },
    {
     "name": "stderr",
     "output_type": "stream",
     "text": [
      " 81%|████████  | 81/100 [01:53<00:26,  1.37s/it]"
     ]
    },
    {
     "name": "stdout",
     "output_type": "stream",
     "text": [
      "Epoch: 81 | train_loss: 0.3954 | \n"
     ]
    },
    {
     "name": "stderr",
     "output_type": "stream",
     "text": [
      " 91%|█████████ | 91/100 [02:07<00:12,  1.37s/it]"
     ]
    },
    {
     "name": "stdout",
     "output_type": "stream",
     "text": [
      "Epoch: 91 | train_loss: 0.2991 | \n"
     ]
    },
    {
     "name": "stderr",
     "output_type": "stream",
     "text": [
      "100%|██████████| 100/100 [02:19<00:00,  1.40s/it]"
     ]
    },
    {
     "name": "stdout",
     "output_type": "stream",
     "text": [
      "Epoch: 100 | train_loss: 0.2294 | \n"
     ]
    },
    {
     "name": "stderr",
     "output_type": "stream",
     "text": [
      "\n"
     ]
    }
   ],
   "source": [
    "model_results = train(model, dataloader, optimizer, loss_fn, epochs=100)"
   ]
  },
  {
   "cell_type": "code",
   "execution_count": 138,
   "metadata": {},
   "outputs": [
    {
     "data": {
      "image/png": "[encoded data removed]",
      "text/plain": [
       "<Figure size 1500x700 with 1 Axes>"
      ]
     },
     "metadata": {},
     "output_type": "display_data"
    }
   ],
   "source": [
    "def plot_loss_curves(results):\n",
    "\n",
    "    \"\"\"Plots training curves of a results dictionary.\n",
    "\n",
    "    Args:\n",
    "        results (dict): dictionary containing list of values, e.g.\n",
    "            {\"train_loss\": [...],\n",
    "             \"train_acc\": [...],\n",
    "             \"test_loss\": [...],\n",
    "             \"test_acc\": [...]}\n",
    "    \"\"\"\n",
    "    \n",
    "    # Get the loss values of the results dictionary (training and test)\n",
    "    loss = results['train_loss']\n",
    "    #test_loss = results['test_loss']\n",
    "\n",
    "    # Get the accuracy values of the results dictionary (training and test)\n",
    "    #accuracy = results['train_acc']\n",
    "    #test_accuracy = results['test_acc']\n",
    "\n",
    "    # Figure out how many epochs there were\n",
    "    epochs = range(len(results['train_loss']))\n",
    "\n",
    "    # Setup a plot \n",
    "    plt.figure(figsize=(15, 7))\n",
    "\n",
    "    # Plot loss\n",
    "    plt.subplot(1, 2, 1)\n",
    "    plt.plot(epochs, loss, label='train_loss')\n",
    "    # plt.plot(epochs, test_loss, label='test_loss')\n",
    "    plt.title('Loss')\n",
    "    plt.xlabel('Epochs')\n",
    "    plt.legend()\n",
    "\n",
    "    # Plot accuracy\n",
    "    # plt.subplot(1, 2, 2)\n",
    "    # plt.plot(epochs, accuracy, label='train_accuracy')\n",
    "    # plt.plot(epochs, test_accuracy, label='test_accuracy')\n",
    "    # plt.title('Accuracy')\n",
    "    # plt.xlabel('Epochs')\n",
    "    # plt.legend();\n",
    "\n",
    "plot_loss_curves(model_results)"
   ]
  },
  {
   "cell_type": "markdown",
   "metadata": {},
   "source": [
    "Let's delve deeper into why random sampling with softmax probabilities is preferred for text generation compared to `argmax`, with examples for both approaches.\n",
    "\n",
    "**1. Argmax and its Limitations:**\n",
    "\n",
    "Imagine a scenario where your model predicts the following probabilities for the next word after \"why\":\n",
    "\n",
    "- the: 0.95\n",
    "- is: 0.02\n",
    "- a: 0.01\n",
    "- other: 0.02\n",
    "\n",
    "Using `argmax` in this case would always pick \"the\" as it has the highest probability (0.95). This leads to repetitive and predictable outputs:\n",
    "\n",
    "```\n",
    "why the the the the the ... (repeated \"the\")\n",
    "```\n",
    "\n",
    "The model's knowledge about other possible continuations (\"is,\" \"a,\" or something else) gets entirely ignored.\n",
    "\n",
    "**2. Random Sampling with Softmax Probabilities:**\n",
    "\n",
    "Random sampling with softmax probabilities addresses this limitation by leveraging both the model's predictions and a random element. Here's how it works:\n",
    "\n",
    "  a. **Softmax Transformation:**\n",
    "     The model's raw logits for each word are converted into probabilities using the softmax function. This transforms the logits into a distribution where the sum of all probabilities is 1.\n",
    "\n",
    "  b. **Probability Distribution:**\n",
    "     In the example above, the softmax probabilities might look like this:\n",
    "\n",
    "     - the: 0.8 (rounded from 0.95 for clarity)\n",
    "     - is: 0.02\n",
    "     - a: 0.01\n",
    "     - other: 0.02\n",
    "\n",
    "  c. **Random Choice with Probabilities:**\n",
    "     Instead of blindly picking the highest value, a word is chosen **randomly** based on its probability in the softmax distribution.\n",
    "\n",
    "  d. **Benefits:**\n",
    "     - Words with higher probabilities are more likely to be chosen, reflecting the model's knowledge.\n",
    "     - Randomness allows for choosing less likely words, leading to more diverse and interesting outputs.\n",
    "\n",
    "**Example with Random Sampling:**\n",
    "\n",
    "In our example with probabilities (0.8 for \"the\", 0.02 for others), random sampling might choose:\n",
    "\n",
    "- **Iteration 1:** \"the\" (higher probability)\n",
    "- **Iteration 2:** \"is\" (less likely, but possible)\n",
    "- **Iteration 3:** \"a\" (possible, but less likely)\n",
    "\n",
    "This results in a more varied sequence compared to using `argmax`.\n",
    "\n",
    "**Key Points:**\n",
    "\n",
    "- Random sampling with softmax probabilities allows the model to influence word choice while introducing randomness for creativity.\n",
    "- While a high probability word might be chosen more often, less likely words can still be selected, leading to diverse outputs.\n",
    "\n",
    "**In summary:**\n",
    "\n",
    "- `argmax` is too deterministic, leading to repetitive and predictable text generation.\n",
    "- Random sampling with softmax probabilities balances model knowledge with randomness, producing more interesting and varied outputs.\n"
   ]
  },
  {
   "cell_type": "code",
   "execution_count": 146,
   "metadata": {},
   "outputs": [
    {
     "name": "stdout",
     "output_type": "stream",
     "text": [
      "['i', 'like', 'your', 'think', 'when', 'you', 'want', 'to', 'try', 'a', 'TV', 'on', 'reverse']\n"
     ]
    }
   ],
   "source": [
    "def predict(dataset, model, text, next_words=10):\n",
    "    model.eval()\n",
    "\n",
    "    words = text.split(' ')\n",
    "    state_h, state_c = model.init_state(len(words))\n",
    "\n",
    "    for i in range(0, next_words):\n",
    "        x = torch.tensor([[dataset.word_to_index[w] for w in words[i:]]]).cuda() # stores the index of every word we gave to the model # ['why', 'you', 'are'] -> [231, 21, 345]\n",
    "        y_pred, (state_h, state_c) = model(x, (state_h, state_c))\n",
    "\n",
    "        last_word_logits = y_pred[0][-1] # reduce dimension\n",
    "        #print(last_word_logits[0:10])\n",
    "        last_word_logits = last_word_logits.to(torch.float64).cpu() # convert to float64 to sum the preds to 1\n",
    "        p = torch.softmax(last_word_logits, dim=0).detach().cpu()#.numpy()\n",
    "        #word_index = p.argmax(dim=0)\n",
    "        word_index = np.random.choice(len(last_word_logits), p=p)\n",
    "        words.append(dataset.index_to_word[word_index])\n",
    "\n",
    "    return words\n",
    "\n",
    "\n",
    "\n",
    "print(predict(dataset, model, text='i like your'))\n"
   ]
  },
  {
   "cell_type": "markdown",
   "metadata": {},
   "source": [
    "# Draft Cells"
   ]
  },
  {
   "cell_type": "code",
   "execution_count": null,
   "metadata": {},
   "outputs": [
    {
     "name": "stdout",
     "output_type": "stream",
     "text": [
      "tensor(1.0000, device='cuda:0', grad_fn=<SumBackward0>)\n"
     ]
    }
   ],
   "source": [
    "len(test[1])\n",
    "test2 = torch.softmax(test[1], dim=0)\n",
    "print(test2.sum())"
   ]
  },
  {
   "cell_type": "code",
   "execution_count": null,
   "metadata": {},
   "outputs": [
    {
     "data": {
      "text/plain": [
       "0    What did the bartender say to the jumper cable...\n",
       "1    Don't you hate jokes about German sausage? The...\n",
       "2    Two artists had an art contest... It ended in ...\n",
       "3    Why did the chicken cross the playground? To g...\n",
       "4     What gun do you use to hunt a moose? A moosecut!\n",
       "Name: Joke, dtype: object"
      ]
     },
     "execution_count": 15,
     "metadata": {},
     "output_type": "execute_result"
    }
   ],
   "source": [
    "# reading the dataset\n",
    "train_df = pd.read_csv('reddit-cleanjokes.csv')\n",
    "train_df['Joke'].head()\n"
   ]
  },
  {
   "cell_type": "code",
   "execution_count": 153,
   "metadata": {},
   "outputs": [
    {
     "name": "stdout",
     "output_type": "stream",
     "text": [
      "What did the bartender say to the jumper cables? You better not try to start anything. Do not you ha\n",
      "['What', 'did', 'the', 'bartender', 'say', 'to', 'the', 'jumper']\n",
      "24517\n",
      "24517\n",
      "5175\n",
      "['the', 'a', 'What', 'you', 'to', 'I', 'do', 'is', 'did', 'of']\n"
     ]
    }
   ],
   "source": [
    "text = train_df['Joke'].str.cat(sep=' ')\n",
    "text = contractions.fix(text)\n",
    "print(text[0:100])\n",
    "filtered_text = text.split(' ')\n",
    "print(filtered_text[0:8])\n",
    "print(len(filtered_text)) # all words\n",
    "PUNCT_TO_REMOVE = string.punctuation\n",
    "empty_table = str.maketrans('', '', PUNCT_TO_REMOVE)\n",
    "cleaned_text = [word.translate(empty_table) for word in filtered_text ]\n",
    "print(len(cleaned_text)) # all words\n",
    "word_counts = Counter(cleaned_text)\n",
    "print(len(word_counts)) # unique words\n",
    "print(sorted(word_counts, key=word_counts.get, reverse=True)[0:10])\n",
    "\n"
   ]
  },
  {
   "cell_type": "code",
   "execution_count": null,
   "metadata": {},
   "outputs": [
    {
     "name": "stdout",
     "output_type": "stream",
     "text": [
      "I had such high hopes for this dress size or my usual size to work for me\n"
     ]
    }
   ],
   "source": [
    "import string\n",
    "\n",
    "text = 'I had such high hopes! for this dress size or (my usual size) to work for me.'\n",
    "PUNCT_TO_REMOVE = string.punctuation\n",
    "\n",
    "# Create a translation table with empty replacements for punctuation\n",
    "empty_table = str.maketrans('', '', PUNCT_TO_REMOVE)\n",
    "ans = text.translate(empty_table)\n",
    "print(ans)\n"
   ]
  }
 ],
 "metadata": {
  "kernelspec": {
   "display_name": "torch_gpuenv",
   "language": "python",
   "name": "python3"
  },
  "language_info": {
   "codemirror_mode": {
    "name": "ipython",
    "version": 3
   },
   "file_extension": ".py",
   "mimetype": "text/x-python",
   "name": "python",
   "nbconvert_exporter": "python",
   "pygments_lexer": "ipython3",
   "version": "3.9.16"
  },
  "orig_nbformat": 4,
  "vscode": {
   "interpreter": {
    "hash": "a747e6e515b5abeed2acd80352e00cdac9fb41c59db040214a4bbc0d7379b781"
   }
  }
 },
 "nbformat": 4,
 "nbformat_minor": 2
}
