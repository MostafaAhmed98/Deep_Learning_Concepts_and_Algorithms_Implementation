{
 "cells": [
  {
   "cell_type": "markdown",
   "metadata": {},
   "source": [
    "## Building LSTMs with PyTorch\n",
    "\n",
    "Today we are going to build LSTMs from scratch using PyTorch.\n",
    "\n",
    "We'll implement the core LSTM cell and create a multi-layered model, gaining a deep understanding of how LSTMs process sequential data.\n",
    "\n",
    "**Below information and images are mainly collected from below articles and references:**\n",
    "    \n",
    "- [Understanding LSTM Networks](https://colah.github.io/posts/2015-08-Understanding-LSTMs/)\n",
    "- [LSTM: Understanding the Number of Parameters](https://www.kaggle.com/code/kmkarakaya/lstm-understanding-the-number-of-parameters)\n",
    "    \n"
   ]
  },
  {
   "cell_type": "code",
   "execution_count": 35,
   "metadata": {},
   "outputs": [
    {
     "data": {
      "text/plain": [
       "'cuda'"
      ]
     },
     "execution_count": 35,
     "metadata": {},
     "output_type": "execute_result"
    }
   ],
   "source": [
    "import torch\n",
    "import torch.nn as nn\n",
    "import torchvision.transforms as transforms\n",
    "import torchvision.datasets as dsets\n",
    "from tqdm import tqdm\n",
    "import matplotlib.pyplot as plt\n",
    "import math\n",
    "torch.manual_seed(42)\n",
    "torch.cuda.manual_seed_all(42)\n",
    "device = 'cuda' if torch.cuda.is_available() else 'cpu'\n",
    "device"
   ]
  },
  {
   "cell_type": "code",
   "execution_count": 36,
   "metadata": {},
   "outputs": [],
   "source": [
    "# Prepairing the MNIST dataset\n",
    "train_dataset = dsets.MNIST(root='./data', \n",
    "                            train=True, \n",
    "                            transform=transforms.ToTensor(),\n",
    "                            download=True)\n",
    " \n",
    "test_dataset = dsets.MNIST(root='./data', \n",
    "                           train=False, \n",
    "                           transform=transforms.ToTensor())\n",
    " \n",
    "batch_size = 100\n",
    "n_iters = 6000\n",
    "num_epochs = n_iters / (len(train_dataset) / batch_size)\n",
    "num_epochs = int(num_epochs)\n",
    "\n",
    "train_loader = torch.utils.data.DataLoader(dataset=train_dataset, \n",
    "                                           batch_size=batch_size, \n",
    "                                           shuffle=True)\n",
    " \n",
    "test_loader = torch.utils.data.DataLoader(dataset=test_dataset, \n",
    "                                          batch_size=batch_size, \n",
    "                                          shuffle=False)\n"
   ]
  },
  {
   "cell_type": "code",
   "execution_count": 38,
   "metadata": {},
   "outputs": [
    {
     "data": {
      "text/plain": [
       "(torch.Size([100, 1, 28, 28]), torch.Size([100]))"
      ]
     },
     "execution_count": 38,
     "metadata": {},
     "output_type": "execute_result"
    }
   ],
   "source": [
    "img, label = next(iter(train_loader))\n",
    "img.shape, label.shape"
   ]
  },
  {
   "cell_type": "code",
   "execution_count": 39,
   "metadata": {},
   "outputs": [
    {
     "data": {
      "text/plain": [
       "['0 - zero',\n",
       " '1 - one',\n",
       " '2 - two',\n",
       " '3 - three',\n",
       " '4 - four',\n",
       " '5 - five',\n",
       " '6 - six',\n",
       " '7 - seven',\n",
       " '8 - eight',\n",
       " '9 - nine']"
      ]
     },
     "execution_count": 39,
     "metadata": {},
     "output_type": "execute_result"
    }
   ],
   "source": [
    "classes = train_dataset.classes\n",
    "classes"
   ]
  },
  {
   "cell_type": "markdown",
   "metadata": {},
   "source": [
    "# Building The Model"
   ]
  },
  {
   "cell_type": "markdown",
   "metadata": {},
   "source": [
    "## LSTM Gates Explaination\n",
    "\n",
    "* **Forget Gate:** Acts like a ruthless organizer, discarding irrelevant information from the past.\n",
    "* **Input Gate:** This gatekeeper decides how much new information to consider and proposes potential additions.\n",
    "* **Output Gate:** This curator selects what information from the cell state becomes the output.\n",
    "\n",
    "These gates empower LSTMs to selectively remember and process information, enabling them to learn long-term dependencies in sequential data, a key advantage over vanilla RNNs.\n"
   ]
  },
  {
   "cell_type": "markdown",
   "metadata": {},
   "source": [
    "<img src='/images/lstms_gates.png'>"
   ]
  },
  {
   "cell_type": "markdown",
   "metadata": {},
   "source": [
    " **explanation of the LSTMCell implementation:**\n",
    "\n",
    "**Initialization:**\n",
    "- Sets up model configuration (input size, hidden size) and creates linear layers for processing input and hidden state data.\n",
    "- Initializes model parameters using a uniform distribution for better convergence during training.\n",
    "\n",
    "**Forward Pass:**\n",
    "1. **Unpacks hidden states:** Extracts previous hidden state (`hx`) and cell state (`cx`) from the provided tuple.\n",
    "2. **Reshapes input:** Ensures batch dimension is first for consistency.\n",
    "3. **Combines input and hidden information:** Transforms input and hidden state using linear layers and adds results.\n",
    "4. **Splits gates:** Flattens combined information and divides it into four gates: input (`ingate`), forget (`forgetgate`), cell (`cellgate`), and output (`outgate`).\n",
    "5. **Applies activation functions:** Sigmoid for `ingate` and `forgetgate`, tanh for `cellgate`, sigmoid for `outgate`.\n",
    "6. **Updates cell state:** Selectively retains past information and incorporates new data based on input and forget gates.\n",
    "7. **Calculates hidden state:** Applies output gate to filtered cell state.\n",
    "8. **Returns new states:** Provides updated hidden state (`hy`) and cell state (`cy`) for use in the next timestep or layer.\n",
    "\n",
    "**Key takeaway:** The LSTMCell class implements core computations of an LSTM cell, enabling it to learn long-term dependencies in sequences by selectively remembering and processing information over time.\n"
   ]
  },
  {
   "cell_type": "code",
   "execution_count": 41,
   "metadata": {},
   "outputs": [],
   "source": [
    "\n",
    "class LSTMCell(nn.Module):\n",
    "    def __init__(self, input_size, hidden_size, bias=True):\n",
    "        super(LSTMCell, self).__init__() # Inherit from the nn.Module class\n",
    "\n",
    "        # Store model configuration\n",
    "        self.input_size = input_size\n",
    "        self.hidden_size = hidden_size\n",
    "        self.bias = bias\n",
    "\n",
    "        # Create linear layers for input-to-hidden and hidden-to-hidden transformations\n",
    "        self.x2h = nn.Linear(input_size, 4 * hidden_size, bias=bias)\n",
    "        self.h2h = nn.Linear(hidden_size, 4 * hidden_size, bias=bias)\n",
    "\n",
    "        # Initialize model parameters\n",
    "        self.reset_parameters()\n",
    "\n",
    "    def reset_parameters(self):\n",
    "        \"\"\"Initialize model parameters with uniform distribution for better convergence.\"\"\"\n",
    "        std = 1.0 / math.sqrt(self.hidden_size)\n",
    "        for w in self.parameters():\n",
    "            w.data.uniform_(-std, std)\n",
    "\n",
    "    def forward(self, x, hidden):\n",
    "        \"\"\"\n",
    "        LSTM cell forward pass.\n",
    "\n",
    "        Args:\n",
    "            x (torch.Tensor): Input tensor of shape (batch_size, input_size).\n",
    "            hidden (tuple): Tuple containing previous hidden and cell states (h_0, c_0).\n",
    "\n",
    "        Returns:\n",
    "            tuple: Tuple containing the new hidden and cell states (h_1, c_1).\n",
    "        \"\"\"\n",
    "\n",
    "        # Unpack previous hidden and cell states\n",
    "        hx, cx = hidden\n",
    "\n",
    "        # Reshape input tensor if needed\n",
    "        x = x.view(-1, x.size(1))  # Ensures batch dimension is first\n",
    "\n",
    "        # Combine input and hidden information\n",
    "        gates = self.x2h(x) + self.h2h(hx)\n",
    "\n",
    "        # Flatten gates tensor for readability\n",
    "        gates = gates.squeeze()\n",
    "\n",
    "        # Split gates into individual components for forget, input, cell, and output gates\n",
    "        ingate, forgetgate, cellgate, outgate = gates.chunk(4, 1)\n",
    "\n",
    "        # Apply activation functions to gates\n",
    "        ingate = torch.sigmoid(ingate)\n",
    "        forgetgate = torch.sigmoid(forgetgate)\n",
    "        cellgate = torch.tanh(cellgate)\n",
    "        outgate = torch.sigmoid(outgate)\n",
    "\n",
    "        # Update cell state\n",
    "        cy = torch.mul(cx, forgetgate) + torch.mul(ingate, cellgate)  # Combine old and new information\n",
    "\n",
    "        # Calculate hidden state\n",
    "        hy = torch.mul(outgate, torch.tanh(cy))  # Apply output gate to cell state\n",
    "\n",
    "        # Return the new hidden and cell states for the next timestep\n",
    "        return (hy, cy)"
   ]
  },
  {
   "cell_type": "markdown",
   "metadata": {},
   "source": [
    "\n",
    "**1. Class Initialization (`__init__` function):**\n",
    "\n",
    "   - **Configuration Parameters:**\n",
    "      - The `__init__` function takes several arguments to configure the LSTM model:\n",
    "         - `input_dim`: Dimensionality of the input data (e.g., number of features per time step).\n",
    "         - `hidden_dim`: Size of the hidden state vector in the LSTM cell. This controls the model's memory capacity and ability to capture complex relationships within the data.\n",
    "         - `layer_dim`: Number of stacked LSTM layers. A higher value allows for learning longer-term dependencies but increases model complexity.\n",
    "         - `output_dim`: Dimensionality of the model's output (e.g., number of classes for classification or number of features for regression).\n",
    "\n",
    "   - **Core LSTM Cell:**\n",
    "      - An instance of the `LSTMCell` class, created earlier, is stored as `self.lstm`. This `LSTMCell` object performs the core computations for a single LSTM unit.\n",
    "\n",
    "   - **Output Layer:**\n",
    "      - A fully connected (linear) layer is created as `self.fc`. This layer takes the final hidden state from the LSTM as input and generates the model's prediction. The output dimension of this layer (`output_dim`) determines the number of classes or features in the model's output.\n",
    "\n",
    "**2. Forward Pass (`forward` function):**\n",
    "\n",
    "   - **Processing Input Sequences:**\n",
    "      - The `forward` function takes the input data (`x`) as a tensor, typically with three dimensions:\n",
    "         - Batch size (number of samples in the batch)\n",
    "         - Sequence length (number of time steps in each sequence)\n",
    "         - Input feature dimension (number of features per time step)\n",
    "\n",
    "   - **Initializing Hidden and Cell States (h0, c0):**\n",
    "      1. **Zero Tensors:** Two tensors, `h0` and `c0`, are created to represent the initial hidden and cell states for the LSTM layers. These are initialized with zeros, assuming no prior information about the sequence.\n",
    "      2. **Correct Dimensions:** The dimensions of `h0` and `c0` are `(layer_dim, batch_size, hidden_dim)`.\n",
    "         - `layer_dim`: Matches the number of stacked LSTM layers.\n",
    "         - `batch_size`: Matches the batch size of the input data.\n",
    "         - `hidden_dim`: Matches the hidden state dimension of the LSTM cell.\n",
    "      3. **GPU Acceleration (Optional):**\n",
    "         - The code checks if a GPU is available using `torch.cuda.is_available()`. If so, it moves `h0` and `c0` to the GPU for faster computations using `.cuda()`.\n",
    "\n",
    "   - **Iterating Through the Sequence:**\n",
    "      1. **Empty Output List:** An empty list `outs` is created to store the hidden states at each time step.\n",
    "      2. **Unpacking Initial States:** The initial hidden state (`hn`) and cell state (`cn`) are extracted from the first layer of `h0` and `c0` (using `[0,:,:]`). This is because the LSTM processes sequences one step at a time.\n",
    "      3. **Looping Through Time Steps:** The code iterates through the sequence length (`x.size(1)`) using a `for` loop:\n",
    "         - **Current Input:** The current input for this time step is obtained by slicing the input tensor `x[:, seq, :]`. This selects all samples in the batch (`[:,]`) for the current time step (`seq`) and extracts all features (`[:]`).\n",
    "         - **LSTM Processing:** The current input (`x[:, seq, :]`) along with the previous hidden and cell states (`hn`, `cn`) are fed to the `self.lstm` (LSTMCell) object. This performs the core LSTM computations, updating the hidden and cell states for the current time step.\n",
    "         - **Updating States:** The new hidden state (`hn`) and cell state (`cn`) for the current time step are obtained from the LSTMCell's output.\n",
    "         - **Storing Hidden State:** The new hidden state (`hn`) is appended to the `outs` list for later use.\n",
    "\n",
    "   - **Obtaining Final Output:**\n",
    "      1. **Extracting Last Hidden State:** The last hidden state from the `outs` list is retrieved. This represents the LSTM's output for the final time step of the sequence.\n",
    "      2. **Removing Unnecessary Dimensions:** Since the fully connected layer expects a 2D tensor, any extra dimensions from the hidden state (due to stacking LSTM layers) are removed using `.squeeze()`.\n",
    "      3. **Fully Connected Layer:** The final hidden state is passed"
   ]
  },
  {
   "cell_type": "markdown",
   "metadata": {},
   "source": [
    "<img src=\"/images/LSTM3-chain.png\">"
   ]
  },
  {
   "cell_type": "markdown",
   "metadata": {},
   "source": [
    "<img src=\"/images/LSTM_internal2.png\">"
   ]
  },
  {
   "cell_type": "code",
   "execution_count": 42,
   "metadata": {},
   "outputs": [],
   "source": [
    "\n",
    "class LSTMModel(nn.Module):\n",
    "    def __init__(self, input_dim, hidden_dim, layer_dim, output_dim, bias=True):\n",
    "        super(LSTMModel, self).__init__()  # Inherit from nn.Module class\n",
    "\n",
    "        # Store model configuration\n",
    "        self.hidden_dim = hidden_dim\n",
    "        self.layer_dim = layer_dim\n",
    "\n",
    "        # Create LSTM cell instance\n",
    "        self.lstm = LSTMCell(input_dim, hidden_dim, layer_dim)\n",
    "\n",
    "        # Create fully connected output layer\n",
    "        self.fc = nn.Linear(hidden_dim, output_dim)\n",
    "\n",
    "    def forward(self, x):\n",
    "        \"\"\"\n",
    "        Forward pass through the LSTM model.\n",
    "\n",
    "        Args:\n",
    "            x (torch.Tensor): Input tensor of shape (batch_size, sequence_length, input_dim).\n",
    "\n",
    "        Returns:\n",
    "            torch.Tensor: Output tensor of shape (batch_size, output_dim).\n",
    "        \"\"\"\n",
    "\n",
    "        # Initialize hidden and cell states with zeros\n",
    "        h0 = torch.zeros(self.layer_dim, x.size(0), self.hidden_dim)\n",
    "        c0 = torch.zeros(self.layer_dim, x.size(0), self.hidden_dim)\n",
    "\n",
    "        # Move initial states to GPU if available\n",
    "        if torch.cuda.is_available():\n",
    "            h0 = h0.cuda()\n",
    "            c0 = c0.cuda()\n",
    "\n",
    "        # Create a list to store hidden states at each time step\n",
    "        outs = []\n",
    "\n",
    "        # Unpack initial hidden and cell states for the first layer\n",
    "        cn = c0[0, :, :]\n",
    "        hn = h0[0, :, :]\n",
    "\n",
    "        # Iterate through the sequence time steps\n",
    "        for seq in range(x.size(1)):\n",
    "            # Process current input, hidden, and cell states through LSTM cell\n",
    "            hn, cn = self.lstm(x[:, seq, :], (hn, cn))\n",
    "\n",
    "            # Store the hidden state for this time step\n",
    "            outs.append(hn)\n",
    "\n",
    "        # Extract the last hidden state\n",
    "        out = outs[-1].squeeze()\n",
    "\n",
    "        # Pass the last hidden state through the fully connected layer\n",
    "        out = self.fc(out)\n",
    "\n",
    "        return out\n",
    "\n",
    "input_dim = 28\n",
    "hidden_dim = 128\n",
    "layer_dim = 1  # one or stacked layers\n",
    "output_dim = len(classes)\n",
    "seq_dim = 28\n",
    "\n",
    "model = LSTMModel(input_dim, hidden_dim, layer_dim, output_dim).to(device)"
   ]
  },
  {
   "cell_type": "code",
   "execution_count": 43,
   "metadata": {},
   "outputs": [],
   "source": [
    "loss_fn = nn.CrossEntropyLoss()\n",
    "optimizer = torch.optim.SGD(model.parameters(), lr=0.1)"
   ]
  },
  {
   "cell_type": "code",
   "execution_count": 44,
   "metadata": {},
   "outputs": [],
   "source": [
    "def train_step(model: torch.nn.Module, \n",
    "               dataloader: torch.utils.data.DataLoader, \n",
    "               loss_fn: torch.nn.Module, \n",
    "               optimizer: torch.optim.Optimizer):\n",
    "    # Put model in train mode\n",
    "    model.train()\n",
    "    \n",
    "    # Setup train loss and train accuracy values\n",
    "    train_loss, train_acc = 0, 0\n",
    "    \n",
    "    # Loop through data loader data batches\n",
    "    for batch, (X, y) in enumerate(dataloader):\n",
    "        # Send data to target device\n",
    "        X = X.view(-1, seq_dim, input_dim) # Reshaping the inputs to be (BATCH_SIZE, TIMESTEP, INPUT_FEATURES)\n",
    "        X, y = X.to(device), y.to(device)\n",
    "\n",
    "        # 1. Forward pass\n",
    "        y_pred = model(X)\n",
    "\n",
    "        # 2. Calculate  and accumulate loss\n",
    "        loss = loss_fn(y_pred, y)\n",
    "        train_loss += loss.item() \n",
    "\n",
    "        # 3. Optimizer zero grad\n",
    "        optimizer.zero_grad()\n",
    "\n",
    "        # 4. Loss backward\n",
    "        loss.backward()\n",
    "\n",
    "        \n",
    "        # 5. Optimizer step\n",
    "        optimizer.step()\n",
    "        \n",
    "        # Calculate and accumulate accuracy metric across all batches\n",
    "        y_pred_class = torch.argmax(torch.softmax(y_pred, dim=1), dim=1)\n",
    "        train_acc += (y_pred_class == y).sum().item()/len(y_pred)\n",
    "\n",
    "    # scheduler.step()\n",
    "\n",
    "    # Adjust metrics to get average loss and accuracy per batch \n",
    "    train_loss = train_loss / len(dataloader)\n",
    "    train_acc = train_acc / len(dataloader)\n",
    "    return train_loss, train_acc"
   ]
  },
  {
   "cell_type": "code",
   "execution_count": 45,
   "metadata": {},
   "outputs": [],
   "source": [
    "def test_step(model: torch.nn.Module, \n",
    "              dataloader: torch.utils.data.DataLoader, \n",
    "              loss_fn: torch.nn.Module):\n",
    "    # Put model in eval mode\n",
    "    model.eval() \n",
    "    \n",
    "    # Setup test loss and test accuracy values\n",
    "    test_loss, test_acc = 0, 0\n",
    "    \n",
    "    # Turn on inference context manager\n",
    "    with torch.inference_mode():\n",
    "        # Loop through DataLoader batches\n",
    "        for batch, (X, y) in enumerate(dataloader):\n",
    "            # Send data to target device\n",
    "            X = X.view(-1, seq_dim, input_dim)\n",
    "            X, y = X.to(device), y.to(device)\n",
    "    \n",
    "            # 1. Forward pass\n",
    "            test_pred_logits = model(X)\n",
    "\n",
    "            # 2. Calculate and accumulate loss\n",
    "            loss = loss_fn(test_pred_logits, y)\n",
    "            test_loss += loss.item()\n",
    "            \n",
    "            # Calculate and accumulate accuracy\n",
    "            test_pred_labels = test_pred_logits.argmax(dim=1)\n",
    "            test_acc += ((test_pred_labels == y).sum().item()/len(test_pred_labels))\n",
    "            \n",
    "    # Adjust metrics to get average loss and accuracy per batch \n",
    "    test_loss = test_loss / len(dataloader)\n",
    "    test_acc = test_acc / len(dataloader)\n",
    "    return test_loss, test_acc"
   ]
  },
  {
   "cell_type": "code",
   "execution_count": 46,
   "metadata": {},
   "outputs": [],
   "source": [
    "def train(model: torch.nn.Module, \n",
    "          train_dataloader: torch.utils.data.DataLoader, \n",
    "          test_dataloader: torch.utils.data.DataLoader, \n",
    "          optimizer: torch.optim.Optimizer,\n",
    "          loss_fn: torch.nn.Module = nn.CrossEntropyLoss(),\n",
    "          epochs: int = 5):\n",
    "    \n",
    "    # 2. Create empty results dictionary\n",
    "    results = {\"train_loss\": [],\n",
    "        \"train_acc\": [],\n",
    "        \"test_loss\": [],\n",
    "        \"test_acc\": []\n",
    "    }\n",
    "    \n",
    "    # 3. Loop through training and testing steps for a number of epochs\n",
    "    for epoch in tqdm(range(epochs)):\n",
    "        train_loss, train_acc = train_step(model=model,\n",
    "                                           dataloader=train_dataloader,\n",
    "                                           loss_fn=loss_fn,\n",
    "                                           optimizer=optimizer)\n",
    "        test_loss, test_acc = test_step(model=model,\n",
    "            dataloader=test_dataloader,\n",
    "            loss_fn=loss_fn)\n",
    "        \n",
    "        # 4. Print out what's happening\n",
    "\n",
    "        print(\n",
    "                f\"Epoch: {epoch+1} | \"\n",
    "                f\"train_loss: {train_loss:.4f} | \"\n",
    "                f\"train_acc: {train_acc:.4f} | \"\n",
    "                f\"test_loss: {test_loss:.4f} | \"\n",
    "                f\"test_acc: {test_acc:.4f}\"\n",
    "        )\n",
    "\n",
    "        # 5. Update results dictionary\n",
    "        results[\"train_loss\"].append(train_loss)\n",
    "        results[\"train_acc\"].append(train_acc)\n",
    "        results[\"test_loss\"].append(test_loss)\n",
    "        results[\"test_acc\"].append(test_acc)\n",
    "    # 6. Return the filled results at the end of the epochs\n",
    "    return results"
   ]
  },
  {
   "cell_type": "code",
   "execution_count": 47,
   "metadata": {},
   "outputs": [
    {
     "name": "stderr",
     "output_type": "stream",
     "text": [
      " 20%|██        | 1/5 [00:23<01:32, 23.24s/it]"
     ]
    },
    {
     "name": "stdout",
     "output_type": "stream",
     "text": [
      "Epoch: 1 | train_loss: 2.2872 | train_acc: 0.1543 | test_loss: 2.2432 | test_acc: 0.1894\n"
     ]
    },
    {
     "name": "stderr",
     "output_type": "stream",
     "text": [
      " 40%|████      | 2/5 [00:44<01:05, 21.78s/it]"
     ]
    },
    {
     "name": "stdout",
     "output_type": "stream",
     "text": [
      "Epoch: 2 | train_loss: 1.4419 | train_acc: 0.5090 | test_loss: 0.7135 | test_acc: 0.7743\n"
     ]
    },
    {
     "name": "stderr",
     "output_type": "stream",
     "text": [
      " 60%|██████    | 3/5 [01:04<00:42, 21.34s/it]"
     ]
    },
    {
     "name": "stdout",
     "output_type": "stream",
     "text": [
      "Epoch: 3 | train_loss: 0.5196 | train_acc: 0.8379 | test_loss: 0.2926 | test_acc: 0.9170\n"
     ]
    },
    {
     "name": "stderr",
     "output_type": "stream",
     "text": [
      " 80%|████████  | 4/5 [01:26<00:21, 21.31s/it]"
     ]
    },
    {
     "name": "stdout",
     "output_type": "stream",
     "text": [
      "Epoch: 4 | train_loss: 0.2612 | train_acc: 0.9239 | test_loss: 0.2444 | test_acc: 0.9229\n"
     ]
    },
    {
     "name": "stderr",
     "output_type": "stream",
     "text": [
      "100%|██████████| 5/5 [01:47<00:00, 21.57s/it]"
     ]
    },
    {
     "name": "stdout",
     "output_type": "stream",
     "text": [
      "Epoch: 5 | train_loss: 0.1874 | train_acc: 0.9454 | test_loss: 0.1516 | test_acc: 0.9552\n"
     ]
    },
    {
     "name": "stderr",
     "output_type": "stream",
     "text": [
      "\n"
     ]
    }
   ],
   "source": [
    "model_results = train(model, train_loader, test_loader, optimizer, loss_fn)"
   ]
  },
  {
   "cell_type": "code",
   "execution_count": 48,
   "metadata": {},
   "outputs": [
    {
     "data": {
      "image/png": "[encoded data removed]",
      "text/plain": [
       "<Figure size 1500x700 with 2 Axes>"
      ]
     },
     "metadata": {},
     "output_type": "display_data"
    }
   ],
   "source": [
    "def plot_loss_curves(results):\n",
    "\n",
    "    \"\"\"Plots training curves of a results dictionary.\n",
    "\n",
    "    Args:\n",
    "        results (dict): dictionary containing list of values, e.g.\n",
    "            {\"train_loss\": [...],\n",
    "             \"train_acc\": [...],\n",
    "             \"test_loss\": [...],\n",
    "             \"test_acc\": [...]}\n",
    "    \"\"\"\n",
    "    \n",
    "    # Get the loss values of the results dictionary (training and test)\n",
    "    loss = results['train_loss']\n",
    "    test_loss = results['test_loss']\n",
    "\n",
    "    # Get the accuracy values of the results dictionary (training and test)\n",
    "    accuracy = results['train_acc']\n",
    "    test_accuracy = results['test_acc']\n",
    "\n",
    "    # Figure out how many epochs there were\n",
    "    epochs = range(len(results['train_loss']))\n",
    "\n",
    "    # Setup a plot \n",
    "    plt.figure(figsize=(15, 7))\n",
    "\n",
    "    # Plot loss\n",
    "    plt.subplot(1, 2, 1)\n",
    "    plt.plot(epochs, loss, label='train_loss')\n",
    "    plt.plot(epochs, test_loss, label='test_loss')\n",
    "    plt.title('Loss')\n",
    "    plt.xlabel('Epochs')\n",
    "    plt.legend()\n",
    "\n",
    "    # Plot accuracy\n",
    "    plt.subplot(1, 2, 2)\n",
    "    plt.plot(epochs, accuracy, label='train_accuracy')\n",
    "    plt.plot(epochs, test_accuracy, label='test_accuracy')\n",
    "    plt.title('Accuracy')\n",
    "    plt.xlabel('Epochs')\n",
    "    plt.legend();\n",
    "\n",
    "plot_loss_curves(model_results)"
   ]
  },
  {
   "cell_type": "markdown",
   "metadata": {},
   "source": [
    "# Draft Cells"
   ]
  },
  {
   "cell_type": "code",
   "execution_count": 49,
   "metadata": {},
   "outputs": [
    {
     "data": {
      "text/plain": [
       "(torch.Size([32, 40]),\n",
       " torch.Size([32, 10]),\n",
       " torch.Size([32, 10]),\n",
       " torch.Size([32, 10]),\n",
       " torch.Size([32, 10]))"
      ]
     },
     "execution_count": 49,
     "metadata": {},
     "output_type": "execute_result"
    }
   ],
   "source": [
    "torch.manual_seed(42)\n",
    "z = torch.randn(size=(32, 40))\n",
    "y = z.clone()\n",
    "x = z + y\n",
    "x = x.squeeze()\n",
    "x1, x2, x3, x4 = x.chunk(4, 1)\n",
    "x.shape, x1.shape, x2.shape, x3.shape, x4.shape"
   ]
  },
  {
   "cell_type": "code",
   "execution_count": 50,
   "metadata": {},
   "outputs": [
    {
     "data": {
      "text/plain": [
       "(torch.Size([100, 28, 28]), torch.float32)"
      ]
     },
     "execution_count": 50,
     "metadata": {},
     "output_type": "execute_result"
    }
   ],
   "source": [
    "# Understanding the view method used in LSTMCell\n",
    "test = img.view(-1, 28, 28)\n",
    "test.shape, test.dtype"
   ]
  }
 ],
 "metadata": {
  "kernelspec": {
   "display_name": "torch_gpuenv",
   "language": "python",
   "name": "python3"
  },
  "language_info": {
   "codemirror_mode": {
    "name": "ipython",
    "version": 3
   },
   "file_extension": ".py",
   "mimetype": "text/x-python",
   "name": "python",
   "nbconvert_exporter": "python",
   "pygments_lexer": "ipython3",
   "version": "3.9.16"
  },
  "orig_nbformat": 4,
  "vscode": {
   "interpreter": {
    "hash": "a747e6e515b5abeed2acd80352e00cdac9fb41c59db040214a4bbc0d7379b781"
   }
  }
 },
 "nbformat": 4,
 "nbformat_minor": 2
}
