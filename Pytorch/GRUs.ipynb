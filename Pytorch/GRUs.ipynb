{
 "cells": [
  {
   "cell_type": "markdown",
   "metadata": {},
   "source": [
    "## Building GRUs with PyTorch\n",
    "\n",
    "Today we are going to build GRUs from scratch using PyTorch.\n",
    "\n",
    "We'll implement the core GRUs cell and create a multi-layered model, gaining a deep understanding of how GRUs process sequential data.\n",
    "\n",
    "**Below information and images are mainly collected from below articles and references:**\n",
    "    \n",
    "- [Understanding Gated Recurrent Unit (GRU) in Deep Learning](https://medium.com/@anishnama20/understanding-gated-recurrent-unit-gru-in-deep-learning-2e54923f3e2)\n",
    "    \n"
   ]
  },
  {
   "cell_type": "code",
   "execution_count": 1,
   "metadata": {},
   "outputs": [
    {
     "name": "stderr",
     "output_type": "stream",
     "text": [
      "c:\\Users\\PC\\anaconda3\\envs\\torch_gpuenv\\lib\\site-packages\\tqdm\\auto.py:22: TqdmWarning: IProgress not found. Please update jupyter and ipywidgets. See https://ipywidgets.readthedocs.io/en/stable/user_install.html\n",
      "  from .autonotebook import tqdm as notebook_tqdm\n"
     ]
    },
    {
     "data": {
      "text/plain": [
       "'cuda'"
      ]
     },
     "execution_count": 1,
     "metadata": {},
     "output_type": "execute_result"
    }
   ],
   "source": [
    "import torch\n",
    "import torch.nn as nn\n",
    "import torchvision.transforms as transforms\n",
    "import torchvision.datasets as dsets\n",
    "from tqdm import tqdm\n",
    "import matplotlib.pyplot as plt\n",
    "import math\n",
    "torch.manual_seed(42)\n",
    "torch.cuda.manual_seed_all(42)\n",
    "device = 'cuda' if torch.cuda.is_available() else 'cpu'\n",
    "device"
   ]
  },
  {
   "cell_type": "code",
   "execution_count": 2,
   "metadata": {},
   "outputs": [],
   "source": [
    "# Prepairing the MNIST dataset\n",
    "train_dataset = dsets.MNIST(root='./data', \n",
    "                            train=True, \n",
    "                            transform=transforms.ToTensor(),\n",
    "                            download=True)\n",
    " \n",
    "test_dataset = dsets.MNIST(root='./data', \n",
    "                           train=False, \n",
    "                           transform=transforms.ToTensor())\n",
    " \n",
    "batch_size = 100\n",
    "\n",
    "train_loader = torch.utils.data.DataLoader(dataset=train_dataset, \n",
    "                                           batch_size=batch_size, \n",
    "                                           shuffle=True)\n",
    " \n",
    "test_loader = torch.utils.data.DataLoader(dataset=test_dataset, \n",
    "                                          batch_size=batch_size, \n",
    "                                          shuffle=False)\n"
   ]
  },
  {
   "cell_type": "code",
   "execution_count": 3,
   "metadata": {},
   "outputs": [
    {
     "data": {
      "text/plain": [
       "(torch.Size([100, 1, 28, 28]), torch.Size([100]))"
      ]
     },
     "execution_count": 3,
     "metadata": {},
     "output_type": "execute_result"
    }
   ],
   "source": [
    "img, label = next(iter(train_loader))\n",
    "img.shape, label.shape"
   ]
  },
  {
   "cell_type": "code",
   "execution_count": 4,
   "metadata": {},
   "outputs": [
    {
     "data": {
      "text/plain": [
       "['0 - zero',\n",
       " '1 - one',\n",
       " '2 - two',\n",
       " '3 - three',\n",
       " '4 - four',\n",
       " '5 - five',\n",
       " '6 - six',\n",
       " '7 - seven',\n",
       " '8 - eight',\n",
       " '9 - nine']"
      ]
     },
     "execution_count": 4,
     "metadata": {},
     "output_type": "execute_result"
    }
   ],
   "source": [
    "classes = train_dataset.classes\n",
    "classes"
   ]
  },
  {
   "cell_type": "markdown",
   "metadata": {},
   "source": [
    "# Building The Model"
   ]
  },
  {
   "cell_type": "markdown",
   "metadata": {},
   "source": [
    "## Demystifying the GRU Architecture\n",
    "\n",
    "The Gated Recurrent Unit (GRU) architecture is a powerful tool for handling sequential data. Here's a breakdown of its key components:\n",
    "\n",
    "**1. Input Layer:**\n",
    "  - This layer acts as the entry point, receiving sequential data like words in a sentence or values in a time series. It feeds this data into the core GRU unit.\n",
    "\n",
    "**2. Hidden Layer:**\n",
    "  - This is the heart of the GRU, where the magic happens. At each time step, the hidden state is updated based on two things:\n",
    "     - The current input from the input layer.\n",
    "     - The previous hidden state, which essentially represents the network's \"memory\" of what it has seen so far.\n",
    "\n",
    "**3. Reset Gate:**\n",
    "  - This gate acts like a selective memory eraser. It takes the previous hidden state and the current input as inputs and outputs a value between 0 and 1. \n",
    "     - A value closer to 1 signifies \"forgetting\" more of the previous hidden state, while a value near 0 indicates retaining most of it.\n",
    "\n",
    "**4. Update Gate:**\n",
    "  - This gate is the information control center. It determines how much of a newly proposed \"candidate activation\" (explained next) to incorporate into the new hidden state. Similar to the reset gate, it takes the previous hidden state and current input, outputting values between 0 and 1.\n",
    "\n",
    "**5. Candidate Activation Vector:**\n",
    "  - This vector proposes a new hidden state based on the current input and a \"reset\" version of the previous hidden state (influenced by the reset gate). It's calculated using a tanh activation function, limiting its output between -1 and 1.\n",
    "\n",
    "**6. Output Layer (not shown in code):**\n",
    "  - While not explicitly shown in the provided code, the final hidden state is typically fed into an output layer. This layer's output format depends on the task: a single number, a sequence of numbers, or even a probability distribution.\n",
    "\n",
    "By using these components, GRUs can effectively learn long-term dependencies within sequential data, making them valuable tools for various applications. "
   ]
  },
  {
   "cell_type": "markdown",
   "metadata": {},
   "source": [
    "<img src='/images/gru_archi.png'>"
   ]
  },
  {
   "cell_type": "code",
   "execution_count": 5,
   "metadata": {},
   "outputs": [],
   "source": [
    "class GRUCell(nn.Module):\n",
    "    \"\"\"\n",
    "    Implements a Gated Recurrent Unit (GRU) cell for processing sequential data.\n",
    "\n",
    "    Args:\n",
    "        input_size (int): Dimensionality of the input data.\n",
    "        hidden_size (int): Dimensionality of the hidden state.\n",
    "        bias (bool, optional): Whether to include bias terms in the linear layers. Defaults to True.\n",
    "    \"\"\"\n",
    "\n",
    "    def __init__(self, input_size, hidden_size, bias=True):\n",
    "        super(GRUCell, self).__init__()\n",
    "        self.input_size = input_size\n",
    "        self.hidden_size = hidden_size\n",
    "        self.bias = bias\n",
    "\n",
    "        # Linear layers for transforming input (x) and hidden state (h)\n",
    "        self.x2h = nn.Linear(input_size, 3 * hidden_size, bias=bias)\n",
    "        self.h2h = nn.Linear(hidden_size, 3 * hidden_size, bias=bias)\n",
    "\n",
    "        # Reset parameters for weight initialization\n",
    "        self.reset_parameters()\n",
    "\n",
    "    def reset_parameters(self):\n",
    "        \"\"\"\n",
    "        Initializes the weights of the linear layers using a uniform distribution.\n",
    "        \"\"\"\n",
    "        std = 1.0 / math.sqrt(self.hidden_size)\n",
    "        for w in self.parameters():\n",
    "            w.data.uniform_(-std, std)\n",
    "\n",
    "    def forward(self, x, hidden):\n",
    "        \"\"\"\n",
    "        Performs the forward pass of the GRU cell, updating the hidden state based on the current input and previous hidden state.\n",
    "\n",
    "        Args:\n",
    "            x (torch.Tensor): Input data of shape (batch_size, input_size).\n",
    "            hidden (torch.Tensor): Previous hidden state of shape (batch_size, hidden_size).\n",
    "\n",
    "        Returns:\n",
    "            torch.Tensor: Updated hidden state of shape (batch_size, hidden_size).\n",
    "        \"\"\"\n",
    "\n",
    "        # Reshape input to ensure batch dimension is first (if needed)\n",
    "        x = x.view(-1, x.size(1))\n",
    "\n",
    "        # Combine transformations of input (gate_x) and hidden state (gate_h)\n",
    "        gate_x = self.x2h(x)  # (batch_size, 3 * hidden_size)\n",
    "        gate_h = self.h2h(hidden)  # (batch_size, 3 * hidden_size)\n",
    "\n",
    "        # Remove unnecessary dimensions\n",
    "        gate_x = gate_x.squeeze()  # (batch_size, 3 * hidden_size)\n",
    "        gate_h = gate_h.squeeze()  # (batch_size, 3 * hidden_size)\n",
    "\n",
    "        # Split combined gates into reset, update, and new gate information for cell and hidden state\n",
    "        i_r, i_i, i_n = gate_x.chunk(3, 1)  # (batch_size, hidden_size) each\n",
    "        h_r, h_i, h_n = gate_h.chunk(3, 1)  # (batch_size, hidden_size) each\n",
    "\n",
    "        # Calculate reset gate using sigmoid activation\n",
    "        resetgate = torch.sigmoid(i_r + h_r)  # (batch_size, hidden_size)\n",
    "\n",
    "        # Calculate update gate using sigmoid activation\n",
    "        updategate = torch.sigmoid(i_i + h_i)  # (batch_size, hidden_size)\n",
    "\n",
    "        # Calculate candidate activation vector using tanh activation\n",
    "        candidate_activation_vector = torch.tanh(i_n + (resetgate * h_n))  # (batch_size, hidden_size)\n",
    "\n",
    "        # Update hidden state using candidate activation and update gate\n",
    "        hy = candidate_activation_vector + updategate * (hidden - candidate_activation_vector)  # (batch_size, hidden_size)\n",
    "\n",
    "        return hy\n"
   ]
  },
  {
   "cell_type": "code",
   "execution_count": 6,
   "metadata": {},
   "outputs": [],
   "source": [
    "class GRUModel(nn.Module):\n",
    "    \"\"\"\n",
    "    Implements a model using a multi-layer GRU architecture for sequential data.\n",
    "\n",
    "    Args:\n",
    "        input_dim (int): Dimensionality of the input data.\n",
    "        hidden_dim (int): Dimensionality of the hidden state.\n",
    "        layer_dim (int): Number of GRU layers.\n",
    "        output_dim (int): Dimensionality of the output.\n",
    "        bias (bool, optional): Whether to include bias terms in linear layers. Defaults to True.\n",
    "    \"\"\"\n",
    "\n",
    "    def __init__(self, input_dim, hidden_dim, layer_dim, output_dim, bias=True):\n",
    "        super(GRUModel, self).__init__()\n",
    "\n",
    "        # Store model configuration\n",
    "        self.hidden_dim = hidden_dim\n",
    "        self.layer_dim = layer_dim\n",
    "\n",
    "        # Create GRU layers\n",
    "        self.gru_cells = nn.ModuleList([GRUCell(input_dim, hidden_dim, bias) for _ in range(layer_dim)])\n",
    "\n",
    "        # Final fully connected layer\n",
    "        self.fc = nn.Linear(hidden_dim, output_dim)\n",
    "\n",
    "    def forward(self, x):\n",
    "        \"\"\"\n",
    "        Performs the forward pass of the model.\n",
    "\n",
    "        Args:\n",
    "            x (torch.Tensor): Input data of shape (batch_size, seq_length, input_dim).\n",
    "\n",
    "        Returns:\n",
    "            torch.Tensor: Output of shape (batch_size, output_dim).\n",
    "        \"\"\"\n",
    "\n",
    "        # Initialize hidden states for all layers\n",
    "        h0 = torch.zeros(self.layer_dim, x.size(0), self.hidden_dim).cuda()\n",
    "\n",
    "        # Iterate through the sequence\n",
    "        outs = []\n",
    "        hn = h0[0, :, :]  # Hidden state for the first layer\n",
    "        for seq in range(x.size(1)):\n",
    "            hn = self.gru_cells[0](x[:, seq, :], hn)  # Pass input and hidden state through first layer\n",
    "            for i in range(1, self.layer_dim):  # Pass hidden state through subsequent layers\n",
    "                hn = self.gru_cells[i](hn, hn)\n",
    "            outs.append(hn)  # Store hidden states\n",
    "\n",
    "        # Use the hidden state from the last time step of the last layer as output\n",
    "        out = outs[-1].squeeze()\n",
    "\n",
    "        # Apply final linear transformation\n",
    "        out = self.fc(out)\n",
    "\n",
    "        return out\n",
    "    \n",
    "input_dim = 28\n",
    "hidden_dim = 128\n",
    "layer_dim = 1  # one or stacked layers\n",
    "output_dim = len(classes)\n",
    "seq_dim = 28\n",
    "\n",
    "model = GRUModel(input_dim, hidden_dim, layer_dim, output_dim).to(device)"
   ]
  },
  {
   "cell_type": "code",
   "execution_count": 7,
   "metadata": {},
   "outputs": [],
   "source": [
    "loss_fn = nn.CrossEntropyLoss()\n",
    "optimizer = torch.optim.Adam(model.parameters(), lr=0.003)"
   ]
  },
  {
   "cell_type": "code",
   "execution_count": 8,
   "metadata": {},
   "outputs": [],
   "source": [
    "def train_step(model: torch.nn.Module, \n",
    "               dataloader: torch.utils.data.DataLoader, \n",
    "               loss_fn: torch.nn.Module, \n",
    "               optimizer: torch.optim.Optimizer):\n",
    "    # Put model in train mode\n",
    "    model.train()\n",
    "    \n",
    "    # Setup train loss and train accuracy values\n",
    "    train_loss, train_acc = 0, 0\n",
    "    \n",
    "    # Loop through data loader data batches\n",
    "    for batch, (X, y) in enumerate(dataloader):\n",
    "        # Send data to target device\n",
    "        X = X.view(-1, seq_dim, input_dim) # Reshaping the inputs to be (BATCH_SIZE, TIMESTEP, INPUT_FEATURES)\n",
    "        X, y = X.to(device), y.to(device)\n",
    "\n",
    "        # 1. Forward pass\n",
    "        y_pred = model(X)\n",
    "\n",
    "        # 2. Calculate  and accumulate loss\n",
    "        loss = loss_fn(y_pred, y)\n",
    "        train_loss += loss.item() \n",
    "\n",
    "        # 3. Optimizer zero grad\n",
    "        optimizer.zero_grad()\n",
    "\n",
    "        # 4. Loss backward\n",
    "        loss.backward()\n",
    "\n",
    "        \n",
    "        # 5. Optimizer step\n",
    "        optimizer.step()\n",
    "        \n",
    "        # Calculate and accumulate accuracy metric across all batches\n",
    "        y_pred_class = torch.argmax(torch.softmax(y_pred, dim=1), dim=1)\n",
    "        train_acc += (y_pred_class == y).sum().item()/len(y_pred)\n",
    "\n",
    "    # scheduler.step()\n",
    "\n",
    "    # Adjust metrics to get average loss and accuracy per batch \n",
    "    train_loss = train_loss / len(dataloader)\n",
    "    train_acc = train_acc / len(dataloader)\n",
    "    return train_loss, train_acc"
   ]
  },
  {
   "cell_type": "code",
   "execution_count": 9,
   "metadata": {},
   "outputs": [],
   "source": [
    "def test_step(model: torch.nn.Module, \n",
    "              dataloader: torch.utils.data.DataLoader, \n",
    "              loss_fn: torch.nn.Module):\n",
    "    # Put model in eval mode\n",
    "    model.eval() \n",
    "    \n",
    "    # Setup test loss and test accuracy values\n",
    "    test_loss, test_acc = 0, 0\n",
    "    \n",
    "    # Turn on inference context manager\n",
    "    with torch.inference_mode():\n",
    "        # Loop through DataLoader batches\n",
    "        for batch, (X, y) in enumerate(dataloader):\n",
    "            # Send data to target device\n",
    "            X = X.view(-1, seq_dim, input_dim)\n",
    "            X, y = X.to(device), y.to(device)\n",
    "    \n",
    "            # 1. Forward pass\n",
    "            test_pred_logits = model(X)\n",
    "\n",
    "            # 2. Calculate and accumulate loss\n",
    "            loss = loss_fn(test_pred_logits, y)\n",
    "            test_loss += loss.item()\n",
    "            \n",
    "            # Calculate and accumulate accuracy\n",
    "            test_pred_labels = test_pred_logits.argmax(dim=1)\n",
    "            test_acc += ((test_pred_labels == y).sum().item()/len(test_pred_labels))\n",
    "            \n",
    "    # Adjust metrics to get average loss and accuracy per batch \n",
    "    test_loss = test_loss / len(dataloader)\n",
    "    test_acc = test_acc / len(dataloader)\n",
    "    return test_loss, test_acc"
   ]
  },
  {
   "cell_type": "code",
   "execution_count": 10,
   "metadata": {},
   "outputs": [],
   "source": [
    "def train(model: torch.nn.Module, \n",
    "          train_dataloader: torch.utils.data.DataLoader, \n",
    "          test_dataloader: torch.utils.data.DataLoader, \n",
    "          optimizer: torch.optim.Optimizer,\n",
    "          loss_fn: torch.nn.Module = nn.CrossEntropyLoss(),\n",
    "          epochs: int = 5):\n",
    "    \n",
    "    # 2. Create empty results dictionary\n",
    "    results = {\"train_loss\": [],\n",
    "        \"train_acc\": [],\n",
    "        \"test_loss\": [],\n",
    "        \"test_acc\": []\n",
    "    }\n",
    "    \n",
    "    # 3. Loop through training and testing steps for a number of epochs\n",
    "    for epoch in tqdm(range(epochs)):\n",
    "        train_loss, train_acc = train_step(model=model,\n",
    "                                           dataloader=train_dataloader,\n",
    "                                           loss_fn=loss_fn,\n",
    "                                           optimizer=optimizer)\n",
    "        test_loss, test_acc = test_step(model=model,\n",
    "            dataloader=test_dataloader,\n",
    "            loss_fn=loss_fn)\n",
    "        \n",
    "        # 4. Print out what's happening\n",
    "\n",
    "        print(\n",
    "                f\"Epoch: {epoch+1} | \"\n",
    "                f\"train_loss: {train_loss:.4f} | \"\n",
    "                f\"train_acc: {train_acc:.4f} | \"\n",
    "                f\"test_loss: {test_loss:.4f} | \"\n",
    "                f\"test_acc: {test_acc:.4f}\"\n",
    "        )\n",
    "\n",
    "        # 5. Update results dictionary\n",
    "        results[\"train_loss\"].append(train_loss)\n",
    "        results[\"train_acc\"].append(train_acc)\n",
    "        results[\"test_loss\"].append(test_loss)\n",
    "        results[\"test_acc\"].append(test_acc)\n",
    "    # 6. Return the filled results at the end of the epochs\n",
    "    return results"
   ]
  },
  {
   "cell_type": "code",
   "execution_count": 11,
   "metadata": {},
   "outputs": [
    {
     "name": "stderr",
     "output_type": "stream",
     "text": [
      " 20%|██        | 1/5 [00:24<01:38, 24.55s/it]"
     ]
    },
    {
     "name": "stdout",
     "output_type": "stream",
     "text": [
      "Epoch: 1 | train_loss: 0.4268 | train_acc: 0.8598 | test_loss: 0.1455 | test_acc: 0.9567\n"
     ]
    },
    {
     "name": "stderr",
     "output_type": "stream",
     "text": [
      " 40%|████      | 2/5 [00:46<01:09, 23.27s/it]"
     ]
    },
    {
     "name": "stdout",
     "output_type": "stream",
     "text": [
      "Epoch: 2 | train_loss: 0.0998 | train_acc: 0.9700 | test_loss: 0.0850 | test_acc: 0.9746\n"
     ]
    },
    {
     "name": "stderr",
     "output_type": "stream",
     "text": [
      " 60%|██████    | 3/5 [01:09<00:46, 23.01s/it]"
     ]
    },
    {
     "name": "stdout",
     "output_type": "stream",
     "text": [
      "Epoch: 3 | train_loss: 0.0702 | train_acc: 0.9789 | test_loss: 0.0682 | test_acc: 0.9803\n"
     ]
    },
    {
     "name": "stderr",
     "output_type": "stream",
     "text": [
      " 80%|████████  | 4/5 [01:32<00:22, 22.85s/it]"
     ]
    },
    {
     "name": "stdout",
     "output_type": "stream",
     "text": [
      "Epoch: 4 | train_loss: 0.0539 | train_acc: 0.9839 | test_loss: 0.0722 | test_acc: 0.9796\n"
     ]
    },
    {
     "name": "stderr",
     "output_type": "stream",
     "text": [
      "100%|██████████| 5/5 [01:54<00:00, 22.97s/it]"
     ]
    },
    {
     "name": "stdout",
     "output_type": "stream",
     "text": [
      "Epoch: 5 | train_loss: 0.0457 | train_acc: 0.9858 | test_loss: 0.0548 | test_acc: 0.9827\n"
     ]
    },
    {
     "name": "stderr",
     "output_type": "stream",
     "text": [
      "\n"
     ]
    }
   ],
   "source": [
    "model_results = train(model, train_loader, test_loader, optimizer, loss_fn)"
   ]
  },
  {
   "cell_type": "code",
   "execution_count": 12,
   "metadata": {},
   "outputs": [
    {
     "data": {
      "image/png": "[encoded data removed]",
      "text/plain": [
       "<Figure size 1500x700 with 2 Axes>"
      ]
     },
     "metadata": {},
     "output_type": "display_data"
    }
   ],
   "source": [
    "def plot_loss_curves(results):\n",
    "\n",
    "    \"\"\"Plots training curves of a results dictionary.\n",
    "\n",
    "    Args:\n",
    "        results (dict): dictionary containing list of values, e.g.\n",
    "            {\"train_loss\": [...],\n",
    "             \"train_acc\": [...],\n",
    "             \"test_loss\": [...],\n",
    "             \"test_acc\": [...]}\n",
    "    \"\"\"\n",
    "    \n",
    "    # Get the loss values of the results dictionary (training and test)\n",
    "    loss = results['train_loss']\n",
    "    test_loss = results['test_loss']\n",
    "\n",
    "    # Get the accuracy values of the results dictionary (training and test)\n",
    "    accuracy = results['train_acc']\n",
    "    test_accuracy = results['test_acc']\n",
    "\n",
    "    # Figure out how many epochs there were\n",
    "    epochs = range(len(results['train_loss']))\n",
    "\n",
    "    # Setup a plot \n",
    "    plt.figure(figsize=(15, 7))\n",
    "\n",
    "    # Plot loss\n",
    "    plt.subplot(1, 2, 1)\n",
    "    plt.plot(epochs, loss, label='train_loss')\n",
    "    plt.plot(epochs, test_loss, label='test_loss')\n",
    "    plt.title('Loss')\n",
    "    plt.xlabel('Epochs')\n",
    "    plt.legend()\n",
    "\n",
    "    # Plot accuracy\n",
    "    plt.subplot(1, 2, 2)\n",
    "    plt.plot(epochs, accuracy, label='train_accuracy')\n",
    "    plt.plot(epochs, test_accuracy, label='test_accuracy')\n",
    "    plt.title('Accuracy')\n",
    "    plt.xlabel('Epochs')\n",
    "    plt.legend();\n",
    "\n",
    "plot_loss_curves(model_results)"
   ]
  },
  {
   "cell_type": "markdown",
   "metadata": {},
   "source": [
    "# Draft Cells"
   ]
  },
  {
   "cell_type": "code",
   "execution_count": 13,
   "metadata": {},
   "outputs": [
    {
     "data": {
      "text/plain": [
       "(torch.Size([32, 40]),\n",
       " torch.Size([32, 10]),\n",
       " torch.Size([32, 10]),\n",
       " torch.Size([32, 10]),\n",
       " torch.Size([32, 10]))"
      ]
     },
     "execution_count": 13,
     "metadata": {},
     "output_type": "execute_result"
    }
   ],
   "source": [
    "torch.manual_seed(42)\n",
    "z = torch.randn(size=(32, 40))\n",
    "y = z.clone()\n",
    "x = z + y\n",
    "x = x.squeeze()\n",
    "x1, x2, x3, x4 = x.chunk(4, 1)\n",
    "x.shape, x1.shape, x2.shape, x3.shape, x4.shape"
   ]
  },
  {
   "cell_type": "code",
   "execution_count": 14,
   "metadata": {},
   "outputs": [
    {
     "data": {
      "text/plain": [
       "32"
      ]
     },
     "execution_count": 14,
     "metadata": {},
     "output_type": "execute_result"
    }
   ],
   "source": [
    "torch.manual_seed(42)\n",
    "x = torch.randn(size=(32, 40))\n",
    "z = x.size(0)\n",
    "z"
   ]
  },
  {
   "cell_type": "code",
   "execution_count": 15,
   "metadata": {},
   "outputs": [
    {
     "data": {
      "text/plain": [
       "(torch.Size([100, 28, 28]), torch.float32)"
      ]
     },
     "execution_count": 15,
     "metadata": {},
     "output_type": "execute_result"
    }
   ],
   "source": [
    "# Understanding the view method used in LSTMCell\n",
    "test = img.view(-1, 28, 28)\n",
    "test.shape, test.dtype"
   ]
  }
 ],
 "metadata": {
  "kernelspec": {
   "display_name": "torch_gpuenv",
   "language": "python",
   "name": "python3"
  },
  "language_info": {
   "codemirror_mode": {
    "name": "ipython",
    "version": 3
   },
   "file_extension": ".py",
   "mimetype": "text/x-python",
   "name": "python",
   "nbconvert_exporter": "python",
   "pygments_lexer": "ipython3",
   "version": "3.9.16"
  },
  "orig_nbformat": 4,
  "vscode": {
   "interpreter": {
    "hash": "a747e6e515b5abeed2acd80352e00cdac9fb41c59db040214a4bbc0d7379b781"
   }
  }
 },
 "nbformat": 4,
 "nbformat_minor": 2
}
